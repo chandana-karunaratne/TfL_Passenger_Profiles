{
 "cells": [
  {
   "cell_type": "markdown",
   "metadata": {},
   "source": [
    "# MSc Data Science Dissertation\n",
    "\n",
    "## Sample Dataset Analysis"
   ]
  },
  {
   "cell_type": "markdown",
   "metadata": {},
   "source": [
    "#### Name: Chandana Karunaratne\n",
    "#### Student ID: 1621633\n",
    "#### Date: 24 August 2017"
   ]
  },
  {
   "cell_type": "code",
   "execution_count": 129,
   "metadata": {
    "collapsed": true
   },
   "outputs": [],
   "source": [
    "# The code in this file is used to analyze the travel patterns of passengers using the following steps:\n",
    "\n",
    "# Step 1: Read in the sample data on TfL passenger journeys\n",
    "# Step 2: Clean and prepare the data so that the time and the date on which each journey takes place is recoded to facilitate analysis\n",
    "# Step 3: Create a dataframe of unique passengers and their respective most frequently used station of entry\n",
    "# Step 4: Assign each passenger his most likely socio-demographic characteristics based on his \n",
    "# approximated place of residence (proxied by his most frequently used station of entry)\n",
    "# Step 5: Conduct cluster analysis on this dataset of unique passengers and their corresponding socio-demographic characteristics\n",
    "# Step 6: Obtain information on the travel patterns of each cluster, including the most frequently used stations,\n",
    "# the distribution of travel throughout a day, and the distribution of travel throughout a week."
   ]
  },
  {
   "cell_type": "code",
   "execution_count": null,
   "metadata": {
    "collapsed": true
   },
   "outputs": [],
   "source": []
  },
  {
   "cell_type": "code",
   "execution_count": 2,
   "metadata": {
    "collapsed": true
   },
   "outputs": [],
   "source": [
    "import pandas as pd\n",
    "import numpy as np\n",
    "import matplotlib.pyplot as plt\n",
    "import matplotlib\n",
    "import patsy\n",
    "import statsmodels.formula.api as sm\n"
   ]
  },
  {
   "cell_type": "markdown",
   "metadata": {},
   "source": [
    "## Step 1: Read in the sample data on TfL passenger journeys"
   ]
  },
  {
   "cell_type": "code",
   "execution_count": 3,
   "metadata": {
    "collapsed": false
   },
   "outputs": [],
   "source": [
    "# Read in the sample data (they are in parts because creating csv files for the entire sample at once took too much memory)\n",
    "# These files were obtained by getting a random sample of records for each day in the Spark database\n",
    "\n",
    "sample1_df = pd.read_csv(\"Full_Sample_Part1.csv\")\n",
    "sample2_df = pd.read_csv(\"Full_Sample_Part2.csv\")\n",
    "sample3_df = pd.read_csv(\"Full_Sample_Part3.csv\")\n",
    "sample4_df = pd.read_csv(\"Full_Sample_Part4.csv\")\n",
    "sample5_df = pd.read_csv(\"Full_Sample_Part5.csv\")\n",
    "sample6_df = pd.read_csv(\"Full_Sample_Part6.csv\")\n",
    "sample7_df = pd.read_csv(\"Full_Sample_Part7.csv\")\n",
    "sample8_df = pd.read_csv(\"Full_Sample_Part8.csv\")\n"
   ]
  },
  {
   "cell_type": "code",
   "execution_count": 4,
   "metadata": {
    "collapsed": true
   },
   "outputs": [],
   "source": [
    "# Concatenate all datafromes into one large dataframe which contains all randomly sampled records\n",
    "\n",
    "frames = [sample1_df, sample2_df, sample3_df, sample4_df, sample5_df, sample6_df, sample7_df, sample8_df]\n",
    "\n",
    "final_df = pd.concat(frames)\n"
   ]
  },
  {
   "cell_type": "code",
   "execution_count": 5,
   "metadata": {
    "collapsed": false
   },
   "outputs": [
    {
     "data": {
      "text/html": [
       "<div>\n",
       "<table border=\"1\" class=\"dataframe\">\n",
       "  <thead>\n",
       "    <tr style=\"text-align: right;\">\n",
       "      <th></th>\n",
       "      <th>PRESTIGEID</th>\n",
       "      <th>PPTPASSENGERAGEKEY</th>\n",
       "      <th>DAYKEY</th>\n",
       "      <th>CARDTYPEKEY</th>\n",
       "      <th>STATIONOFFIRSTENTRYKEY</th>\n",
       "      <th>STATIONOFEXITKEY</th>\n",
       "      <th>TRANSACTIONTIME</th>\n",
       "    </tr>\n",
       "  </thead>\n",
       "  <tbody>\n",
       "    <tr>\n",
       "      <th>0</th>\n",
       "      <td>11170717</td>\n",
       "      <td>-1</td>\n",
       "      <td>12393</td>\n",
       "      <td>15</td>\n",
       "      <td>247</td>\n",
       "      <td>-1</td>\n",
       "      <td>896</td>\n",
       "    </tr>\n",
       "    <tr>\n",
       "      <th>1</th>\n",
       "      <td>31776450</td>\n",
       "      <td>5</td>\n",
       "      <td>12393</td>\n",
       "      <td>15</td>\n",
       "      <td>213</td>\n",
       "      <td>111</td>\n",
       "      <td>1483</td>\n",
       "    </tr>\n",
       "    <tr>\n",
       "      <th>2</th>\n",
       "      <td>6666492</td>\n",
       "      <td>-1</td>\n",
       "      <td>12393</td>\n",
       "      <td>15</td>\n",
       "      <td>76</td>\n",
       "      <td>-1</td>\n",
       "      <td>1126</td>\n",
       "    </tr>\n",
       "    <tr>\n",
       "      <th>3</th>\n",
       "      <td>58927301</td>\n",
       "      <td>-1</td>\n",
       "      <td>12393</td>\n",
       "      <td>15</td>\n",
       "      <td>158</td>\n",
       "      <td>-1</td>\n",
       "      <td>1333</td>\n",
       "    </tr>\n",
       "    <tr>\n",
       "      <th>4</th>\n",
       "      <td>23724328</td>\n",
       "      <td>-1</td>\n",
       "      <td>12393</td>\n",
       "      <td>15</td>\n",
       "      <td>193</td>\n",
       "      <td>-1</td>\n",
       "      <td>1021</td>\n",
       "    </tr>\n",
       "  </tbody>\n",
       "</table>\n",
       "</div>"
      ],
      "text/plain": [
       "   PRESTIGEID  PPTPASSENGERAGEKEY  DAYKEY  CARDTYPEKEY  \\\n",
       "0    11170717                  -1   12393           15   \n",
       "1    31776450                   5   12393           15   \n",
       "2     6666492                  -1   12393           15   \n",
       "3    58927301                  -1   12393           15   \n",
       "4    23724328                  -1   12393           15   \n",
       "\n",
       "   STATIONOFFIRSTENTRYKEY  STATIONOFEXITKEY  TRANSACTIONTIME  \n",
       "0                     247                -1              896  \n",
       "1                     213               111             1483  \n",
       "2                      76                -1             1126  \n",
       "3                     158                -1             1333  \n",
       "4                     193                -1             1021  "
      ]
     },
     "execution_count": 5,
     "metadata": {},
     "output_type": "execute_result"
    }
   ],
   "source": [
    "# Show the head of the final_df dataframe\n",
    "\n",
    "final_df.head()\n"
   ]
  },
  {
   "cell_type": "markdown",
   "metadata": {},
   "source": [
    "## Step 2: Clean and prepare the data so that the time and the date on which each journey takes place is recoded to facilitate analysis"
   ]
  },
  {
   "cell_type": "code",
   "execution_count": 6,
   "metadata": {
    "collapsed": true
   },
   "outputs": [],
   "source": [
    "# Create a new column called 'Timeblock' and assign null values for the timebeing.\n",
    "\n",
    "final_df['Timeblock'] = np.nan\n"
   ]
  },
  {
   "cell_type": "code",
   "execution_count": 7,
   "metadata": {
    "collapsed": true
   },
   "outputs": [],
   "source": [
    "# Assign a timeblock to each value of TRANSACTIONTIME so that each falls into a 2-hour time interval throughout a 24-hour day\n",
    "\n",
    "# Source: https://stackoverflow.com/questions/26886653/pandas-create-new-column-based-on-values-from-other-columns?noredirect=1&lq=1\n",
    "\n",
    "def timeblock(row):\n",
    "    if (row['TRANSACTIONTIME'] >= 0 and row['TRANSACTIONTIME'] < 120):\n",
    "        return 1\n",
    "    elif (row['TRANSACTIONTIME'] >= 120 and row['TRANSACTIONTIME'] < 240):\n",
    "        return 2\n",
    "    elif (row['TRANSACTIONTIME'] >= 240 and row['TRANSACTIONTIME'] < 360):\n",
    "        return 3\n",
    "    elif (row['TRANSACTIONTIME'] >= 360 and row['TRANSACTIONTIME'] < 480):\n",
    "        return 4\n",
    "    elif (row['TRANSACTIONTIME'] >= 480 and row['TRANSACTIONTIME'] < 600):\n",
    "        return 5\n",
    "    elif (row['TRANSACTIONTIME'] >= 600 and row['TRANSACTIONTIME'] < 720):\n",
    "        return 6\n",
    "    elif (row['TRANSACTIONTIME'] >= 720 and row['TRANSACTIONTIME'] < 840):\n",
    "        return 7\n",
    "    elif (row['TRANSACTIONTIME'] >= 840 and row['TRANSACTIONTIME'] < 960):\n",
    "        return 8\n",
    "    elif (row['TRANSACTIONTIME'] >= 960 and row['TRANSACTIONTIME'] < 1080):\n",
    "        return 9\n",
    "    elif (row['TRANSACTIONTIME'] >= 1080 and row['TRANSACTIONTIME'] < 1200):\n",
    "        return 10\n",
    "    elif (row['TRANSACTIONTIME'] >= 1200 and row['TRANSACTIONTIME'] < 1320):\n",
    "        return 11\n",
    "    elif (row['TRANSACTIONTIME'] >= 1320 and row['TRANSACTIONTIME'] < 1440):\n",
    "        return 12\n",
    "    else:\n",
    "        return 99      # assign the value 99 for transaction times that fall outside the 24-hour window\n",
    "\n",
    "\n",
    "final_df['Timeblock'] = final_df.apply(lambda row: timeblock (row), axis=1)\n",
    "    \n",
    "    "
   ]
  },
  {
   "cell_type": "code",
   "execution_count": 8,
   "metadata": {
    "collapsed": false
   },
   "outputs": [
    {
     "data": {
      "text/html": [
       "<div>\n",
       "<table border=\"1\" class=\"dataframe\">\n",
       "  <thead>\n",
       "    <tr style=\"text-align: right;\">\n",
       "      <th></th>\n",
       "      <th>PRESTIGEID</th>\n",
       "      <th>PPTPASSENGERAGEKEY</th>\n",
       "      <th>DAYKEY</th>\n",
       "      <th>CARDTYPEKEY</th>\n",
       "      <th>STATIONOFFIRSTENTRYKEY</th>\n",
       "      <th>STATIONOFEXITKEY</th>\n",
       "      <th>TRANSACTIONTIME</th>\n",
       "      <th>Timeblock</th>\n",
       "    </tr>\n",
       "  </thead>\n",
       "  <tbody>\n",
       "    <tr>\n",
       "      <th>0</th>\n",
       "      <td>11170717</td>\n",
       "      <td>-1</td>\n",
       "      <td>12393</td>\n",
       "      <td>15</td>\n",
       "      <td>247</td>\n",
       "      <td>-1</td>\n",
       "      <td>896</td>\n",
       "      <td>8</td>\n",
       "    </tr>\n",
       "    <tr>\n",
       "      <th>1</th>\n",
       "      <td>31776450</td>\n",
       "      <td>5</td>\n",
       "      <td>12393</td>\n",
       "      <td>15</td>\n",
       "      <td>213</td>\n",
       "      <td>111</td>\n",
       "      <td>1483</td>\n",
       "      <td>99</td>\n",
       "    </tr>\n",
       "    <tr>\n",
       "      <th>2</th>\n",
       "      <td>6666492</td>\n",
       "      <td>-1</td>\n",
       "      <td>12393</td>\n",
       "      <td>15</td>\n",
       "      <td>76</td>\n",
       "      <td>-1</td>\n",
       "      <td>1126</td>\n",
       "      <td>10</td>\n",
       "    </tr>\n",
       "    <tr>\n",
       "      <th>3</th>\n",
       "      <td>58927301</td>\n",
       "      <td>-1</td>\n",
       "      <td>12393</td>\n",
       "      <td>15</td>\n",
       "      <td>158</td>\n",
       "      <td>-1</td>\n",
       "      <td>1333</td>\n",
       "      <td>12</td>\n",
       "    </tr>\n",
       "    <tr>\n",
       "      <th>4</th>\n",
       "      <td>23724328</td>\n",
       "      <td>-1</td>\n",
       "      <td>12393</td>\n",
       "      <td>15</td>\n",
       "      <td>193</td>\n",
       "      <td>-1</td>\n",
       "      <td>1021</td>\n",
       "      <td>9</td>\n",
       "    </tr>\n",
       "  </tbody>\n",
       "</table>\n",
       "</div>"
      ],
      "text/plain": [
       "   PRESTIGEID  PPTPASSENGERAGEKEY  DAYKEY  CARDTYPEKEY  \\\n",
       "0    11170717                  -1   12393           15   \n",
       "1    31776450                   5   12393           15   \n",
       "2     6666492                  -1   12393           15   \n",
       "3    58927301                  -1   12393           15   \n",
       "4    23724328                  -1   12393           15   \n",
       "\n",
       "   STATIONOFFIRSTENTRYKEY  STATIONOFEXITKEY  TRANSACTIONTIME  Timeblock  \n",
       "0                     247                -1              896          8  \n",
       "1                     213               111             1483         99  \n",
       "2                      76                -1             1126         10  \n",
       "3                     158                -1             1333         12  \n",
       "4                     193                -1             1021          9  "
      ]
     },
     "execution_count": 8,
     "metadata": {},
     "output_type": "execute_result"
    }
   ],
   "source": [
    "# Show the head of the final_df dataframe after assigning a timeblock to each transaction time\n",
    "\n",
    "final_df.head()"
   ]
  },
  {
   "cell_type": "code",
   "execution_count": null,
   "metadata": {
    "collapsed": true
   },
   "outputs": [],
   "source": []
  },
  {
   "cell_type": "code",
   "execution_count": 9,
   "metadata": {
    "collapsed": false
   },
   "outputs": [
    {
     "data": {
      "text/plain": [
       "array([12393, 12386, 12400, 12399, 12391, 12398, 12392, 12385, 12379,\n",
       "       12372, 12383, 12378, 12397, 12390, 12370, 12365, 12356, 12377,\n",
       "       12355, 12351, 12357, 12363, 12369, 12358, 12350, 12362, 12348,\n",
       "       12349, 12396, 12389, 12382, 12368, 12375, 12347, 12361, 12354,\n",
       "       12387, 12401, 12394, 12373, 12366, 12359, 12352, 12380, 12395,\n",
       "       12388, 12353, 12367, 12381, 12374, 12360, 12346, 12376, 12384,\n",
       "       12371, 12364], dtype=int64)"
      ]
     },
     "execution_count": 9,
     "metadata": {},
     "output_type": "execute_result"
    }
   ],
   "source": [
    "# Create an array of the unique days in the dataset\n",
    "\n",
    "day_array = final_df['DAYKEY'].unique()\n",
    "\n",
    "day_array"
   ]
  },
  {
   "cell_type": "code",
   "execution_count": 10,
   "metadata": {
    "collapsed": false
   },
   "outputs": [
    {
     "data": {
      "text/plain": [
       "0"
      ]
     },
     "execution_count": 10,
     "metadata": {},
     "output_type": "execute_result"
    }
   ],
   "source": [
    "# Check if there are any null values in the 'DAYKEY' column\n",
    "\n",
    "final_df['DAYKEY'].isnull().sum()\n"
   ]
  },
  {
   "cell_type": "code",
   "execution_count": 11,
   "metadata": {
    "collapsed": false
   },
   "outputs": [],
   "source": [
    "# Match each daykey with its corresponding day of the week\n",
    "\n",
    "columns = ['DAYKEY', 'Day of the Week']\n",
    "\n",
    "index = np.arange(56)\n",
    "\n",
    "day_df = pd.DataFrame(columns = columns, index = index)\n",
    "\n",
    "count = 0\n",
    "\n",
    "while count < len(day_array):\n",
    "    if (day_array[count] == 12347 or day_array[count] == 12354 or day_array[count] ==  12361 or day_array[count] ==  12368 or day_array[count] == 12375 or day_array[count] == 12382 or day_array[count] == 12389 or day_array[count] == 12396):\n",
    "        day_df['DAYKEY'][count] = day_array[count]\n",
    "        day_df['Day of the Week'][count] = 'Monday'\n",
    "    elif (day_array[count] == 12348 or day_array[count] == 12355 or day_array[count] == 12362 or day_array[count] == 12369 or day_array[count] == 12376 or day_array[count] == 12383 or day_array[count] == 12390 or day_array[count] == 12397):\n",
    "        day_df['DAYKEY'][count] = day_array[count]\n",
    "        day_df['Day of the Week'][count] = 'Tuesday'\n",
    "    elif (day_array[count] == 12349 or day_array[count] == 12356 or day_array[count] == 12363 or day_array[count] == 12370 or day_array[count] == 12377 or day_array[count] == 12384 or day_array[count] == 12391 or day_array[count] == 12398):\n",
    "        day_df['DAYKEY'][count] = day_array[count]\n",
    "        day_df['Day of the Week'][count] = 'Wednesday'\n",
    "    elif (day_array[count] == 12350 or day_array[count] == 12357 or day_array[count] == 12364 or day_array[count] == 12371 or day_array[count] == 12378 or day_array[count] == 12385 or day_array[count] == 12392 or day_array[count] == 12399):\n",
    "        day_df['DAYKEY'][count] = day_array[count]\n",
    "        day_df['Day of the Week'][count] = 'Thursday'\n",
    "    elif (day_array[count] == 12351 or day_array[count] == 12358 or day_array[count] == 12365 or day_array[count] == 12372 or day_array[count] == 12379 or day_array[count] == 12386 or day_array[count] == 12393 or day_array[count] == 12400):\n",
    "        day_df['DAYKEY'][count] = day_array[count]\n",
    "        day_df['Day of the Week'][count] = 'Friday'\n",
    "    elif (day_array[count] == 12345 or day_array[count] == 12352 or day_array[count] == 12359 or day_array[count] == 12366 or day_array[count] == 12373 or day_array[count] == 12380 or day_array[count] == 12387 or day_array[count] == 12394 or day_array[count] == 12401):\n",
    "        day_df['DAYKEY'][count] = day_array[count]\n",
    "        day_df['Day of the Week'][count] = 'Saturday'\n",
    "    else:\n",
    "        day_df['DAYKEY'][count] = day_array[count]\n",
    "        day_df['Day of the Week'][count] = 'Sunday'\n",
    "    count = count + 1\n",
    "\n"
   ]
  },
  {
   "cell_type": "code",
   "execution_count": 12,
   "metadata": {
    "collapsed": false
   },
   "outputs": [
    {
     "data": {
      "text/html": [
       "<div>\n",
       "<table border=\"1\" class=\"dataframe\">\n",
       "  <thead>\n",
       "    <tr style=\"text-align: right;\">\n",
       "      <th></th>\n",
       "      <th>DAYKEY</th>\n",
       "      <th>Day of the Week</th>\n",
       "    </tr>\n",
       "  </thead>\n",
       "  <tbody>\n",
       "    <tr>\n",
       "      <th>0</th>\n",
       "      <td>12393</td>\n",
       "      <td>Friday</td>\n",
       "    </tr>\n",
       "    <tr>\n",
       "      <th>1</th>\n",
       "      <td>12386</td>\n",
       "      <td>Friday</td>\n",
       "    </tr>\n",
       "    <tr>\n",
       "      <th>2</th>\n",
       "      <td>12400</td>\n",
       "      <td>Friday</td>\n",
       "    </tr>\n",
       "    <tr>\n",
       "      <th>3</th>\n",
       "      <td>12399</td>\n",
       "      <td>Thursday</td>\n",
       "    </tr>\n",
       "    <tr>\n",
       "      <th>4</th>\n",
       "      <td>12391</td>\n",
       "      <td>Wednesday</td>\n",
       "    </tr>\n",
       "    <tr>\n",
       "      <th>5</th>\n",
       "      <td>12398</td>\n",
       "      <td>Wednesday</td>\n",
       "    </tr>\n",
       "    <tr>\n",
       "      <th>6</th>\n",
       "      <td>12392</td>\n",
       "      <td>Thursday</td>\n",
       "    </tr>\n",
       "    <tr>\n",
       "      <th>7</th>\n",
       "      <td>12385</td>\n",
       "      <td>Thursday</td>\n",
       "    </tr>\n",
       "    <tr>\n",
       "      <th>8</th>\n",
       "      <td>12379</td>\n",
       "      <td>Friday</td>\n",
       "    </tr>\n",
       "    <tr>\n",
       "      <th>9</th>\n",
       "      <td>12372</td>\n",
       "      <td>Friday</td>\n",
       "    </tr>\n",
       "    <tr>\n",
       "      <th>10</th>\n",
       "      <td>12383</td>\n",
       "      <td>Tuesday</td>\n",
       "    </tr>\n",
       "    <tr>\n",
       "      <th>11</th>\n",
       "      <td>12378</td>\n",
       "      <td>Thursday</td>\n",
       "    </tr>\n",
       "    <tr>\n",
       "      <th>12</th>\n",
       "      <td>12397</td>\n",
       "      <td>Tuesday</td>\n",
       "    </tr>\n",
       "    <tr>\n",
       "      <th>13</th>\n",
       "      <td>12390</td>\n",
       "      <td>Tuesday</td>\n",
       "    </tr>\n",
       "    <tr>\n",
       "      <th>14</th>\n",
       "      <td>12370</td>\n",
       "      <td>Wednesday</td>\n",
       "    </tr>\n",
       "    <tr>\n",
       "      <th>15</th>\n",
       "      <td>12365</td>\n",
       "      <td>Friday</td>\n",
       "    </tr>\n",
       "    <tr>\n",
       "      <th>16</th>\n",
       "      <td>12356</td>\n",
       "      <td>Wednesday</td>\n",
       "    </tr>\n",
       "    <tr>\n",
       "      <th>17</th>\n",
       "      <td>12377</td>\n",
       "      <td>Wednesday</td>\n",
       "    </tr>\n",
       "    <tr>\n",
       "      <th>18</th>\n",
       "      <td>12355</td>\n",
       "      <td>Tuesday</td>\n",
       "    </tr>\n",
       "    <tr>\n",
       "      <th>19</th>\n",
       "      <td>12351</td>\n",
       "      <td>Friday</td>\n",
       "    </tr>\n",
       "    <tr>\n",
       "      <th>20</th>\n",
       "      <td>12357</td>\n",
       "      <td>Thursday</td>\n",
       "    </tr>\n",
       "    <tr>\n",
       "      <th>21</th>\n",
       "      <td>12363</td>\n",
       "      <td>Wednesday</td>\n",
       "    </tr>\n",
       "    <tr>\n",
       "      <th>22</th>\n",
       "      <td>12369</td>\n",
       "      <td>Tuesday</td>\n",
       "    </tr>\n",
       "    <tr>\n",
       "      <th>23</th>\n",
       "      <td>12358</td>\n",
       "      <td>Friday</td>\n",
       "    </tr>\n",
       "    <tr>\n",
       "      <th>24</th>\n",
       "      <td>12350</td>\n",
       "      <td>Thursday</td>\n",
       "    </tr>\n",
       "    <tr>\n",
       "      <th>25</th>\n",
       "      <td>12362</td>\n",
       "      <td>Tuesday</td>\n",
       "    </tr>\n",
       "    <tr>\n",
       "      <th>26</th>\n",
       "      <td>12348</td>\n",
       "      <td>Tuesday</td>\n",
       "    </tr>\n",
       "    <tr>\n",
       "      <th>27</th>\n",
       "      <td>12349</td>\n",
       "      <td>Wednesday</td>\n",
       "    </tr>\n",
       "    <tr>\n",
       "      <th>28</th>\n",
       "      <td>12396</td>\n",
       "      <td>Monday</td>\n",
       "    </tr>\n",
       "    <tr>\n",
       "      <th>29</th>\n",
       "      <td>12389</td>\n",
       "      <td>Monday</td>\n",
       "    </tr>\n",
       "    <tr>\n",
       "      <th>30</th>\n",
       "      <td>12382</td>\n",
       "      <td>Monday</td>\n",
       "    </tr>\n",
       "    <tr>\n",
       "      <th>31</th>\n",
       "      <td>12368</td>\n",
       "      <td>Monday</td>\n",
       "    </tr>\n",
       "    <tr>\n",
       "      <th>32</th>\n",
       "      <td>12375</td>\n",
       "      <td>Monday</td>\n",
       "    </tr>\n",
       "    <tr>\n",
       "      <th>33</th>\n",
       "      <td>12347</td>\n",
       "      <td>Monday</td>\n",
       "    </tr>\n",
       "    <tr>\n",
       "      <th>34</th>\n",
       "      <td>12361</td>\n",
       "      <td>Monday</td>\n",
       "    </tr>\n",
       "    <tr>\n",
       "      <th>35</th>\n",
       "      <td>12354</td>\n",
       "      <td>Monday</td>\n",
       "    </tr>\n",
       "    <tr>\n",
       "      <th>36</th>\n",
       "      <td>12387</td>\n",
       "      <td>Saturday</td>\n",
       "    </tr>\n",
       "    <tr>\n",
       "      <th>37</th>\n",
       "      <td>12401</td>\n",
       "      <td>Saturday</td>\n",
       "    </tr>\n",
       "    <tr>\n",
       "      <th>38</th>\n",
       "      <td>12394</td>\n",
       "      <td>Saturday</td>\n",
       "    </tr>\n",
       "    <tr>\n",
       "      <th>39</th>\n",
       "      <td>12373</td>\n",
       "      <td>Saturday</td>\n",
       "    </tr>\n",
       "    <tr>\n",
       "      <th>40</th>\n",
       "      <td>12366</td>\n",
       "      <td>Saturday</td>\n",
       "    </tr>\n",
       "    <tr>\n",
       "      <th>41</th>\n",
       "      <td>12359</td>\n",
       "      <td>Saturday</td>\n",
       "    </tr>\n",
       "    <tr>\n",
       "      <th>42</th>\n",
       "      <td>12352</td>\n",
       "      <td>Saturday</td>\n",
       "    </tr>\n",
       "    <tr>\n",
       "      <th>43</th>\n",
       "      <td>12380</td>\n",
       "      <td>Saturday</td>\n",
       "    </tr>\n",
       "    <tr>\n",
       "      <th>44</th>\n",
       "      <td>12395</td>\n",
       "      <td>Sunday</td>\n",
       "    </tr>\n",
       "    <tr>\n",
       "      <th>45</th>\n",
       "      <td>12388</td>\n",
       "      <td>Sunday</td>\n",
       "    </tr>\n",
       "    <tr>\n",
       "      <th>46</th>\n",
       "      <td>12353</td>\n",
       "      <td>Sunday</td>\n",
       "    </tr>\n",
       "    <tr>\n",
       "      <th>47</th>\n",
       "      <td>12367</td>\n",
       "      <td>Sunday</td>\n",
       "    </tr>\n",
       "    <tr>\n",
       "      <th>48</th>\n",
       "      <td>12381</td>\n",
       "      <td>Sunday</td>\n",
       "    </tr>\n",
       "    <tr>\n",
       "      <th>49</th>\n",
       "      <td>12374</td>\n",
       "      <td>Sunday</td>\n",
       "    </tr>\n",
       "    <tr>\n",
       "      <th>50</th>\n",
       "      <td>12360</td>\n",
       "      <td>Sunday</td>\n",
       "    </tr>\n",
       "    <tr>\n",
       "      <th>51</th>\n",
       "      <td>12346</td>\n",
       "      <td>Sunday</td>\n",
       "    </tr>\n",
       "    <tr>\n",
       "      <th>52</th>\n",
       "      <td>12376</td>\n",
       "      <td>Tuesday</td>\n",
       "    </tr>\n",
       "    <tr>\n",
       "      <th>53</th>\n",
       "      <td>12384</td>\n",
       "      <td>Wednesday</td>\n",
       "    </tr>\n",
       "    <tr>\n",
       "      <th>54</th>\n",
       "      <td>12371</td>\n",
       "      <td>Thursday</td>\n",
       "    </tr>\n",
       "    <tr>\n",
       "      <th>55</th>\n",
       "      <td>12364</td>\n",
       "      <td>Thursday</td>\n",
       "    </tr>\n",
       "  </tbody>\n",
       "</table>\n",
       "</div>"
      ],
      "text/plain": [
       "   DAYKEY Day of the Week\n",
       "0   12393          Friday\n",
       "1   12386          Friday\n",
       "2   12400          Friday\n",
       "3   12399        Thursday\n",
       "4   12391       Wednesday\n",
       "5   12398       Wednesday\n",
       "6   12392        Thursday\n",
       "7   12385        Thursday\n",
       "8   12379          Friday\n",
       "9   12372          Friday\n",
       "10  12383         Tuesday\n",
       "11  12378        Thursday\n",
       "12  12397         Tuesday\n",
       "13  12390         Tuesday\n",
       "14  12370       Wednesday\n",
       "15  12365          Friday\n",
       "16  12356       Wednesday\n",
       "17  12377       Wednesday\n",
       "18  12355         Tuesday\n",
       "19  12351          Friday\n",
       "20  12357        Thursday\n",
       "21  12363       Wednesday\n",
       "22  12369         Tuesday\n",
       "23  12358          Friday\n",
       "24  12350        Thursday\n",
       "25  12362         Tuesday\n",
       "26  12348         Tuesday\n",
       "27  12349       Wednesday\n",
       "28  12396          Monday\n",
       "29  12389          Monday\n",
       "30  12382          Monday\n",
       "31  12368          Monday\n",
       "32  12375          Monday\n",
       "33  12347          Monday\n",
       "34  12361          Monday\n",
       "35  12354          Monday\n",
       "36  12387        Saturday\n",
       "37  12401        Saturday\n",
       "38  12394        Saturday\n",
       "39  12373        Saturday\n",
       "40  12366        Saturday\n",
       "41  12359        Saturday\n",
       "42  12352        Saturday\n",
       "43  12380        Saturday\n",
       "44  12395          Sunday\n",
       "45  12388          Sunday\n",
       "46  12353          Sunday\n",
       "47  12367          Sunday\n",
       "48  12381          Sunday\n",
       "49  12374          Sunday\n",
       "50  12360          Sunday\n",
       "51  12346          Sunday\n",
       "52  12376         Tuesday\n",
       "53  12384       Wednesday\n",
       "54  12371        Thursday\n",
       "55  12364        Thursday"
      ]
     },
     "execution_count": 12,
     "metadata": {},
     "output_type": "execute_result"
    }
   ],
   "source": [
    "# Show the day_df dataframe\n",
    "\n",
    "day_df"
   ]
  },
  {
   "cell_type": "code",
   "execution_count": null,
   "metadata": {
    "collapsed": true
   },
   "outputs": [],
   "source": []
  },
  {
   "cell_type": "code",
   "execution_count": 13,
   "metadata": {
    "collapsed": true
   },
   "outputs": [],
   "source": [
    "# Merge the final_df dataframe with the day_df dataframe so that you assign days of the week (e.g. Monday, Tuesday, etc.)\n",
    "# to each value of DAYKEY in the final_df dataframe\n",
    "\n",
    "finalmerged_df = final_df.merge(day_df, left_on='DAYKEY', right_on='DAYKEY', how='left')\n"
   ]
  },
  {
   "cell_type": "code",
   "execution_count": 14,
   "metadata": {
    "collapsed": false
   },
   "outputs": [
    {
     "data": {
      "text/html": [
       "<div>\n",
       "<table border=\"1\" class=\"dataframe\">\n",
       "  <thead>\n",
       "    <tr style=\"text-align: right;\">\n",
       "      <th></th>\n",
       "      <th>PRESTIGEID</th>\n",
       "      <th>PPTPASSENGERAGEKEY</th>\n",
       "      <th>DAYKEY</th>\n",
       "      <th>CARDTYPEKEY</th>\n",
       "      <th>STATIONOFFIRSTENTRYKEY</th>\n",
       "      <th>STATIONOFEXITKEY</th>\n",
       "      <th>TRANSACTIONTIME</th>\n",
       "      <th>Timeblock</th>\n",
       "      <th>Day of the Week</th>\n",
       "    </tr>\n",
       "  </thead>\n",
       "  <tbody>\n",
       "    <tr>\n",
       "      <th>0</th>\n",
       "      <td>11170717</td>\n",
       "      <td>-1</td>\n",
       "      <td>12393</td>\n",
       "      <td>15</td>\n",
       "      <td>247</td>\n",
       "      <td>-1</td>\n",
       "      <td>896</td>\n",
       "      <td>8</td>\n",
       "      <td>Friday</td>\n",
       "    </tr>\n",
       "    <tr>\n",
       "      <th>1</th>\n",
       "      <td>31776450</td>\n",
       "      <td>5</td>\n",
       "      <td>12393</td>\n",
       "      <td>15</td>\n",
       "      <td>213</td>\n",
       "      <td>111</td>\n",
       "      <td>1483</td>\n",
       "      <td>99</td>\n",
       "      <td>Friday</td>\n",
       "    </tr>\n",
       "    <tr>\n",
       "      <th>2</th>\n",
       "      <td>6666492</td>\n",
       "      <td>-1</td>\n",
       "      <td>12393</td>\n",
       "      <td>15</td>\n",
       "      <td>76</td>\n",
       "      <td>-1</td>\n",
       "      <td>1126</td>\n",
       "      <td>10</td>\n",
       "      <td>Friday</td>\n",
       "    </tr>\n",
       "    <tr>\n",
       "      <th>3</th>\n",
       "      <td>58927301</td>\n",
       "      <td>-1</td>\n",
       "      <td>12393</td>\n",
       "      <td>15</td>\n",
       "      <td>158</td>\n",
       "      <td>-1</td>\n",
       "      <td>1333</td>\n",
       "      <td>12</td>\n",
       "      <td>Friday</td>\n",
       "    </tr>\n",
       "    <tr>\n",
       "      <th>4</th>\n",
       "      <td>23724328</td>\n",
       "      <td>-1</td>\n",
       "      <td>12393</td>\n",
       "      <td>15</td>\n",
       "      <td>193</td>\n",
       "      <td>-1</td>\n",
       "      <td>1021</td>\n",
       "      <td>9</td>\n",
       "      <td>Friday</td>\n",
       "    </tr>\n",
       "  </tbody>\n",
       "</table>\n",
       "</div>"
      ],
      "text/plain": [
       "   PRESTIGEID  PPTPASSENGERAGEKEY  DAYKEY  CARDTYPEKEY  \\\n",
       "0    11170717                  -1   12393           15   \n",
       "1    31776450                   5   12393           15   \n",
       "2     6666492                  -1   12393           15   \n",
       "3    58927301                  -1   12393           15   \n",
       "4    23724328                  -1   12393           15   \n",
       "\n",
       "   STATIONOFFIRSTENTRYKEY  STATIONOFEXITKEY  TRANSACTIONTIME  Timeblock  \\\n",
       "0                     247                -1              896          8   \n",
       "1                     213               111             1483         99   \n",
       "2                      76                -1             1126         10   \n",
       "3                     158                -1             1333         12   \n",
       "4                     193                -1             1021          9   \n",
       "\n",
       "  Day of the Week  \n",
       "0          Friday  \n",
       "1          Friday  \n",
       "2          Friday  \n",
       "3          Friday  \n",
       "4          Friday  "
      ]
     },
     "execution_count": 14,
     "metadata": {},
     "output_type": "execute_result"
    }
   ],
   "source": [
    "# Show the head of the finalmerged_df dataframe\n",
    "\n",
    "finalmerged_df.head()"
   ]
  },
  {
   "cell_type": "code",
   "execution_count": null,
   "metadata": {
    "collapsed": true
   },
   "outputs": [],
   "source": []
  },
  {
   "cell_type": "markdown",
   "metadata": {},
   "source": [
    "## Step 3: Create a dataframe of unique passengers and their respective most frequently used station of entry"
   ]
  },
  {
   "cell_type": "code",
   "execution_count": 15,
   "metadata": {
    "collapsed": true
   },
   "outputs": [],
   "source": [
    "# Find the most frequently used station of entry for each prestigeid:\n",
    "# The code below does a 'groupby' on PRESTIGEID for the STATIONOFFIRSTENTRYKEY column, gets a count for the values in \n",
    "# each group in descending order, and then takes the first row for each group.\n",
    "\n",
    "# SOURCE: https://stackoverflow.com/questions/23692419/python-select-most-frequent-using-group-by\n",
    "\n",
    "station_mode = finalmerged_df.groupby('PRESTIGEID')['STATIONOFFIRSTENTRYKEY'].agg(lambda x: x.value_counts().index[0])\n"
   ]
  },
  {
   "cell_type": "code",
   "execution_count": 16,
   "metadata": {
    "collapsed": true
   },
   "outputs": [],
   "source": [
    "# Convert the station_mode series to a dataframe.\n",
    "\n",
    "passenger_df = pd.DataFrame({'PRESTIGEID': station_mode.index, 'STATIONOFFIRSTENTRYKEY': station_mode.values})\n"
   ]
  },
  {
   "cell_type": "code",
   "execution_count": 17,
   "metadata": {
    "collapsed": false
   },
   "outputs": [
    {
     "data": {
      "text/html": [
       "<div>\n",
       "<table border=\"1\" class=\"dataframe\">\n",
       "  <thead>\n",
       "    <tr style=\"text-align: right;\">\n",
       "      <th></th>\n",
       "      <th>PRESTIGEID</th>\n",
       "      <th>STATIONOFFIRSTENTRYKEY</th>\n",
       "    </tr>\n",
       "  </thead>\n",
       "  <tbody>\n",
       "    <tr>\n",
       "      <th>0</th>\n",
       "      <td>125</td>\n",
       "      <td>161</td>\n",
       "    </tr>\n",
       "    <tr>\n",
       "      <th>1</th>\n",
       "      <td>190</td>\n",
       "      <td>70</td>\n",
       "    </tr>\n",
       "    <tr>\n",
       "      <th>2</th>\n",
       "      <td>247</td>\n",
       "      <td>1980</td>\n",
       "    </tr>\n",
       "    <tr>\n",
       "      <th>3</th>\n",
       "      <td>355</td>\n",
       "      <td>1955</td>\n",
       "    </tr>\n",
       "    <tr>\n",
       "      <th>4</th>\n",
       "      <td>376</td>\n",
       "      <td>1968</td>\n",
       "    </tr>\n",
       "  </tbody>\n",
       "</table>\n",
       "</div>"
      ],
      "text/plain": [
       "   PRESTIGEID  STATIONOFFIRSTENTRYKEY\n",
       "0         125                     161\n",
       "1         190                      70\n",
       "2         247                    1980\n",
       "3         355                    1955\n",
       "4         376                    1968"
      ]
     },
     "execution_count": 17,
     "metadata": {},
     "output_type": "execute_result"
    }
   ],
   "source": [
    "# Show the head of the passenger_df dataframe\n",
    "\n",
    "passenger_df.head()\n"
   ]
  },
  {
   "cell_type": "code",
   "execution_count": null,
   "metadata": {
    "collapsed": true
   },
   "outputs": [],
   "source": []
  },
  {
   "cell_type": "code",
   "execution_count": null,
   "metadata": {
    "collapsed": true
   },
   "outputs": [],
   "source": []
  },
  {
   "cell_type": "markdown",
   "metadata": {},
   "source": [
    "## Step 4: Assign each passenger his most likely socio-demographic characteristics based on his approximated place of residence (proxied by his most frequently used station of entry)"
   ]
  },
  {
   "cell_type": "markdown",
   "metadata": {},
   "source": [
    "### Preparing LOAC dataframe:"
   ]
  },
  {
   "cell_type": "code",
   "execution_count": 18,
   "metadata": {
    "collapsed": true
   },
   "outputs": [],
   "source": [
    "# Read in a file which contains the Supergroup code for each TfL tube and rail station (prepared in a separate Jupyter Notebook file)\n",
    "\n",
    "loac_input_df = pd.read_csv(\"Stations with LOAC Code_FINAL.csv\")"
   ]
  },
  {
   "cell_type": "code",
   "execution_count": 19,
   "metadata": {
    "collapsed": false
   },
   "outputs": [
    {
     "data": {
      "text/html": [
       "<div>\n",
       "<table border=\"1\" class=\"dataframe\">\n",
       "  <thead>\n",
       "    <tr style=\"text-align: right;\">\n",
       "      <th></th>\n",
       "      <th>id</th>\n",
       "      <th>STATIONKEY</th>\n",
       "      <th>STATIONNAME</th>\n",
       "      <th>Keep</th>\n",
       "      <th>Supergroup</th>\n",
       "    </tr>\n",
       "  </thead>\n",
       "  <tbody>\n",
       "    <tr>\n",
       "      <th>0</th>\n",
       "      <td>1</td>\n",
       "      <td>1</td>\n",
       "      <td>Acton Town Station, England</td>\n",
       "      <td>True</td>\n",
       "      <td>B</td>\n",
       "    </tr>\n",
       "    <tr>\n",
       "      <th>1</th>\n",
       "      <td>2</td>\n",
       "      <td>2</td>\n",
       "      <td>Barbican Station, England</td>\n",
       "      <td>True</td>\n",
       "      <td>F</td>\n",
       "    </tr>\n",
       "    <tr>\n",
       "      <th>2</th>\n",
       "      <td>3</td>\n",
       "      <td>3</td>\n",
       "      <td>Aldgate Station, England</td>\n",
       "      <td>True</td>\n",
       "      <td>D</td>\n",
       "    </tr>\n",
       "    <tr>\n",
       "      <th>3</th>\n",
       "      <td>4</td>\n",
       "      <td>4</td>\n",
       "      <td>Aldgate East Station, England</td>\n",
       "      <td>True</td>\n",
       "      <td>D</td>\n",
       "    </tr>\n",
       "    <tr>\n",
       "      <th>4</th>\n",
       "      <td>5</td>\n",
       "      <td>5</td>\n",
       "      <td>Alperton Station, England</td>\n",
       "      <td>True</td>\n",
       "      <td>C</td>\n",
       "    </tr>\n",
       "  </tbody>\n",
       "</table>\n",
       "</div>"
      ],
      "text/plain": [
       "   id  STATIONKEY                    STATIONNAME  Keep Supergroup\n",
       "0   1           1    Acton Town Station, England  True          B\n",
       "1   2           2      Barbican Station, England  True          F\n",
       "2   3           3       Aldgate Station, England  True          D\n",
       "3   4           4  Aldgate East Station, England  True          D\n",
       "4   5           5      Alperton Station, England  True          C"
      ]
     },
     "execution_count": 19,
     "metadata": {},
     "output_type": "execute_result"
    }
   ],
   "source": [
    "# Show the head of the loac_input_df dataframe\n",
    "\n",
    "loac_input_df.head()"
   ]
  },
  {
   "cell_type": "code",
   "execution_count": 20,
   "metadata": {
    "collapsed": false
   },
   "outputs": [
    {
     "name": "stderr",
     "output_type": "stream",
     "text": [
      "C:\\Users\\HP-PC\\Anaconda2\\lib\\site-packages\\ipykernel\\__main__.py:8: SettingWithCopyWarning: \n",
      "A value is trying to be set on a copy of a slice from a DataFrame\n",
      "\n",
      "See the caveats in the documentation: http://pandas.pydata.org/pandas-docs/stable/indexing.html#indexing-view-versus-copy\n"
     ]
    }
   ],
   "source": [
    "# Delete the string 'Station, London' from the end of each Station Name because it is no longer needed.\n",
    "\n",
    "import re\n",
    "\n",
    "count = 0\n",
    "\n",
    "while count < len(loac_input_df):\n",
    "    loac_input_df['STATIONNAME'][count] = re.sub('\\ Station, England$', '', loac_input_df['STATIONNAME'][count])\n",
    "    count = count + 1\n",
    "\n"
   ]
  },
  {
   "cell_type": "code",
   "execution_count": null,
   "metadata": {
    "collapsed": true
   },
   "outputs": [],
   "source": []
  },
  {
   "cell_type": "code",
   "execution_count": 21,
   "metadata": {
    "collapsed": true
   },
   "outputs": [],
   "source": [
    "# Merge the passengerfinal_df dataframe with the loac_input_df dataframe so that you get a dataframe with unique passengers and\n",
    "# their corresponding Supergroup code based on their most frequently used station of entry\n",
    "\n",
    "passengerfinal_df = passenger_df.merge(loac_input_df, left_on='STATIONOFFIRSTENTRYKEY', right_on='STATIONKEY', how='left')\n"
   ]
  },
  {
   "cell_type": "code",
   "execution_count": 22,
   "metadata": {
    "collapsed": false
   },
   "outputs": [
    {
     "data": {
      "text/html": [
       "<div>\n",
       "<table border=\"1\" class=\"dataframe\">\n",
       "  <thead>\n",
       "    <tr style=\"text-align: right;\">\n",
       "      <th></th>\n",
       "      <th>PRESTIGEID</th>\n",
       "      <th>STATIONOFFIRSTENTRYKEY</th>\n",
       "      <th>id</th>\n",
       "      <th>STATIONKEY</th>\n",
       "      <th>STATIONNAME</th>\n",
       "      <th>Keep</th>\n",
       "      <th>Supergroup</th>\n",
       "    </tr>\n",
       "  </thead>\n",
       "  <tbody>\n",
       "    <tr>\n",
       "      <th>0</th>\n",
       "      <td>125</td>\n",
       "      <td>161</td>\n",
       "      <td>154</td>\n",
       "      <td>161</td>\n",
       "      <td>Plaistow</td>\n",
       "      <td>True</td>\n",
       "      <td>G</td>\n",
       "    </tr>\n",
       "    <tr>\n",
       "      <th>1</th>\n",
       "      <td>190</td>\n",
       "      <td>70</td>\n",
       "      <td>68</td>\n",
       "      <td>70</td>\n",
       "      <td>Euston Square</td>\n",
       "      <td>True</td>\n",
       "      <td>D</td>\n",
       "    </tr>\n",
       "    <tr>\n",
       "      <th>2</th>\n",
       "      <td>247</td>\n",
       "      <td>1980</td>\n",
       "      <td>366</td>\n",
       "      <td>1980</td>\n",
       "      <td>Richmond</td>\n",
       "      <td>True</td>\n",
       "      <td>D</td>\n",
       "    </tr>\n",
       "    <tr>\n",
       "      <th>3</th>\n",
       "      <td>355</td>\n",
       "      <td>1955</td>\n",
       "      <td>349</td>\n",
       "      <td>1955</td>\n",
       "      <td>Gunnersbury</td>\n",
       "      <td>True</td>\n",
       "      <td>C</td>\n",
       "    </tr>\n",
       "    <tr>\n",
       "      <th>4</th>\n",
       "      <td>376</td>\n",
       "      <td>1968</td>\n",
       "      <td>360</td>\n",
       "      <td>1968</td>\n",
       "      <td>Barking</td>\n",
       "      <td>True</td>\n",
       "      <td>B</td>\n",
       "    </tr>\n",
       "  </tbody>\n",
       "</table>\n",
       "</div>"
      ],
      "text/plain": [
       "   PRESTIGEID  STATIONOFFIRSTENTRYKEY   id  STATIONKEY    STATIONNAME  Keep  \\\n",
       "0         125                     161  154         161       Plaistow  True   \n",
       "1         190                      70   68          70  Euston Square  True   \n",
       "2         247                    1980  366        1980       Richmond  True   \n",
       "3         355                    1955  349        1955    Gunnersbury  True   \n",
       "4         376                    1968  360        1968        Barking  True   \n",
       "\n",
       "  Supergroup  \n",
       "0          G  \n",
       "1          D  \n",
       "2          D  \n",
       "3          C  \n",
       "4          B  "
      ]
     },
     "execution_count": 22,
     "metadata": {},
     "output_type": "execute_result"
    }
   ],
   "source": [
    "# Show the head of the passengerfinal_df dataframe, which contains all unique passenger id's (PRESTIGEID's) and their \n",
    "# respective most frequently used station of entry and corresponding Supergroup code\n",
    "\n",
    "passengerfinal_df.head()\n"
   ]
  },
  {
   "cell_type": "code",
   "execution_count": 23,
   "metadata": {
    "collapsed": false
   },
   "outputs": [
    {
     "data": {
      "text/plain": [
       "False"
      ]
     },
     "execution_count": 23,
     "metadata": {},
     "output_type": "execute_result"
    }
   ],
   "source": [
    "# Check if there are any null values\n",
    "\n",
    "passengerfinal_df.isnull().values.any()\n"
   ]
  },
  {
   "cell_type": "code",
   "execution_count": null,
   "metadata": {
    "collapsed": true
   },
   "outputs": [],
   "source": []
  },
  {
   "cell_type": "markdown",
   "metadata": {},
   "source": [
    "### Merge the new Passenger dataframe with the LOAC traits dataframe:"
   ]
  },
  {
   "cell_type": "code",
   "execution_count": 24,
   "metadata": {
    "collapsed": true
   },
   "outputs": [],
   "source": [
    "# Read in the CSV file with the socio-economic traits for each Supergroup\n",
    "\n",
    "traits_df = pd.read_csv(\"LOAC_SocEc_Traits_CK2.csv\")\n"
   ]
  },
  {
   "cell_type": "code",
   "execution_count": 25,
   "metadata": {
    "collapsed": false
   },
   "outputs": [
    {
     "data": {
      "text/html": [
       "<div>\n",
       "<table border=\"1\" class=\"dataframe\">\n",
       "  <thead>\n",
       "    <tr style=\"text-align: right;\">\n",
       "      <th></th>\n",
       "      <th>Supergroup</th>\n",
       "      <th>% households where no one speaks English as a main  language</th>\n",
       "      <th>% persons aged 0 to 4</th>\n",
       "      <th>% persons aged 5 to 14</th>\n",
       "      <th>% persons aged 25 to 44</th>\n",
       "      <th>% persons aged 45 to 64</th>\n",
       "      <th>% persons aged 65 to 89</th>\n",
       "      <th>% persons aged 90 and over</th>\n",
       "      <th>% persons born in UK or Ireland</th>\n",
       "      <th>% persons who are divorced or separated</th>\n",
       "      <th>...</th>\n",
       "      <th>% persons who live in a terrace or end-terrace house</th>\n",
       "      <th>% households with two or more motor vehicles</th>\n",
       "      <th>% persons whose highest qualification is Level 3</th>\n",
       "      <th>% persons whose highest qualification is Level 1, Level 2, or Apprenticeship</th>\n",
       "      <th>% persons whose highest qualification is Level 4 or above</th>\n",
       "      <th>% schoolchildren and full-time students aged 16 and over</th>\n",
       "      <th>% working age adults who use private transport to get to work</th>\n",
       "      <th>% working age adults who use public transport to get to work</th>\n",
       "      <th>% working age adults who walk, cycle, or use an alternative method to get to work</th>\n",
       "      <th>Standardised Illness Ratio</th>\n",
       "    </tr>\n",
       "  </thead>\n",
       "  <tbody>\n",
       "    <tr>\n",
       "      <th>0</th>\n",
       "      <td>A</td>\n",
       "      <td>-1.8</td>\n",
       "      <td>0.6</td>\n",
       "      <td>2.4</td>\n",
       "      <td>-6.9</td>\n",
       "      <td>1.9</td>\n",
       "      <td>1.6</td>\n",
       "      <td>0.2</td>\n",
       "      <td>13.9</td>\n",
       "      <td>2.6</td>\n",
       "      <td>...</td>\n",
       "      <td>17.5</td>\n",
       "      <td>4.1</td>\n",
       "      <td>0.2</td>\n",
       "      <td>9.3</td>\n",
       "      <td>-15.6</td>\n",
       "      <td>-1.6</td>\n",
       "      <td>9.6</td>\n",
       "      <td>-8.1</td>\n",
       "      <td>-2.9</td>\n",
       "      <td>19.1</td>\n",
       "    </tr>\n",
       "    <tr>\n",
       "      <th>1</th>\n",
       "      <td>B</td>\n",
       "      <td>2.6</td>\n",
       "      <td>1.2</td>\n",
       "      <td>2.4</td>\n",
       "      <td>-0.9</td>\n",
       "      <td>-2.6</td>\n",
       "      <td>-2.0</td>\n",
       "      <td>-0.1</td>\n",
       "      <td>-7.4</td>\n",
       "      <td>4.0</td>\n",
       "      <td>...</td>\n",
       "      <td>-19.6</td>\n",
       "      <td>-14.3</td>\n",
       "      <td>0.0</td>\n",
       "      <td>1.0</td>\n",
       "      <td>-9.4</td>\n",
       "      <td>3.1</td>\n",
       "      <td>-10.6</td>\n",
       "      <td>-0.4</td>\n",
       "      <td>1.7</td>\n",
       "      <td>25.7</td>\n",
       "    </tr>\n",
       "    <tr>\n",
       "      <th>2</th>\n",
       "      <td>C</td>\n",
       "      <td>3.1</td>\n",
       "      <td>-0.1</td>\n",
       "      <td>1.4</td>\n",
       "      <td>-4.1</td>\n",
       "      <td>1.1</td>\n",
       "      <td>0.4</td>\n",
       "      <td>-0.1</td>\n",
       "      <td>-12.3</td>\n",
       "      <td>-2.7</td>\n",
       "      <td>...</td>\n",
       "      <td>11.3</td>\n",
       "      <td>10.8</td>\n",
       "      <td>0.0</td>\n",
       "      <td>1.6</td>\n",
       "      <td>-6.5</td>\n",
       "      <td>2.0</td>\n",
       "      <td>6.8</td>\n",
       "      <td>-4.8</td>\n",
       "      <td>-3.3</td>\n",
       "      <td>-1.0</td>\n",
       "    </tr>\n",
       "    <tr>\n",
       "      <th>3</th>\n",
       "      <td>D</td>\n",
       "      <td>-1.6</td>\n",
       "      <td>-2.0</td>\n",
       "      <td>-6.7</td>\n",
       "      <td>18.4</td>\n",
       "      <td>-5.8</td>\n",
       "      <td>-4.0</td>\n",
       "      <td>-0.2</td>\n",
       "      <td>-13.6</td>\n",
       "      <td>-2.4</td>\n",
       "      <td>...</td>\n",
       "      <td>-18.0</td>\n",
       "      <td>-11.7</td>\n",
       "      <td>-0.8</td>\n",
       "      <td>-12.9</td>\n",
       "      <td>24.6</td>\n",
       "      <td>1.2</td>\n",
       "      <td>-11.3</td>\n",
       "      <td>11.5</td>\n",
       "      <td>7.4</td>\n",
       "      <td>-36.4</td>\n",
       "    </tr>\n",
       "    <tr>\n",
       "      <th>4</th>\n",
       "      <td>E</td>\n",
       "      <td>-0.9</td>\n",
       "      <td>-0.5</td>\n",
       "      <td>-2.6</td>\n",
       "      <td>7.9</td>\n",
       "      <td>-2.0</td>\n",
       "      <td>-2.2</td>\n",
       "      <td>-0.1</td>\n",
       "      <td>1.2</td>\n",
       "      <td>0.0</td>\n",
       "      <td>...</td>\n",
       "      <td>-1.8</td>\n",
       "      <td>-10.1</td>\n",
       "      <td>-0.3</td>\n",
       "      <td>-5.6</td>\n",
       "      <td>10.3</td>\n",
       "      <td>-0.8</td>\n",
       "      <td>-8.2</td>\n",
       "      <td>8.3</td>\n",
       "      <td>3.8</td>\n",
       "      <td>1.4</td>\n",
       "    </tr>\n",
       "  </tbody>\n",
       "</table>\n",
       "<p>5 rows × 53 columns</p>\n",
       "</div>"
      ],
      "text/plain": [
       "  Supergroup  % households where no one speaks English as a main  language  \\\n",
       "0          A                                               -1.8              \n",
       "1          B                                                2.6              \n",
       "2          C                                                3.1              \n",
       "3          D                                               -1.6              \n",
       "4          E                                               -0.9              \n",
       "\n",
       "   % persons aged 0 to 4  % persons aged 5 to 14  % persons aged 25 to 44  \\\n",
       "0                    0.6                     2.4                     -6.9   \n",
       "1                    1.2                     2.4                     -0.9   \n",
       "2                   -0.1                     1.4                     -4.1   \n",
       "3                   -2.0                    -6.7                     18.4   \n",
       "4                   -0.5                    -2.6                      7.9   \n",
       "\n",
       "   % persons aged 45 to 64  % persons aged 65 to 89  \\\n",
       "0                      1.9                      1.6   \n",
       "1                     -2.6                     -2.0   \n",
       "2                      1.1                      0.4   \n",
       "3                     -5.8                     -4.0   \n",
       "4                     -2.0                     -2.2   \n",
       "\n",
       "   % persons aged 90 and over  % persons born in UK or Ireland  \\\n",
       "0                         0.2                             13.9   \n",
       "1                        -0.1                             -7.4   \n",
       "2                        -0.1                            -12.3   \n",
       "3                        -0.2                            -13.6   \n",
       "4                        -0.1                              1.2   \n",
       "\n",
       "   % persons who are divorced or separated             ...              \\\n",
       "0                                      2.6             ...               \n",
       "1                                      4.0             ...               \n",
       "2                                     -2.7             ...               \n",
       "3                                     -2.4             ...               \n",
       "4                                      0.0             ...               \n",
       "\n",
       "   % persons who live in a terrace or end-terrace house  \\\n",
       "0                                               17.5      \n",
       "1                                              -19.6      \n",
       "2                                               11.3      \n",
       "3                                              -18.0      \n",
       "4                                               -1.8      \n",
       "\n",
       "   % households with two or more motor vehicles  \\\n",
       "0                                           4.1   \n",
       "1                                         -14.3   \n",
       "2                                          10.8   \n",
       "3                                         -11.7   \n",
       "4                                         -10.1   \n",
       "\n",
       "   % persons whose highest qualification is Level 3  \\\n",
       "0                                               0.2   \n",
       "1                                               0.0   \n",
       "2                                               0.0   \n",
       "3                                              -0.8   \n",
       "4                                              -0.3   \n",
       "\n",
       "   % persons whose highest qualification is Level 1, Level 2, or Apprenticeship  \\\n",
       "0                                                9.3                              \n",
       "1                                                1.0                              \n",
       "2                                                1.6                              \n",
       "3                                              -12.9                              \n",
       "4                                               -5.6                              \n",
       "\n",
       "   % persons whose highest qualification is Level 4 or above  \\\n",
       "0                                              -15.6           \n",
       "1                                               -9.4           \n",
       "2                                               -6.5           \n",
       "3                                               24.6           \n",
       "4                                               10.3           \n",
       "\n",
       "   % schoolchildren and full-time students aged 16 and over  \\\n",
       "0                                               -1.6          \n",
       "1                                                3.1          \n",
       "2                                                2.0          \n",
       "3                                                1.2          \n",
       "4                                               -0.8          \n",
       "\n",
       "   % working age adults who use private transport to get to work  \\\n",
       "0                                                9.6               \n",
       "1                                              -10.6               \n",
       "2                                                6.8               \n",
       "3                                              -11.3               \n",
       "4                                               -8.2               \n",
       "\n",
       "   % working age adults who use public transport to get to work  \\\n",
       "0                                               -8.1              \n",
       "1                                               -0.4              \n",
       "2                                               -4.8              \n",
       "3                                               11.5              \n",
       "4                                                8.3              \n",
       "\n",
       "   % working age adults who walk, cycle, or use an alternative method to get to work  \\\n",
       "0                                               -2.9                                   \n",
       "1                                                1.7                                   \n",
       "2                                               -3.3                                   \n",
       "3                                                7.4                                   \n",
       "4                                                3.8                                   \n",
       "\n",
       "   Standardised Illness Ratio  \n",
       "0                        19.1  \n",
       "1                        25.7  \n",
       "2                        -1.0  \n",
       "3                       -36.4  \n",
       "4                         1.4  \n",
       "\n",
       "[5 rows x 53 columns]"
      ]
     },
     "execution_count": 25,
     "metadata": {},
     "output_type": "execute_result"
    }
   ],
   "source": [
    "# Show the head of the traits_df dataframe\n",
    "\n",
    "traits_df.head()"
   ]
  },
  {
   "cell_type": "code",
   "execution_count": 26,
   "metadata": {
    "collapsed": false
   },
   "outputs": [],
   "source": [
    "# Merge the passengerfinal_df with the traits_df so that we assign socio-economic characteristics corresponding to each\n",
    "# Supergroup code for each passenger\n",
    "\n",
    "passengerfinal_df2 = passengerfinal_df.merge(traits_df, left_on='Supergroup', right_on='Supergroup', how='left')\n"
   ]
  },
  {
   "cell_type": "code",
   "execution_count": 27,
   "metadata": {
    "collapsed": false
   },
   "outputs": [
    {
     "data": {
      "text/html": [
       "<div>\n",
       "<table border=\"1\" class=\"dataframe\">\n",
       "  <thead>\n",
       "    <tr style=\"text-align: right;\">\n",
       "      <th></th>\n",
       "      <th>PRESTIGEID</th>\n",
       "      <th>STATIONOFFIRSTENTRYKEY</th>\n",
       "      <th>id</th>\n",
       "      <th>STATIONKEY</th>\n",
       "      <th>STATIONNAME</th>\n",
       "      <th>Keep</th>\n",
       "      <th>Supergroup</th>\n",
       "      <th>% households where no one speaks English as a main  language</th>\n",
       "      <th>% persons aged 0 to 4</th>\n",
       "      <th>% persons aged 5 to 14</th>\n",
       "      <th>...</th>\n",
       "      <th>% persons who live in a terrace or end-terrace house</th>\n",
       "      <th>% households with two or more motor vehicles</th>\n",
       "      <th>% persons whose highest qualification is Level 3</th>\n",
       "      <th>% persons whose highest qualification is Level 1, Level 2, or Apprenticeship</th>\n",
       "      <th>% persons whose highest qualification is Level 4 or above</th>\n",
       "      <th>% schoolchildren and full-time students aged 16 and over</th>\n",
       "      <th>% working age adults who use private transport to get to work</th>\n",
       "      <th>% working age adults who use public transport to get to work</th>\n",
       "      <th>% working age adults who walk, cycle, or use an alternative method to get to work</th>\n",
       "      <th>Standardised Illness Ratio</th>\n",
       "    </tr>\n",
       "  </thead>\n",
       "  <tbody>\n",
       "    <tr>\n",
       "      <th>0</th>\n",
       "      <td>125</td>\n",
       "      <td>161</td>\n",
       "      <td>154</td>\n",
       "      <td>161</td>\n",
       "      <td>Plaistow</td>\n",
       "      <td>True</td>\n",
       "      <td>G</td>\n",
       "      <td>3.3</td>\n",
       "      <td>1.5</td>\n",
       "      <td>1.9</td>\n",
       "      <td>...</td>\n",
       "      <td>6.5</td>\n",
       "      <td>-6.8</td>\n",
       "      <td>-0.2</td>\n",
       "      <td>1.6</td>\n",
       "      <td>-9.3</td>\n",
       "      <td>2.8</td>\n",
       "      <td>-2.5</td>\n",
       "      <td>0.7</td>\n",
       "      <td>-2.4</td>\n",
       "      <td>5.3</td>\n",
       "    </tr>\n",
       "    <tr>\n",
       "      <th>1</th>\n",
       "      <td>190</td>\n",
       "      <td>70</td>\n",
       "      <td>68</td>\n",
       "      <td>70</td>\n",
       "      <td>Euston Square</td>\n",
       "      <td>True</td>\n",
       "      <td>D</td>\n",
       "      <td>-1.6</td>\n",
       "      <td>-2.0</td>\n",
       "      <td>-6.7</td>\n",
       "      <td>...</td>\n",
       "      <td>-18.0</td>\n",
       "      <td>-11.7</td>\n",
       "      <td>-0.8</td>\n",
       "      <td>-12.9</td>\n",
       "      <td>24.6</td>\n",
       "      <td>1.2</td>\n",
       "      <td>-11.3</td>\n",
       "      <td>11.5</td>\n",
       "      <td>7.4</td>\n",
       "      <td>-36.4</td>\n",
       "    </tr>\n",
       "    <tr>\n",
       "      <th>2</th>\n",
       "      <td>247</td>\n",
       "      <td>1980</td>\n",
       "      <td>366</td>\n",
       "      <td>1980</td>\n",
       "      <td>Richmond</td>\n",
       "      <td>True</td>\n",
       "      <td>D</td>\n",
       "      <td>-1.6</td>\n",
       "      <td>-2.0</td>\n",
       "      <td>-6.7</td>\n",
       "      <td>...</td>\n",
       "      <td>-18.0</td>\n",
       "      <td>-11.7</td>\n",
       "      <td>-0.8</td>\n",
       "      <td>-12.9</td>\n",
       "      <td>24.6</td>\n",
       "      <td>1.2</td>\n",
       "      <td>-11.3</td>\n",
       "      <td>11.5</td>\n",
       "      <td>7.4</td>\n",
       "      <td>-36.4</td>\n",
       "    </tr>\n",
       "    <tr>\n",
       "      <th>3</th>\n",
       "      <td>355</td>\n",
       "      <td>1955</td>\n",
       "      <td>349</td>\n",
       "      <td>1955</td>\n",
       "      <td>Gunnersbury</td>\n",
       "      <td>True</td>\n",
       "      <td>C</td>\n",
       "      <td>3.1</td>\n",
       "      <td>-0.1</td>\n",
       "      <td>1.4</td>\n",
       "      <td>...</td>\n",
       "      <td>11.3</td>\n",
       "      <td>10.8</td>\n",
       "      <td>0.0</td>\n",
       "      <td>1.6</td>\n",
       "      <td>-6.5</td>\n",
       "      <td>2.0</td>\n",
       "      <td>6.8</td>\n",
       "      <td>-4.8</td>\n",
       "      <td>-3.3</td>\n",
       "      <td>-1.0</td>\n",
       "    </tr>\n",
       "    <tr>\n",
       "      <th>4</th>\n",
       "      <td>376</td>\n",
       "      <td>1968</td>\n",
       "      <td>360</td>\n",
       "      <td>1968</td>\n",
       "      <td>Barking</td>\n",
       "      <td>True</td>\n",
       "      <td>B</td>\n",
       "      <td>2.6</td>\n",
       "      <td>1.2</td>\n",
       "      <td>2.4</td>\n",
       "      <td>...</td>\n",
       "      <td>-19.6</td>\n",
       "      <td>-14.3</td>\n",
       "      <td>0.0</td>\n",
       "      <td>1.0</td>\n",
       "      <td>-9.4</td>\n",
       "      <td>3.1</td>\n",
       "      <td>-10.6</td>\n",
       "      <td>-0.4</td>\n",
       "      <td>1.7</td>\n",
       "      <td>25.7</td>\n",
       "    </tr>\n",
       "  </tbody>\n",
       "</table>\n",
       "<p>5 rows × 59 columns</p>\n",
       "</div>"
      ],
      "text/plain": [
       "   PRESTIGEID  STATIONOFFIRSTENTRYKEY   id  STATIONKEY    STATIONNAME  Keep  \\\n",
       "0         125                     161  154         161       Plaistow  True   \n",
       "1         190                      70   68          70  Euston Square  True   \n",
       "2         247                    1980  366        1980       Richmond  True   \n",
       "3         355                    1955  349        1955    Gunnersbury  True   \n",
       "4         376                    1968  360        1968        Barking  True   \n",
       "\n",
       "  Supergroup  % households where no one speaks English as a main  language  \\\n",
       "0          G                                                3.3              \n",
       "1          D                                               -1.6              \n",
       "2          D                                               -1.6              \n",
       "3          C                                                3.1              \n",
       "4          B                                                2.6              \n",
       "\n",
       "   % persons aged 0 to 4  % persons aged 5 to 14             ...              \\\n",
       "0                    1.5                     1.9             ...               \n",
       "1                   -2.0                    -6.7             ...               \n",
       "2                   -2.0                    -6.7             ...               \n",
       "3                   -0.1                     1.4             ...               \n",
       "4                    1.2                     2.4             ...               \n",
       "\n",
       "   % persons who live in a terrace or end-terrace house  \\\n",
       "0                                                6.5      \n",
       "1                                              -18.0      \n",
       "2                                              -18.0      \n",
       "3                                               11.3      \n",
       "4                                              -19.6      \n",
       "\n",
       "   % households with two or more motor vehicles  \\\n",
       "0                                          -6.8   \n",
       "1                                         -11.7   \n",
       "2                                         -11.7   \n",
       "3                                          10.8   \n",
       "4                                         -14.3   \n",
       "\n",
       "   % persons whose highest qualification is Level 3  \\\n",
       "0                                              -0.2   \n",
       "1                                              -0.8   \n",
       "2                                              -0.8   \n",
       "3                                               0.0   \n",
       "4                                               0.0   \n",
       "\n",
       "   % persons whose highest qualification is Level 1, Level 2, or Apprenticeship  \\\n",
       "0                                                1.6                              \n",
       "1                                              -12.9                              \n",
       "2                                              -12.9                              \n",
       "3                                                1.6                              \n",
       "4                                                1.0                              \n",
       "\n",
       "   % persons whose highest qualification is Level 4 or above  \\\n",
       "0                                               -9.3           \n",
       "1                                               24.6           \n",
       "2                                               24.6           \n",
       "3                                               -6.5           \n",
       "4                                               -9.4           \n",
       "\n",
       "   % schoolchildren and full-time students aged 16 and over  \\\n",
       "0                                                2.8          \n",
       "1                                                1.2          \n",
       "2                                                1.2          \n",
       "3                                                2.0          \n",
       "4                                                3.1          \n",
       "\n",
       "   % working age adults who use private transport to get to work  \\\n",
       "0                                               -2.5               \n",
       "1                                              -11.3               \n",
       "2                                              -11.3               \n",
       "3                                                6.8               \n",
       "4                                              -10.6               \n",
       "\n",
       "   % working age adults who use public transport to get to work  \\\n",
       "0                                                0.7              \n",
       "1                                               11.5              \n",
       "2                                               11.5              \n",
       "3                                               -4.8              \n",
       "4                                               -0.4              \n",
       "\n",
       "   % working age adults who walk, cycle, or use an alternative method to get to work  \\\n",
       "0                                               -2.4                                   \n",
       "1                                                7.4                                   \n",
       "2                                                7.4                                   \n",
       "3                                               -3.3                                   \n",
       "4                                                1.7                                   \n",
       "\n",
       "   Standardised Illness Ratio  \n",
       "0                         5.3  \n",
       "1                       -36.4  \n",
       "2                       -36.4  \n",
       "3                        -1.0  \n",
       "4                        25.7  \n",
       "\n",
       "[5 rows x 59 columns]"
      ]
     },
     "execution_count": 27,
     "metadata": {},
     "output_type": "execute_result"
    }
   ],
   "source": [
    "# Show the head of the passengerfinal_df2 dataframe\n",
    "\n",
    "passengerfinal_df2.head()"
   ]
  },
  {
   "cell_type": "code",
   "execution_count": 28,
   "metadata": {
    "collapsed": false
   },
   "outputs": [
    {
     "data": {
      "text/plain": [
       "D    0.476116\n",
       "B    0.124819\n",
       "G    0.119033\n",
       "E    0.116379\n",
       "F    0.078155\n",
       "C    0.056622\n",
       "X    0.015643\n",
       "A    0.008526\n",
       "H    0.004707\n",
       "Name: Supergroup, dtype: float64"
      ]
     },
     "execution_count": 28,
     "metadata": {},
     "output_type": "execute_result"
    }
   ],
   "source": [
    "# Check the frequency distribution of the 'Supergroup' column (in terms of proportion)\n",
    "\n",
    "passengerfinal_df2.Supergroup.value_counts(normalize=True)\n"
   ]
  },
  {
   "cell_type": "code",
   "execution_count": null,
   "metadata": {
    "collapsed": true
   },
   "outputs": [],
   "source": []
  },
  {
   "cell_type": "markdown",
   "metadata": {
    "collapsed": true
   },
   "source": [
    "## Step 5: Conduct cluster analysis on the dataset of unique passengers and their corresponding socio-demographic characteristics"
   ]
  },
  {
   "cell_type": "code",
   "execution_count": 30,
   "metadata": {
    "collapsed": true
   },
   "outputs": [],
   "source": [
    "\n",
    "import sklearn\n",
    "import sklearn.cluster as cluster\n",
    "from sklearn.cluster import KMeans\n",
    "from sklearn import metrics\n"
   ]
  },
  {
   "cell_type": "code",
   "execution_count": 31,
   "metadata": {
    "collapsed": false
   },
   "outputs": [],
   "source": [
    "# This deletes non-essential columns from the passenger_df dataframe and prepares it for k-means clustering\n",
    "\n",
    "passengerfinal_df_clustering = passengerfinal_df2.drop('STATIONNAME', axis=1)\n",
    "passengerfinal_df_clustering = passengerfinal_df_clustering.drop('Keep', axis=1)\n"
   ]
  },
  {
   "cell_type": "code",
   "execution_count": 32,
   "metadata": {
    "collapsed": false
   },
   "outputs": [
    {
     "data": {
      "text/html": [
       "<div>\n",
       "<table border=\"1\" class=\"dataframe\">\n",
       "  <thead>\n",
       "    <tr style=\"text-align: right;\">\n",
       "      <th></th>\n",
       "      <th>PRESTIGEID</th>\n",
       "      <th>STATIONOFFIRSTENTRYKEY</th>\n",
       "      <th>id</th>\n",
       "      <th>STATIONKEY</th>\n",
       "      <th>Supergroup</th>\n",
       "      <th>% households where no one speaks English as a main  language</th>\n",
       "      <th>% persons aged 0 to 4</th>\n",
       "      <th>% persons aged 5 to 14</th>\n",
       "      <th>% persons aged 25 to 44</th>\n",
       "      <th>% persons aged 45 to 64</th>\n",
       "      <th>...</th>\n",
       "      <th>% persons who live in a terrace or end-terrace house</th>\n",
       "      <th>% households with two or more motor vehicles</th>\n",
       "      <th>% persons whose highest qualification is Level 3</th>\n",
       "      <th>% persons whose highest qualification is Level 1, Level 2, or Apprenticeship</th>\n",
       "      <th>% persons whose highest qualification is Level 4 or above</th>\n",
       "      <th>% schoolchildren and full-time students aged 16 and over</th>\n",
       "      <th>% working age adults who use private transport to get to work</th>\n",
       "      <th>% working age adults who use public transport to get to work</th>\n",
       "      <th>% working age adults who walk, cycle, or use an alternative method to get to work</th>\n",
       "      <th>Standardised Illness Ratio</th>\n",
       "    </tr>\n",
       "  </thead>\n",
       "  <tbody>\n",
       "    <tr>\n",
       "      <th>0</th>\n",
       "      <td>125</td>\n",
       "      <td>161</td>\n",
       "      <td>154</td>\n",
       "      <td>161</td>\n",
       "      <td>G</td>\n",
       "      <td>3.3</td>\n",
       "      <td>1.5</td>\n",
       "      <td>1.9</td>\n",
       "      <td>0.3</td>\n",
       "      <td>-2.5</td>\n",
       "      <td>...</td>\n",
       "      <td>6.5</td>\n",
       "      <td>-6.8</td>\n",
       "      <td>-0.2</td>\n",
       "      <td>1.6</td>\n",
       "      <td>-9.3</td>\n",
       "      <td>2.8</td>\n",
       "      <td>-2.5</td>\n",
       "      <td>0.7</td>\n",
       "      <td>-2.4</td>\n",
       "      <td>5.3</td>\n",
       "    </tr>\n",
       "    <tr>\n",
       "      <th>1</th>\n",
       "      <td>190</td>\n",
       "      <td>70</td>\n",
       "      <td>68</td>\n",
       "      <td>70</td>\n",
       "      <td>D</td>\n",
       "      <td>-1.6</td>\n",
       "      <td>-2.0</td>\n",
       "      <td>-6.7</td>\n",
       "      <td>18.4</td>\n",
       "      <td>-5.8</td>\n",
       "      <td>...</td>\n",
       "      <td>-18.0</td>\n",
       "      <td>-11.7</td>\n",
       "      <td>-0.8</td>\n",
       "      <td>-12.9</td>\n",
       "      <td>24.6</td>\n",
       "      <td>1.2</td>\n",
       "      <td>-11.3</td>\n",
       "      <td>11.5</td>\n",
       "      <td>7.4</td>\n",
       "      <td>-36.4</td>\n",
       "    </tr>\n",
       "    <tr>\n",
       "      <th>2</th>\n",
       "      <td>247</td>\n",
       "      <td>1980</td>\n",
       "      <td>366</td>\n",
       "      <td>1980</td>\n",
       "      <td>D</td>\n",
       "      <td>-1.6</td>\n",
       "      <td>-2.0</td>\n",
       "      <td>-6.7</td>\n",
       "      <td>18.4</td>\n",
       "      <td>-5.8</td>\n",
       "      <td>...</td>\n",
       "      <td>-18.0</td>\n",
       "      <td>-11.7</td>\n",
       "      <td>-0.8</td>\n",
       "      <td>-12.9</td>\n",
       "      <td>24.6</td>\n",
       "      <td>1.2</td>\n",
       "      <td>-11.3</td>\n",
       "      <td>11.5</td>\n",
       "      <td>7.4</td>\n",
       "      <td>-36.4</td>\n",
       "    </tr>\n",
       "    <tr>\n",
       "      <th>3</th>\n",
       "      <td>355</td>\n",
       "      <td>1955</td>\n",
       "      <td>349</td>\n",
       "      <td>1955</td>\n",
       "      <td>C</td>\n",
       "      <td>3.1</td>\n",
       "      <td>-0.1</td>\n",
       "      <td>1.4</td>\n",
       "      <td>-4.1</td>\n",
       "      <td>1.1</td>\n",
       "      <td>...</td>\n",
       "      <td>11.3</td>\n",
       "      <td>10.8</td>\n",
       "      <td>0.0</td>\n",
       "      <td>1.6</td>\n",
       "      <td>-6.5</td>\n",
       "      <td>2.0</td>\n",
       "      <td>6.8</td>\n",
       "      <td>-4.8</td>\n",
       "      <td>-3.3</td>\n",
       "      <td>-1.0</td>\n",
       "    </tr>\n",
       "    <tr>\n",
       "      <th>4</th>\n",
       "      <td>376</td>\n",
       "      <td>1968</td>\n",
       "      <td>360</td>\n",
       "      <td>1968</td>\n",
       "      <td>B</td>\n",
       "      <td>2.6</td>\n",
       "      <td>1.2</td>\n",
       "      <td>2.4</td>\n",
       "      <td>-0.9</td>\n",
       "      <td>-2.6</td>\n",
       "      <td>...</td>\n",
       "      <td>-19.6</td>\n",
       "      <td>-14.3</td>\n",
       "      <td>0.0</td>\n",
       "      <td>1.0</td>\n",
       "      <td>-9.4</td>\n",
       "      <td>3.1</td>\n",
       "      <td>-10.6</td>\n",
       "      <td>-0.4</td>\n",
       "      <td>1.7</td>\n",
       "      <td>25.7</td>\n",
       "    </tr>\n",
       "  </tbody>\n",
       "</table>\n",
       "<p>5 rows × 57 columns</p>\n",
       "</div>"
      ],
      "text/plain": [
       "   PRESTIGEID  STATIONOFFIRSTENTRYKEY   id  STATIONKEY Supergroup  \\\n",
       "0         125                     161  154         161          G   \n",
       "1         190                      70   68          70          D   \n",
       "2         247                    1980  366        1980          D   \n",
       "3         355                    1955  349        1955          C   \n",
       "4         376                    1968  360        1968          B   \n",
       "\n",
       "   % households where no one speaks English as a main  language  \\\n",
       "0                                                3.3              \n",
       "1                                               -1.6              \n",
       "2                                               -1.6              \n",
       "3                                                3.1              \n",
       "4                                                2.6              \n",
       "\n",
       "   % persons aged 0 to 4  % persons aged 5 to 14  % persons aged 25 to 44  \\\n",
       "0                    1.5                     1.9                      0.3   \n",
       "1                   -2.0                    -6.7                     18.4   \n",
       "2                   -2.0                    -6.7                     18.4   \n",
       "3                   -0.1                     1.4                     -4.1   \n",
       "4                    1.2                     2.4                     -0.9   \n",
       "\n",
       "   % persons aged 45 to 64             ...              \\\n",
       "0                     -2.5             ...               \n",
       "1                     -5.8             ...               \n",
       "2                     -5.8             ...               \n",
       "3                      1.1             ...               \n",
       "4                     -2.6             ...               \n",
       "\n",
       "   % persons who live in a terrace or end-terrace house  \\\n",
       "0                                                6.5      \n",
       "1                                              -18.0      \n",
       "2                                              -18.0      \n",
       "3                                               11.3      \n",
       "4                                              -19.6      \n",
       "\n",
       "   % households with two or more motor vehicles  \\\n",
       "0                                          -6.8   \n",
       "1                                         -11.7   \n",
       "2                                         -11.7   \n",
       "3                                          10.8   \n",
       "4                                         -14.3   \n",
       "\n",
       "   % persons whose highest qualification is Level 3  \\\n",
       "0                                              -0.2   \n",
       "1                                              -0.8   \n",
       "2                                              -0.8   \n",
       "3                                               0.0   \n",
       "4                                               0.0   \n",
       "\n",
       "   % persons whose highest qualification is Level 1, Level 2, or Apprenticeship  \\\n",
       "0                                                1.6                              \n",
       "1                                              -12.9                              \n",
       "2                                              -12.9                              \n",
       "3                                                1.6                              \n",
       "4                                                1.0                              \n",
       "\n",
       "   % persons whose highest qualification is Level 4 or above  \\\n",
       "0                                               -9.3           \n",
       "1                                               24.6           \n",
       "2                                               24.6           \n",
       "3                                               -6.5           \n",
       "4                                               -9.4           \n",
       "\n",
       "   % schoolchildren and full-time students aged 16 and over  \\\n",
       "0                                                2.8          \n",
       "1                                                1.2          \n",
       "2                                                1.2          \n",
       "3                                                2.0          \n",
       "4                                                3.1          \n",
       "\n",
       "   % working age adults who use private transport to get to work  \\\n",
       "0                                               -2.5               \n",
       "1                                              -11.3               \n",
       "2                                              -11.3               \n",
       "3                                                6.8               \n",
       "4                                              -10.6               \n",
       "\n",
       "   % working age adults who use public transport to get to work  \\\n",
       "0                                                0.7              \n",
       "1                                               11.5              \n",
       "2                                               11.5              \n",
       "3                                               -4.8              \n",
       "4                                               -0.4              \n",
       "\n",
       "   % working age adults who walk, cycle, or use an alternative method to get to work  \\\n",
       "0                                               -2.4                                   \n",
       "1                                                7.4                                   \n",
       "2                                                7.4                                   \n",
       "3                                               -3.3                                   \n",
       "4                                                1.7                                   \n",
       "\n",
       "   Standardised Illness Ratio  \n",
       "0                         5.3  \n",
       "1                       -36.4  \n",
       "2                       -36.4  \n",
       "3                        -1.0  \n",
       "4                        25.7  \n",
       "\n",
       "[5 rows x 57 columns]"
      ]
     },
     "execution_count": 32,
     "metadata": {},
     "output_type": "execute_result"
    }
   ],
   "source": [
    "# Show the head of the passengerfinal_df_clustering dataframe\n",
    "\n",
    "passengerfinal_df_clustering.head()\n"
   ]
  },
  {
   "cell_type": "code",
   "execution_count": null,
   "metadata": {
    "collapsed": true
   },
   "outputs": [],
   "source": []
  },
  {
   "cell_type": "code",
   "execution_count": 33,
   "metadata": {
    "collapsed": false
   },
   "outputs": [
    {
     "data": {
      "text/plain": [
       "True"
      ]
     },
     "execution_count": 33,
     "metadata": {},
     "output_type": "execute_result"
    }
   ],
   "source": [
    "# Check if the new dataframe has any null values\n",
    "\n",
    "passengerfinal_df_clustering.isnull().values.any()\n"
   ]
  },
  {
   "cell_type": "code",
   "execution_count": 34,
   "metadata": {
    "collapsed": false
   },
   "outputs": [
    {
     "data": {
      "text/plain": [
       "PRESTIGEID                                                                                0\n",
       "STATIONOFFIRSTENTRYKEY                                                                    0\n",
       "id                                                                                        0\n",
       "STATIONKEY                                                                                0\n",
       "Supergroup                                                                                0\n",
       "% households where no one speaks English as a main  language                          34326\n",
       "% persons aged 0 to 4                                                                 34326\n",
       "% persons aged 5 to 14                                                                34326\n",
       "% persons aged 25 to 44                                                               34326\n",
       "% persons aged 45 to 64                                                               34326\n",
       "% persons aged 65 to 89                                                               34326\n",
       "% persons aged 90 and over                                                            34326\n",
       "% persons born in UK or Ireland                                                       34326\n",
       "% persons who are divorced or separated                                               34326\n",
       "% persons who are married or in a civil partnership                                   34326\n",
       "% persons who are single                                                              34326\n",
       "% persons who have Arab or any other ethnicity                                        34326\n",
       "% persons who have Bangladeshi ethnicity                                              34326\n",
       "% persons who have Black ethnicity                                                    34326\n",
       "% persons who have Chinese or Other Asian ethnicity                                   34326\n",
       "% persons who have Indian ethnicity                                                   34326\n",
       "% persons who have mixed ethnicity                                                    34326\n",
       "% persons who have Pakistani ethnicity                                                34326\n",
       "% persons who have White ethnicity                                                    34326\n",
       "Number of persons per hectare                                                         34326\n",
       "% working age adults who are unemployed                                               34326\n",
       "% working age adults who work full-time                                               34326\n",
       "% working age adults who work in accommodation or food service                        34326\n",
       "% working age adults who work in admin or support service                             34326\n",
       "% working age adults who work in agriculture, forestry, or fishing                    34326\n",
       "% working age adults who work in education                                            34326\n",
       "% working age adults who work in energy, water, or air conditioning supply            34326\n",
       "% working age adults who work in finance, insurance, or real estate                   34326\n",
       "% working age adults who work in human health or social work                          34326\n",
       "% working age adults who work in mining, quarrying, or construction                   34326\n",
       "% working age adults who work in professional, scientific, or technical industries    34326\n",
       "% working age adults who work in public admin or defense                              34326\n",
       "% working age adults who work in manufacturing industry                               34326\n",
       "% working age adults who work in transport or storage industries                      34326\n",
       "% working age adults who work in wholesale or retail trade                            34326\n",
       "% working age adults who work part-time                                               34326\n",
       "% households with full-time students                                                  34326\n",
       "% households with no children                                                         34326\n",
       "% households with non-dependent children                                              34326\n",
       "% persons who live in a detached house or bungalow                                    34326\n",
       "% persons who live in a flat                                                          34326\n",
       "% persons who live in a semi-detached house or bungalow                               34326\n",
       "% persons who live in a terrace or end-terrace house                                  34326\n",
       "% households with two or more motor vehicles                                          34326\n",
       "% persons whose highest qualification is Level 3                                      34326\n",
       "% persons whose highest qualification is Level 1, Level 2, or Apprenticeship          34326\n",
       "% persons whose highest qualification is Level 4 or above                             34326\n",
       "% schoolchildren and full-time students aged 16 and over                              34326\n",
       "% working age adults who use private transport to get to work                         34326\n",
       "% working age adults who use public transport to get to work                          34326\n",
       "% working age adults who walk, cycle, or use an alternative method to get to work     34326\n",
       "Standardised Illness Ratio                                                            34326\n",
       "dtype: int64"
      ]
     },
     "execution_count": 34,
     "metadata": {},
     "output_type": "execute_result"
    }
   ],
   "source": [
    "# Check which columns have null values and how many each column has\n",
    "\n",
    "passengerfinal_df_clustering.isnull().sum()\n"
   ]
  },
  {
   "cell_type": "code",
   "execution_count": 35,
   "metadata": {
    "collapsed": true
   },
   "outputs": [],
   "source": [
    "# Drop rows with null values, since the null values relate to those records in which a Supergroup code was not assigned\n",
    "# (these rows are designated by the Supergroup code \"X\"), and as such, these records in which a Supergroup code was not \n",
    "# assigned are no longer relevant for the next stage of our analysis\n",
    "\n",
    "passengerfinal_df_clustering = passengerfinal_df_clustering.dropna()\n"
   ]
  },
  {
   "cell_type": "code",
   "execution_count": null,
   "metadata": {
    "collapsed": false
   },
   "outputs": [],
   "source": []
  },
  {
   "cell_type": "code",
   "execution_count": 36,
   "metadata": {
    "collapsed": false
   },
   "outputs": [],
   "source": [
    "# Based on sd-clean.py by Elizabeth Sklar (28-mar-2017)\n",
    "\n",
    "# Input the passengerfinal_df_clustering dataframe into a list in preparation for the k-means clustering\n",
    "\n",
    "\n",
    "import sys\n",
    "import csv\n",
    "\n",
    "passengerfinal_df_clustering.to_csv(\"passengerfinal_df_clustering.csv\", sep = ',')\n",
    "\n",
    "try:\n",
    "# open data file in csv format\n",
    "    f = open( 'passengerfinal_df_clustering.csv', 'rU' )\n",
    "# read contents of data file into \"rawdata\" list\n",
    "    indata = csv.reader( f )\n",
    "# parse data in csv format\n",
    "    rawdata = [rec for rec in indata]\n",
    "# handle exceptions:\n",
    "except IOError as iox:\n",
    "    print '** I/O error trying to open the data file> ' + str( iox )\n",
    "    sys.exit()\n",
    "except Exception as x:\n",
    "    print '** error> ' + str( x )\n",
    "    sys.exit()\n"
   ]
  },
  {
   "cell_type": "code",
   "execution_count": 37,
   "metadata": {
    "collapsed": false
   },
   "outputs": [
    {
     "name": "stdout",
     "output_type": "stream",
     "text": [
      "header=\n",
      "['', 'PRESTIGEID', 'STATIONOFFIRSTENTRYKEY', 'id', 'STATIONKEY', 'Supergroup', '% households where no one speaks English as a main  language', '% persons aged 0 to 4', '% persons aged 5 to 14', '% persons aged 25 to 44', '% persons aged 45 to 64', '% persons aged 65 to 89', '% persons aged 90 and over', '% persons born in UK or Ireland', '% persons who are divorced or separated', '% persons who are married or in a civil partnership', '% persons who are single', '% persons who have Arab or any other ethnicity', '% persons who have Bangladeshi ethnicity', '% persons who have Black ethnicity', '% persons who have Chinese or Other Asian ethnicity', '% persons who have Indian ethnicity', '% persons who have mixed ethnicity', '% persons who have Pakistani ethnicity', '% persons who have White ethnicity', 'Number of persons per hectare', '% working age adults who are unemployed', '% working age adults who work full-time', '% working age adults who work in accommodation or food service', '% working age adults who work in admin or support service', '% working age adults who work in agriculture, forestry, or fishing', '% working age adults who work in education', '% working age adults who work in energy, water, or air conditioning supply', '% working age adults who work in finance, insurance, or real estate', '% working age adults who work in human health or social work', '% working age adults who work in mining, quarrying, or construction', '% working age adults who work in professional, scientific, or technical industries', '% working age adults who work in public admin or defense', '% working age adults who work in manufacturing industry', '% working age adults who work in transport or storage industries', '% working age adults who work in wholesale or retail trade', '% working age adults who work part-time', '% households with full-time students', '% households with no children', '% households with non-dependent children', '% persons who live in a detached house or bungalow', '% persons who live in a flat', '% persons who live in a semi-detached house or bungalow', '% persons who live in a terrace or end-terrace house', '% households with two or more motor vehicles', '% persons whose highest qualification is Level 3', '% persons whose highest qualification is Level 1, Level 2, or Apprenticeship', '% persons whose highest qualification is Level 4 or above', '% schoolchildren and full-time students aged 16 and over', '% working age adults who use private transport to get to work', '% working age adults who use public transport to get to work', '% working age adults who walk, cycle, or use an alternative method to get to work', 'Standardised Illness Ratio']\n",
      "number of features = 58\n",
      "features:\n",
      "index=0  feature=[]\n",
      "index=1  feature=[PRESTIGEID]\n",
      "index=2  feature=[STATIONOFFIRSTENTRYKEY]\n",
      "index=3  feature=[id]\n",
      "index=4  feature=[STATIONKEY]\n",
      "index=5  feature=[Supergroup]\n",
      "index=6  feature=[% households where no one speaks English as a main  language]\n",
      "index=7  feature=[% persons aged 0 to 4]\n",
      "index=8  feature=[% persons aged 5 to 14]\n",
      "index=9  feature=[% persons aged 25 to 44]\n",
      "index=10  feature=[% persons aged 45 to 64]\n",
      "index=11  feature=[% persons aged 65 to 89]\n",
      "index=12  feature=[% persons aged 90 and over]\n",
      "index=13  feature=[% persons born in UK or Ireland]\n",
      "index=14  feature=[% persons who are divorced or separated]\n",
      "index=15  feature=[% persons who are married or in a civil partnership]\n",
      "index=16  feature=[% persons who are single]\n",
      "index=17  feature=[% persons who have Arab or any other ethnicity]\n",
      "index=18  feature=[% persons who have Bangladeshi ethnicity]\n",
      "index=19  feature=[% persons who have Black ethnicity]\n",
      "index=20  feature=[% persons who have Chinese or Other Asian ethnicity]\n",
      "index=21  feature=[% persons who have Indian ethnicity]\n",
      "index=22  feature=[% persons who have mixed ethnicity]\n",
      "index=23  feature=[% persons who have Pakistani ethnicity]\n",
      "index=24  feature=[% persons who have White ethnicity]\n",
      "index=25  feature=[Number of persons per hectare]\n",
      "index=26  feature=[% working age adults who are unemployed]\n",
      "index=27  feature=[% working age adults who work full-time]\n",
      "index=28  feature=[% working age adults who work in accommodation or food service]\n",
      "index=29  feature=[% working age adults who work in admin or support service]\n",
      "index=30  feature=[% working age adults who work in agriculture, forestry, or fishing]\n",
      "index=31  feature=[% working age adults who work in education]\n",
      "index=32  feature=[% working age adults who work in energy, water, or air conditioning supply]\n",
      "index=33  feature=[% working age adults who work in finance, insurance, or real estate]\n",
      "index=34  feature=[% working age adults who work in human health or social work]\n",
      "index=35  feature=[% working age adults who work in mining, quarrying, or construction]\n",
      "index=36  feature=[% working age adults who work in professional, scientific, or technical industries]\n",
      "index=37  feature=[% working age adults who work in public admin or defense]\n",
      "index=38  feature=[% working age adults who work in manufacturing industry]\n",
      "index=39  feature=[% working age adults who work in transport or storage industries]\n",
      "index=40  feature=[% working age adults who work in wholesale or retail trade]\n",
      "index=41  feature=[% working age adults who work part-time]\n",
      "index=42  feature=[% households with full-time students]\n",
      "index=43  feature=[% households with no children]\n",
      "index=44  feature=[% households with non-dependent children]\n",
      "index=45  feature=[% persons who live in a detached house or bungalow]\n",
      "index=46  feature=[% persons who live in a flat]\n",
      "index=47  feature=[% persons who live in a semi-detached house or bungalow]\n",
      "index=48  feature=[% persons who live in a terrace or end-terrace house]\n",
      "index=49  feature=[% households with two or more motor vehicles]\n",
      "index=50  feature=[% persons whose highest qualification is Level 3]\n",
      "index=51  feature=[% persons whose highest qualification is Level 1, Level 2, or Apprenticeship]\n",
      "index=52  feature=[% persons whose highest qualification is Level 4 or above]\n",
      "index=53  feature=[% schoolchildren and full-time students aged 16 and over]\n",
      "index=54  feature=[% working age adults who use private transport to get to work]\n",
      "index=55  feature=[% working age adults who use public transport to get to work]\n",
      "index=56  feature=[% working age adults who walk, cycle, or use an alternative method to get to work]\n",
      "index=57  feature=[Standardised Illness Ratio]\n"
     ]
    }
   ],
   "source": [
    "# Based on sd-clean.py by Elizabeth Sklar (28-mar-2017)\n",
    "\n",
    "# The code below handles the header in the input file by printing it and then deleting it from the data file\n",
    "\n",
    "header = rawdata[0]\n",
    "del rawdata[0]\n",
    "print 'header='\n",
    "print header\n",
    "print( 'number of features = %d' % len( header ) )\n",
    "print 'features:'\n",
    "for i, f in zip( range(len(header)), header ):\n",
    "    print( 'index=%d  feature=[%s]' % ( i, f ))\n"
   ]
  },
  {
   "cell_type": "code",
   "execution_count": null,
   "metadata": {
    "collapsed": true
   },
   "outputs": [],
   "source": []
  },
  {
   "cell_type": "code",
   "execution_count": null,
   "metadata": {
    "collapsed": true
   },
   "outputs": [],
   "source": [
    "# The following cells conduct cluster analysis on each set of related features"
   ]
  },
  {
   "cell_type": "markdown",
   "metadata": {},
   "source": [
    "### Features related to Age"
   ]
  },
  {
   "cell_type": "code",
   "execution_count": 97,
   "metadata": {
    "collapsed": false
   },
   "outputs": [
    {
     "name": "stdout",
     "output_type": "stream",
     "text": [
      "number of instances = 2160016\n",
      "shape of input data = 2160016 x 6\n",
      "shape of target data = 2160016\n"
     ]
    }
   ],
   "source": [
    "features = [7, 8, 9, 10, 11, 12]\n",
    "\n",
    "num_features = len(features)\n",
    "\n",
    "label = 5\n",
    "\n",
    "#-gather fields of interest from data set into X and y\n",
    "X = []\n",
    "y = []\n",
    "\n",
    "for rec in rawdata:\n",
    "    instance = []\n",
    "    for f in features:\n",
    "        instance.append( float( rec[f] ))\n",
    "    X.append( instance )        # Get each record\n",
    "    y.append( rec[label] )      # Get the corresponding Supergroup label of each record\n",
    "        \n",
    "X = np.array( X )\n",
    "y = np.array( y )\n",
    "\n",
    "num_instances = X.shape[0]\n",
    "\n",
    "print 'number of instances = %d' % num_instances\n",
    "print 'shape of input data = %d x %d' % ( X.shape[0], X.shape[1] )\n",
    "print 'shape of target data = %d' % ( y.shape[0] )\n",
    "\n"
   ]
  },
  {
   "cell_type": "code",
   "execution_count": 92,
   "metadata": {
    "collapsed": false
   },
   "outputs": [],
   "source": [
    "# Create a dataframe with the results of the Inertia and Calinski-Harabasz scores\n",
    "\n",
    "\n",
    "columns = ['No. of clusters', 'Inertia', 'Calinski-Harabaz Score']\n",
    "\n",
    "index = np.arange(14)\n",
    "\n",
    "df1 = pd.DataFrame(columns = columns, index = index)\n",
    "\n",
    "line_count = 0\n",
    "\n",
    "n_clusters = [2, 3, 4, 5, 6, 7, 8, 9, 10, 20, 30, 40, 50, 100]\n",
    "\n",
    "cluster_count = 0\n",
    "\n",
    "while cluster_count < 14:\n",
    "    km = cluster.KMeans( n_clusters[cluster_count] ).fit( X )\n",
    "    labels = km.labels_\n",
    "    ch_score = metrics.calinski_harabaz_score(X, labels)\n",
    "    df1['No. of clusters'][line_count] = n_clusters[cluster_count]\n",
    "    df1['Inertia'][line_count] = km.inertia_\n",
    "    df1['Calinski-Harabaz Score'][line_count] = ch_score\n",
    "    cluster_count = cluster_count + 1\n",
    "    line_count = line_count + 1\n",
    "\n"
   ]
  },
  {
   "cell_type": "code",
   "execution_count": 106,
   "metadata": {
    "collapsed": false
   },
   "outputs": [
    {
     "data": {
      "text/html": [
       "<div>\n",
       "<table border=\"1\" class=\"dataframe\">\n",
       "  <thead>\n",
       "    <tr style=\"text-align: right;\">\n",
       "      <th></th>\n",
       "      <th>No. of clusters</th>\n",
       "      <th>Inertia</th>\n",
       "      <th>Calinski-Harabaz Score</th>\n",
       "    </tr>\n",
       "  </thead>\n",
       "  <tbody>\n",
       "    <tr>\n",
       "      <th>0</th>\n",
       "      <td>2</td>\n",
       "      <td>3.35668e+07</td>\n",
       "      <td>1.33623e+07</td>\n",
       "    </tr>\n",
       "    <tr>\n",
       "      <th>1</th>\n",
       "      <td>3</td>\n",
       "      <td>1.44119e+07</td>\n",
       "      <td>1.69966e+07</td>\n",
       "    </tr>\n",
       "    <tr>\n",
       "      <th>2</th>\n",
       "      <td>4</td>\n",
       "      <td>5.95575e+06</td>\n",
       "      <td>2.84415e+07</td>\n",
       "    </tr>\n",
       "    <tr>\n",
       "      <th>3</th>\n",
       "      <td>5</td>\n",
       "      <td>2.17439e+06</td>\n",
       "      <td>5.93659e+07</td>\n",
       "    </tr>\n",
       "    <tr>\n",
       "      <th>4</th>\n",
       "      <td>6</td>\n",
       "      <td>513212</td>\n",
       "      <td>2.02617e+08</td>\n",
       "    </tr>\n",
       "    <tr>\n",
       "      <th>5</th>\n",
       "      <td>7</td>\n",
       "      <td>186988</td>\n",
       "      <td>4.64052e+08</td>\n",
       "    </tr>\n",
       "    <tr>\n",
       "      <th>6</th>\n",
       "      <td>8</td>\n",
       "      <td>1.07352e-14</td>\n",
       "      <td>2.46875e+27</td>\n",
       "    </tr>\n",
       "    <tr>\n",
       "      <th>7</th>\n",
       "      <td>9</td>\n",
       "      <td>1.07352e-14</td>\n",
       "      <td>2.46875e+27</td>\n",
       "    </tr>\n",
       "    <tr>\n",
       "      <th>8</th>\n",
       "      <td>10</td>\n",
       "      <td>1.07352e-14</td>\n",
       "      <td>2.46875e+27</td>\n",
       "    </tr>\n",
       "    <tr>\n",
       "      <th>9</th>\n",
       "      <td>20</td>\n",
       "      <td>7.68617e-16</td>\n",
       "      <td>2.46875e+27</td>\n",
       "    </tr>\n",
       "    <tr>\n",
       "      <th>10</th>\n",
       "      <td>30</td>\n",
       "      <td>5.87073e-16</td>\n",
       "      <td>2.46875e+27</td>\n",
       "    </tr>\n",
       "    <tr>\n",
       "      <th>11</th>\n",
       "      <td>40</td>\n",
       "      <td>5.87073e-16</td>\n",
       "      <td>2.46875e+27</td>\n",
       "    </tr>\n",
       "    <tr>\n",
       "      <th>12</th>\n",
       "      <td>50</td>\n",
       "      <td>5.87073e-16</td>\n",
       "      <td>2.46875e+27</td>\n",
       "    </tr>\n",
       "    <tr>\n",
       "      <th>13</th>\n",
       "      <td>100</td>\n",
       "      <td>2.70578e-19</td>\n",
       "      <td>2.46875e+27</td>\n",
       "    </tr>\n",
       "  </tbody>\n",
       "</table>\n",
       "</div>"
      ],
      "text/plain": [
       "   No. of clusters      Inertia Calinski-Harabaz Score\n",
       "0                2  3.35668e+07            1.33623e+07\n",
       "1                3  1.44119e+07            1.69966e+07\n",
       "2                4  5.95575e+06            2.84415e+07\n",
       "3                5  2.17439e+06            5.93659e+07\n",
       "4                6       513212            2.02617e+08\n",
       "5                7       186988            4.64052e+08\n",
       "6                8  1.07352e-14            2.46875e+27\n",
       "7                9  1.07352e-14            2.46875e+27\n",
       "8               10  1.07352e-14            2.46875e+27\n",
       "9               20  7.68617e-16            2.46875e+27\n",
       "10              30  5.87073e-16            2.46875e+27\n",
       "11              40  5.87073e-16            2.46875e+27\n",
       "12              50  5.87073e-16            2.46875e+27\n",
       "13             100  2.70578e-19            2.46875e+27"
      ]
     },
     "execution_count": 106,
     "metadata": {},
     "output_type": "execute_result"
    }
   ],
   "source": [
    "# Show the results of the Inertia and Calinski-Harabasz scores\n",
    "\n",
    "df1"
   ]
  },
  {
   "cell_type": "code",
   "execution_count": 98,
   "metadata": {
    "collapsed": true
   },
   "outputs": [],
   "source": [
    "# Since the above results show that the ideal clustering is 8 clusters, fit the model such that it partitions the data into\n",
    "# 8 clusters.\n",
    "\n",
    "km = cluster.KMeans(n_clusters=8).fit(X)"
   ]
  },
  {
   "cell_type": "code",
   "execution_count": 99,
   "metadata": {
    "collapsed": false
   },
   "outputs": [
    {
     "data": {
      "text/plain": [
       "array([[ -2. ,  -6.7,  18.4,  -5.8,  -4. ,  -0.2],\n",
       "       [  1.2,   2.4,  -0.9,  -2.6,  -2. ,  -0.1],\n",
       "       [ -0.5,  -2.6,   7.9,  -2. ,  -2.2,  -0.1],\n",
       "       [  0.3,  -1.3,   1.1,   1.9,   1.8,   0.3],\n",
       "       [ -0.1,   1.4,  -4.1,   1.1,   0.4,  -0.1],\n",
       "       [ -1.9,   0.9, -13.3,   7.8,   7.4,   0.3],\n",
       "       [  1.5,   1.9,   0.3,  -2.5,  -2.8,  -0.2],\n",
       "       [  0.6,   2.4,  -6.9,   1.9,   1.6,   0.2]])"
      ]
     },
     "execution_count": 99,
     "metadata": {},
     "output_type": "execute_result"
    }
   ],
   "source": [
    "# Show cluster centers (centroids) indicating mean values of each feature for each cluster\n",
    "\n",
    "km.cluster_centers_"
   ]
  },
  {
   "cell_type": "code",
   "execution_count": 100,
   "metadata": {
    "collapsed": false
   },
   "outputs": [
    {
     "data": {
      "text/plain": [
       "array([6, 0, 0, ..., 0, 1, 0])"
      ]
     },
     "execution_count": 100,
     "metadata": {},
     "output_type": "execute_result"
    }
   ],
   "source": [
    "# Show cluster labels\n",
    "\n",
    "my_label = km.labels_\n",
    "\n",
    "my_label\n"
   ]
  },
  {
   "cell_type": "code",
   "execution_count": 101,
   "metadata": {
    "collapsed": false
   },
   "outputs": [
    {
     "data": {
      "text/plain": [
       "(array([0, 1, 2, 3, 4, 5, 6, 7]),\n",
       " array([1044761,  273896,  255376,  171498,  124249,   10328,  261200,\n",
       "          18708], dtype=int64))"
      ]
     },
     "execution_count": 101,
     "metadata": {},
     "output_type": "execute_result"
    }
   ],
   "source": [
    "# Show distribution of cluster labels\n",
    "\n",
    "np.unique(my_label, return_counts=True)\n"
   ]
  },
  {
   "cell_type": "code",
   "execution_count": 102,
   "metadata": {
    "collapsed": false
   },
   "outputs": [
    {
     "data": {
      "text/plain": [
       "(array(['A', 'B', 'C', 'D', 'E', 'F', 'G', 'H'], \n",
       "       dtype='|S1'),\n",
       " array([  18708,  273896,  124249, 1044761,  255376,  171498,  261200,\n",
       "          10328], dtype=int64))"
      ]
     },
     "execution_count": 102,
     "metadata": {},
     "output_type": "execute_result"
    }
   ],
   "source": [
    "# Show distribution of Supergroup labels\n",
    "\n",
    "np.unique(y, return_counts=True)"
   ]
  },
  {
   "cell_type": "code",
   "execution_count": null,
   "metadata": {
    "collapsed": true
   },
   "outputs": [],
   "source": []
  },
  {
   "cell_type": "markdown",
   "metadata": {},
   "source": [
    "### Features related to Marital Status"
   ]
  },
  {
   "cell_type": "code",
   "execution_count": 103,
   "metadata": {
    "collapsed": false
   },
   "outputs": [
    {
     "name": "stdout",
     "output_type": "stream",
     "text": [
      "number of instances = 2160016\n",
      "shape of input data = 2160016 x 3\n"
     ]
    }
   ],
   "source": [
    "features = [14, 15, 16]\n",
    "\n",
    "num_features = len(features)\n",
    "\n",
    "#-gather fields of interest from full data set into X and y\n",
    "X = []\n",
    "\n",
    "for rec in rawdata:\n",
    "    instance = []\n",
    "    for f in features:\n",
    "        instance.append( float( rec[f] ))\n",
    "    X.append( instance )\n",
    "        \n",
    "X = np.array( X )\n",
    "num_instances = X.shape[0]\n",
    "\n",
    "print 'number of instances = %d' % num_instances\n",
    "print 'shape of input data = %d x %d' % ( X.shape[0], X.shape[1] )\n",
    "\n"
   ]
  },
  {
   "cell_type": "code",
   "execution_count": 39,
   "metadata": {
    "collapsed": true
   },
   "outputs": [],
   "source": [
    "# Create a dataframe with the results of the Inertia and Calinski-Harabasz scores\n",
    "\n",
    "\n",
    "columns = ['No. of clusters', 'Inertia', 'Calinski-Harabaz Score']\n",
    "\n",
    "index = np.arange(14)\n",
    "\n",
    "df2 = pd.DataFrame(columns = columns, index = index)\n",
    "\n",
    "line_count = 0\n",
    "\n",
    "n_clusters = [2, 3, 4, 5, 6, 7, 8, 9, 10, 20, 30, 40, 50, 100]\n",
    "\n",
    "cluster_count = 0\n",
    "\n",
    "while cluster_count < 14:\n",
    "    km = cluster.KMeans( n_clusters[cluster_count] ).fit( X )\n",
    "    labels = km.labels_\n",
    "    ch_score = metrics.calinski_harabaz_score(X, labels)\n",
    "    df2['No. of clusters'][line_count] = n_clusters[cluster_count]\n",
    "    df2['Inertia'][line_count] = km.inertia_\n",
    "    df2['Calinski-Harabaz Score'][line_count] = ch_score\n",
    "    cluster_count = cluster_count + 1\n",
    "    line_count = line_count + 1\n",
    "\n"
   ]
  },
  {
   "cell_type": "code",
   "execution_count": 40,
   "metadata": {
    "collapsed": false
   },
   "outputs": [
    {
     "data": {
      "text/html": [
       "<div>\n",
       "<table border=\"1\" class=\"dataframe\">\n",
       "  <thead>\n",
       "    <tr style=\"text-align: right;\">\n",
       "      <th></th>\n",
       "      <th>No. of clusters</th>\n",
       "      <th>Inertia</th>\n",
       "      <th>Calinski-Harabaz Score</th>\n",
       "    </tr>\n",
       "  </thead>\n",
       "  <tbody>\n",
       "    <tr>\n",
       "      <th>0</th>\n",
       "      <td>2</td>\n",
       "      <td>6.02893e+07</td>\n",
       "      <td>7.27175e+06</td>\n",
       "    </tr>\n",
       "    <tr>\n",
       "      <th>1</th>\n",
       "      <td>3</td>\n",
       "      <td>2.58122e+07</td>\n",
       "      <td>9.93482e+06</td>\n",
       "    </tr>\n",
       "    <tr>\n",
       "      <th>2</th>\n",
       "      <td>4</td>\n",
       "      <td>1.04958e+07</td>\n",
       "      <td>1.7339e+07</td>\n",
       "    </tr>\n",
       "    <tr>\n",
       "      <th>3</th>\n",
       "      <td>5</td>\n",
       "      <td>5.50453e+06</td>\n",
       "      <td>2.52857e+07</td>\n",
       "    </tr>\n",
       "    <tr>\n",
       "      <th>4</th>\n",
       "      <td>6</td>\n",
       "      <td>1.64445e+06</td>\n",
       "      <td>6.8726e+07</td>\n",
       "    </tr>\n",
       "    <tr>\n",
       "      <th>5</th>\n",
       "      <td>7</td>\n",
       "      <td>712839</td>\n",
       "      <td>1.3259e+08</td>\n",
       "    </tr>\n",
       "    <tr>\n",
       "      <th>6</th>\n",
       "      <td>8</td>\n",
       "      <td>1.62552e-14</td>\n",
       "      <td>1.10681e+27</td>\n",
       "    </tr>\n",
       "    <tr>\n",
       "      <th>7</th>\n",
       "      <td>9</td>\n",
       "      <td>1.054e-15</td>\n",
       "      <td>1.10681e+27</td>\n",
       "    </tr>\n",
       "    <tr>\n",
       "      <th>8</th>\n",
       "      <td>10</td>\n",
       "      <td>1.05338e-15</td>\n",
       "      <td>1.10681e+27</td>\n",
       "    </tr>\n",
       "    <tr>\n",
       "      <th>9</th>\n",
       "      <td>20</td>\n",
       "      <td>6.93136e-16</td>\n",
       "      <td>1.10681e+27</td>\n",
       "    </tr>\n",
       "    <tr>\n",
       "      <th>10</th>\n",
       "      <td>30</td>\n",
       "      <td>3.60365e-16</td>\n",
       "      <td>1.10681e+27</td>\n",
       "    </tr>\n",
       "    <tr>\n",
       "      <th>11</th>\n",
       "      <td>40</td>\n",
       "      <td>3.60365e-16</td>\n",
       "      <td>1.10681e+27</td>\n",
       "    </tr>\n",
       "    <tr>\n",
       "      <th>12</th>\n",
       "      <td>50</td>\n",
       "      <td>3.60365e-16</td>\n",
       "      <td>1.10681e+27</td>\n",
       "    </tr>\n",
       "    <tr>\n",
       "      <th>13</th>\n",
       "      <td>100</td>\n",
       "      <td>3.50397e-16</td>\n",
       "      <td>1.10681e+27</td>\n",
       "    </tr>\n",
       "  </tbody>\n",
       "</table>\n",
       "</div>"
      ],
      "text/plain": [
       "   No. of clusters      Inertia Calinski-Harabaz Score\n",
       "0                2  6.02893e+07            7.27175e+06\n",
       "1                3  2.58122e+07            9.93482e+06\n",
       "2                4  1.04958e+07             1.7339e+07\n",
       "3                5  5.50453e+06            2.52857e+07\n",
       "4                6  1.64445e+06             6.8726e+07\n",
       "5                7       712839             1.3259e+08\n",
       "6                8  1.62552e-14            1.10681e+27\n",
       "7                9    1.054e-15            1.10681e+27\n",
       "8               10  1.05338e-15            1.10681e+27\n",
       "9               20  6.93136e-16            1.10681e+27\n",
       "10              30  3.60365e-16            1.10681e+27\n",
       "11              40  3.60365e-16            1.10681e+27\n",
       "12              50  3.60365e-16            1.10681e+27\n",
       "13             100  3.50397e-16            1.10681e+27"
      ]
     },
     "execution_count": 40,
     "metadata": {},
     "output_type": "execute_result"
    }
   ],
   "source": [
    "# Show the results of the Inertia and Calinski-Harabasz scores\n",
    "\n",
    "df2"
   ]
  },
  {
   "cell_type": "code",
   "execution_count": 104,
   "metadata": {
    "collapsed": true
   },
   "outputs": [],
   "source": [
    "# Since the above results show that the ideal clustering is 8 clusters, fit the model such that it partitions the data into\n",
    "# 8 clusters.\n",
    "\n",
    "km = cluster.KMeans(n_clusters=8).fit(X)"
   ]
  },
  {
   "cell_type": "code",
   "execution_count": 105,
   "metadata": {
    "collapsed": false
   },
   "outputs": [
    {
     "data": {
      "text/plain": [
       "array([[ -2.40000000e+00,  -1.05000000e+01,   1.56000000e+01],\n",
       "       [ -2.70000000e+00,   1.15000000e+01,  -9.00000000e+00],\n",
       "       [  1.80000000e+00,  -2.60000000e+00,   1.20000000e+00],\n",
       "       [  4.00000000e+00,  -1.10000000e+01,   7.10000000e+00],\n",
       "       [ -1.40000000e+00,   5.90000000e+00,  -4.60000000e+00],\n",
       "       [ -2.27107222e-12,  -1.08000000e+01,   1.20000000e+01],\n",
       "       [ -3.20000000e+00,   1.78000000e+01,  -1.66000000e+01],\n",
       "       [  2.60000000e+00,   8.00000000e-01,  -5.10000000e+00]])"
      ]
     },
     "execution_count": 105,
     "metadata": {},
     "output_type": "execute_result"
    }
   ],
   "source": [
    "# Show cluster centers (centroids) indicating mean values of each feature for each cluster\n",
    "\n",
    "km.cluster_centers_"
   ]
  },
  {
   "cell_type": "code",
   "execution_count": 106,
   "metadata": {
    "collapsed": false
   },
   "outputs": [
    {
     "data": {
      "text/plain": [
       "array([2, 0, 0, ..., 0, 3, 0])"
      ]
     },
     "execution_count": 106,
     "metadata": {},
     "output_type": "execute_result"
    }
   ],
   "source": [
    "# Show cluster labels\n",
    "\n",
    "my_label = km.labels_\n",
    "\n",
    "my_label\n"
   ]
  },
  {
   "cell_type": "code",
   "execution_count": 107,
   "metadata": {
    "collapsed": false
   },
   "outputs": [
    {
     "data": {
      "text/plain": [
       "(array([0, 1, 2, 3, 4, 5, 6, 7]),\n",
       " array([1044761,  124249,  261200,  273896,  171498,  255376,   10328,\n",
       "          18708], dtype=int64))"
      ]
     },
     "execution_count": 107,
     "metadata": {},
     "output_type": "execute_result"
    }
   ],
   "source": [
    "# Show distribution of cluster labels\n",
    "\n",
    "np.unique(my_label, return_counts=True)\n"
   ]
  },
  {
   "cell_type": "code",
   "execution_count": 108,
   "metadata": {
    "collapsed": false
   },
   "outputs": [
    {
     "data": {
      "text/plain": [
       "(array(['A', 'B', 'C', 'D', 'E', 'F', 'G', 'H'], \n",
       "       dtype='|S1'),\n",
       " array([  18708,  273896,  124249, 1044761,  255376,  171498,  261200,\n",
       "          10328], dtype=int64))"
      ]
     },
     "execution_count": 108,
     "metadata": {},
     "output_type": "execute_result"
    }
   ],
   "source": [
    "# Show distribution of Supergroup labels\n",
    "\n",
    "np.unique(y, return_counts=True)"
   ]
  },
  {
   "cell_type": "code",
   "execution_count": null,
   "metadata": {
    "collapsed": true
   },
   "outputs": [],
   "source": []
  },
  {
   "cell_type": "markdown",
   "metadata": {},
   "source": [
    "### Features related to Ethnicity"
   ]
  },
  {
   "cell_type": "code",
   "execution_count": 109,
   "metadata": {
    "collapsed": false
   },
   "outputs": [
    {
     "name": "stdout",
     "output_type": "stream",
     "text": [
      "number of instances = 2160016\n",
      "shape of input data = 2160016 x 8\n"
     ]
    }
   ],
   "source": [
    "features = [17, 18, 19, 20, 21, 22, 23, 24]\n",
    "\n",
    "num_features = len(features)\n",
    "\n",
    "#-gather fields of interest from full data set into X and y\n",
    "X = []\n",
    "\n",
    "for rec in rawdata:\n",
    "    instance = []\n",
    "    for f in features:\n",
    "        instance.append( float( rec[f] ))\n",
    "    X.append( instance )\n",
    "        \n",
    "X = np.array( X )\n",
    "num_instances = X.shape[0]\n",
    "\n",
    "print 'number of instances = %d' % num_instances\n",
    "print 'shape of input data = %d x %d' % ( X.shape[0], X.shape[1] )\n",
    "\n"
   ]
  },
  {
   "cell_type": "code",
   "execution_count": 46,
   "metadata": {
    "collapsed": true
   },
   "outputs": [],
   "source": [
    "# Create a dataframe with the results of the Inertia and Calinski-Harabasz scores\n",
    "\n",
    "\n",
    "columns = ['No. of clusters', 'Inertia', 'Calinski-Harabaz Score']\n",
    "\n",
    "index = np.arange(14)\n",
    "\n",
    "df3 = pd.DataFrame(columns = columns, index = index)\n",
    "\n",
    "line_count = 0\n",
    "\n",
    "n_clusters = [2, 3, 4, 5, 6, 7, 8, 9, 10, 20, 30, 40, 50, 100]\n",
    "\n",
    "cluster_count = 0\n",
    "\n",
    "while cluster_count < 14:\n",
    "    km = cluster.KMeans( n_clusters[cluster_count] ).fit( X )\n",
    "    labels = km.labels_\n",
    "    ch_score = metrics.calinski_harabaz_score(X, labels)\n",
    "    df3['No. of clusters'][line_count] = n_clusters[cluster_count]\n",
    "    df3['Inertia'][line_count] = km.inertia_\n",
    "    df3['Calinski-Harabaz Score'][line_count] = ch_score\n",
    "    cluster_count = cluster_count + 1\n",
    "    line_count = line_count + 1\n",
    "\n"
   ]
  },
  {
   "cell_type": "code",
   "execution_count": 47,
   "metadata": {
    "collapsed": false
   },
   "outputs": [
    {
     "data": {
      "text/html": [
       "<div>\n",
       "<table border=\"1\" class=\"dataframe\">\n",
       "  <thead>\n",
       "    <tr style=\"text-align: right;\">\n",
       "      <th></th>\n",
       "      <th>No. of clusters</th>\n",
       "      <th>Inertia</th>\n",
       "      <th>Calinski-Harabaz Score</th>\n",
       "    </tr>\n",
       "  </thead>\n",
       "  <tbody>\n",
       "    <tr>\n",
       "      <th>0</th>\n",
       "      <td>2</td>\n",
       "      <td>1.33151e+08</td>\n",
       "      <td>7.89934e+06</td>\n",
       "    </tr>\n",
       "    <tr>\n",
       "      <th>1</th>\n",
       "      <td>3</td>\n",
       "      <td>6.71268e+07</td>\n",
       "      <td>8.89669e+06</td>\n",
       "    </tr>\n",
       "    <tr>\n",
       "      <th>2</th>\n",
       "      <td>4</td>\n",
       "      <td>3.32359e+07</td>\n",
       "      <td>1.27133e+07</td>\n",
       "    </tr>\n",
       "    <tr>\n",
       "      <th>3</th>\n",
       "      <td>5</td>\n",
       "      <td>1.11714e+07</td>\n",
       "      <td>2.94341e+07</td>\n",
       "    </tr>\n",
       "    <tr>\n",
       "      <th>4</th>\n",
       "      <td>6</td>\n",
       "      <td>579747</td>\n",
       "      <td>4.61634e+08</td>\n",
       "    </tr>\n",
       "    <tr>\n",
       "      <th>5</th>\n",
       "      <td>7</td>\n",
       "      <td>103356</td>\n",
       "      <td>2.1595e+09</td>\n",
       "    </tr>\n",
       "    <tr>\n",
       "      <th>6</th>\n",
       "      <td>8</td>\n",
       "      <td>2.96572e-14</td>\n",
       "      <td>3.02224e+27</td>\n",
       "    </tr>\n",
       "    <tr>\n",
       "      <th>7</th>\n",
       "      <td>9</td>\n",
       "      <td>2.96572e-14</td>\n",
       "      <td>3.02224e+27</td>\n",
       "    </tr>\n",
       "    <tr>\n",
       "      <th>8</th>\n",
       "      <td>10</td>\n",
       "      <td>3.8285e-15</td>\n",
       "      <td>3.02224e+27</td>\n",
       "    </tr>\n",
       "    <tr>\n",
       "      <th>9</th>\n",
       "      <td>20</td>\n",
       "      <td>2.45657e-15</td>\n",
       "      <td>3.02224e+27</td>\n",
       "    </tr>\n",
       "    <tr>\n",
       "      <th>10</th>\n",
       "      <td>30</td>\n",
       "      <td>2.45657e-15</td>\n",
       "      <td>3.02224e+27</td>\n",
       "    </tr>\n",
       "    <tr>\n",
       "      <th>11</th>\n",
       "      <td>40</td>\n",
       "      <td>2.45657e-15</td>\n",
       "      <td>3.02224e+27</td>\n",
       "    </tr>\n",
       "    <tr>\n",
       "      <th>12</th>\n",
       "      <td>50</td>\n",
       "      <td>2.45657e-15</td>\n",
       "      <td>3.02224e+27</td>\n",
       "    </tr>\n",
       "    <tr>\n",
       "      <th>13</th>\n",
       "      <td>100</td>\n",
       "      <td>2.08155e-15</td>\n",
       "      <td>3.02224e+27</td>\n",
       "    </tr>\n",
       "  </tbody>\n",
       "</table>\n",
       "</div>"
      ],
      "text/plain": [
       "   No. of clusters      Inertia Calinski-Harabaz Score\n",
       "0                2  1.33151e+08            7.89934e+06\n",
       "1                3  6.71268e+07            8.89669e+06\n",
       "2                4  3.32359e+07            1.27133e+07\n",
       "3                5  1.11714e+07            2.94341e+07\n",
       "4                6       579747            4.61634e+08\n",
       "5                7       103356             2.1595e+09\n",
       "6                8  2.96572e-14            3.02224e+27\n",
       "7                9  2.96572e-14            3.02224e+27\n",
       "8               10   3.8285e-15            3.02224e+27\n",
       "9               20  2.45657e-15            3.02224e+27\n",
       "10              30  2.45657e-15            3.02224e+27\n",
       "11              40  2.45657e-15            3.02224e+27\n",
       "12              50  2.45657e-15            3.02224e+27\n",
       "13             100  2.08155e-15            3.02224e+27"
      ]
     },
     "execution_count": 47,
     "metadata": {},
     "output_type": "execute_result"
    }
   ],
   "source": [
    "# Show the results of the Inertia and Calinski-Harabasz scores\n",
    "\n",
    "df3"
   ]
  },
  {
   "cell_type": "code",
   "execution_count": 110,
   "metadata": {
    "collapsed": true
   },
   "outputs": [],
   "source": [
    "# Since the above results show that the ideal clustering is 8 clusters, fit the model such that it partitions the data into\n",
    "# 8 clusters.\n",
    "\n",
    "km = cluster.KMeans(n_clusters=8).fit(X)"
   ]
  },
  {
   "cell_type": "code",
   "execution_count": 111,
   "metadata": {
    "collapsed": false
   },
   "outputs": [
    {
     "data": {
      "text/plain": [
       "array([[  2.1,   6. ,  13.4,  -0.6,  -4. ,   1.6,  -1.4, -17.2],\n",
       "       [  1.6,  -1.3,  -8.1,   2.1,  -1.4,  -0.1,  -1.4,   8.6],\n",
       "       [  0.8,   0.4,  -2.7,   5.6,  16.2,  -1.2,   5.8, -24.8],\n",
       "       [ -0.3,  -1. ,   2. ,  -1.7,  -3.7,   1.4,  -1.6,   4.8],\n",
       "       [ -1.1,  -2.1,  -9.7,  -1.8,  -2.3,  -0.8,  -1.5,  19.2],\n",
       "       [  1.1,   1.2,   9.6,   1.8,   0.4,   1.1,   2.5, -17.6],\n",
       "       [ -1.7,  -1.6,   0.9,  -2.2,  -3.2,  -0.3,  -1.2,   9.3],\n",
       "       [ -2.2,  -2.1, -10. ,  -2.5,  -0.7,  -2.3,  -1.4,  21.2]])"
      ]
     },
     "execution_count": 111,
     "metadata": {},
     "output_type": "execute_result"
    }
   ],
   "source": [
    "# Show cluster centers (centroids) indicating mean values of each feature for each cluster\n",
    "\n",
    "km.cluster_centers_"
   ]
  },
  {
   "cell_type": "code",
   "execution_count": 112,
   "metadata": {
    "collapsed": false
   },
   "outputs": [
    {
     "data": {
      "text/plain": [
       "array([5, 1, 1, ..., 1, 0, 1])"
      ]
     },
     "execution_count": 112,
     "metadata": {},
     "output_type": "execute_result"
    }
   ],
   "source": [
    "# Show cluster labels\n",
    "\n",
    "my_label = km.labels_\n",
    "\n",
    "my_label\n"
   ]
  },
  {
   "cell_type": "code",
   "execution_count": 113,
   "metadata": {
    "collapsed": false
   },
   "outputs": [
    {
     "data": {
      "text/plain": [
       "(array([0, 1, 2, 3, 4, 5, 6, 7]),\n",
       " array([ 273896, 1044761,  124249,  255376,  171498,  261200,   18708,\n",
       "          10328], dtype=int64))"
      ]
     },
     "execution_count": 113,
     "metadata": {},
     "output_type": "execute_result"
    }
   ],
   "source": [
    "# Show distribution of cluster labels\n",
    "\n",
    "np.unique(my_label, return_counts=True)\n"
   ]
  },
  {
   "cell_type": "code",
   "execution_count": 114,
   "metadata": {
    "collapsed": false
   },
   "outputs": [
    {
     "data": {
      "text/plain": [
       "(array(['A', 'B', 'C', 'D', 'E', 'F', 'G', 'H'], \n",
       "       dtype='|S1'),\n",
       " array([  18708,  273896,  124249, 1044761,  255376,  171498,  261200,\n",
       "          10328], dtype=int64))"
      ]
     },
     "execution_count": 114,
     "metadata": {},
     "output_type": "execute_result"
    }
   ],
   "source": [
    "# Show distribution of Supergroup labels\n",
    "\n",
    "np.unique(y, return_counts=True)"
   ]
  },
  {
   "cell_type": "code",
   "execution_count": null,
   "metadata": {
    "collapsed": true
   },
   "outputs": [],
   "source": []
  },
  {
   "cell_type": "markdown",
   "metadata": {},
   "source": [
    "### Features related to Employment Sector"
   ]
  },
  {
   "cell_type": "code",
   "execution_count": 115,
   "metadata": {
    "collapsed": false
   },
   "outputs": [
    {
     "name": "stdout",
     "output_type": "stream",
     "text": [
      "number of instances = 2160016\n",
      "shape of input data = 2160016 x 13\n"
     ]
    }
   ],
   "source": [
    "features = [28, 29, 30, 31, 32, 33, 34, 35, 36, 37, 38, 39, 40]\n",
    "\n",
    "num_features = len(features)\n",
    "\n",
    "#-gather fields of interest from full data set into X and y\n",
    "X = []\n",
    "\n",
    "for rec in rawdata:\n",
    "    instance = []\n",
    "    for f in features:\n",
    "        instance.append( float( rec[f] ))\n",
    "    X.append( instance )\n",
    "        \n",
    "X = np.array( X )\n",
    "num_instances = X.shape[0]\n",
    "\n",
    "print 'number of instances = %d' % num_instances\n",
    "print 'shape of input data = %d x %d' % ( X.shape[0], X.shape[1] )\n",
    "\n"
   ]
  },
  {
   "cell_type": "code",
   "execution_count": 52,
   "metadata": {
    "collapsed": true
   },
   "outputs": [],
   "source": [
    "# Create a dataframe with the results of the Inertia and Calinski-Harabasz scores\n",
    "\n",
    "\n",
    "columns = ['No. of clusters', 'Inertia', 'Calinski-Harabaz Score']\n",
    "\n",
    "index = np.arange(14)\n",
    "\n",
    "df5 = pd.DataFrame(columns = columns, index = index)\n",
    "\n",
    "line_count = 0\n",
    "\n",
    "n_clusters = [2, 3, 4, 5, 6, 7, 8, 9, 10, 20, 30, 40, 50, 100]\n",
    "\n",
    "cluster_count = 0\n",
    "\n",
    "while cluster_count < 14:\n",
    "    km = cluster.KMeans( n_clusters[cluster_count] ).fit( X )\n",
    "    labels = km.labels_\n",
    "    ch_score = metrics.calinski_harabaz_score(X, labels)\n",
    "    df5['No. of clusters'][line_count] = n_clusters[cluster_count]\n",
    "    df5['Inertia'][line_count] = km.inertia_\n",
    "    df5['Calinski-Harabaz Score'][line_count] = ch_score\n",
    "    cluster_count = cluster_count + 1\n",
    "    line_count = line_count + 1\n",
    "\n"
   ]
  },
  {
   "cell_type": "code",
   "execution_count": 53,
   "metadata": {
    "collapsed": false
   },
   "outputs": [
    {
     "data": {
      "text/html": [
       "<div>\n",
       "<table border=\"1\" class=\"dataframe\">\n",
       "  <thead>\n",
       "    <tr style=\"text-align: right;\">\n",
       "      <th></th>\n",
       "      <th>No. of clusters</th>\n",
       "      <th>Inertia</th>\n",
       "      <th>Calinski-Harabaz Score</th>\n",
       "    </tr>\n",
       "  </thead>\n",
       "  <tbody>\n",
       "    <tr>\n",
       "      <th>0</th>\n",
       "      <td>2</td>\n",
       "      <td>4.89482e+07</td>\n",
       "      <td>9.49267e+06</td>\n",
       "    </tr>\n",
       "    <tr>\n",
       "      <th>1</th>\n",
       "      <td>3</td>\n",
       "      <td>1.16806e+07</td>\n",
       "      <td>2.33356e+07</td>\n",
       "    </tr>\n",
       "    <tr>\n",
       "      <th>2</th>\n",
       "      <td>4</td>\n",
       "      <td>6.45207e+06</td>\n",
       "      <td>2.87474e+07</td>\n",
       "    </tr>\n",
       "    <tr>\n",
       "      <th>3</th>\n",
       "      <td>5</td>\n",
       "      <td>3.49929e+06</td>\n",
       "      <td>4.02095e+07</td>\n",
       "    </tr>\n",
       "    <tr>\n",
       "      <th>4</th>\n",
       "      <td>6</td>\n",
       "      <td>1.23135e+06</td>\n",
       "      <td>9.22106e+07</td>\n",
       "    </tr>\n",
       "    <tr>\n",
       "      <th>5</th>\n",
       "      <td>7</td>\n",
       "      <td>442266</td>\n",
       "      <td>2.14585e+08</td>\n",
       "    </tr>\n",
       "    <tr>\n",
       "      <th>6</th>\n",
       "      <td>8</td>\n",
       "      <td>3.60241e-14</td>\n",
       "      <td>7.68282e+26</td>\n",
       "    </tr>\n",
       "    <tr>\n",
       "      <th>7</th>\n",
       "      <td>9</td>\n",
       "      <td>3.60241e-14</td>\n",
       "      <td>7.68282e+26</td>\n",
       "    </tr>\n",
       "    <tr>\n",
       "      <th>8</th>\n",
       "      <td>10</td>\n",
       "      <td>3.60238e-14</td>\n",
       "      <td>7.68282e+26</td>\n",
       "    </tr>\n",
       "    <tr>\n",
       "      <th>9</th>\n",
       "      <td>20</td>\n",
       "      <td>1.45156e-15</td>\n",
       "      <td>7.68282e+26</td>\n",
       "    </tr>\n",
       "    <tr>\n",
       "      <th>10</th>\n",
       "      <td>30</td>\n",
       "      <td>1.45156e-15</td>\n",
       "      <td>7.68282e+26</td>\n",
       "    </tr>\n",
       "    <tr>\n",
       "      <th>11</th>\n",
       "      <td>40</td>\n",
       "      <td>1.45156e-15</td>\n",
       "      <td>7.68282e+26</td>\n",
       "    </tr>\n",
       "    <tr>\n",
       "      <th>12</th>\n",
       "      <td>50</td>\n",
       "      <td>1.45156e-15</td>\n",
       "      <td>7.68282e+26</td>\n",
       "    </tr>\n",
       "    <tr>\n",
       "      <th>13</th>\n",
       "      <td>100</td>\n",
       "      <td>1.45156e-15</td>\n",
       "      <td>7.68282e+26</td>\n",
       "    </tr>\n",
       "  </tbody>\n",
       "</table>\n",
       "</div>"
      ],
      "text/plain": [
       "   No. of clusters      Inertia Calinski-Harabaz Score\n",
       "0                2  4.89482e+07            9.49267e+06\n",
       "1                3  1.16806e+07            2.33356e+07\n",
       "2                4  6.45207e+06            2.87474e+07\n",
       "3                5  3.49929e+06            4.02095e+07\n",
       "4                6  1.23135e+06            9.22106e+07\n",
       "5                7       442266            2.14585e+08\n",
       "6                8  3.60241e-14            7.68282e+26\n",
       "7                9  3.60241e-14            7.68282e+26\n",
       "8               10  3.60238e-14            7.68282e+26\n",
       "9               20  1.45156e-15            7.68282e+26\n",
       "10              30  1.45156e-15            7.68282e+26\n",
       "11              40  1.45156e-15            7.68282e+26\n",
       "12              50  1.45156e-15            7.68282e+26\n",
       "13             100  1.45156e-15            7.68282e+26"
      ]
     },
     "execution_count": 53,
     "metadata": {},
     "output_type": "execute_result"
    }
   ],
   "source": [
    "# Show the results of the Inertia and Calinski-Harabasz scores\n",
    "\n",
    "df5"
   ]
  },
  {
   "cell_type": "code",
   "execution_count": 116,
   "metadata": {
    "collapsed": true
   },
   "outputs": [],
   "source": [
    "# Since the above results show that the ideal clustering is 8 clusters, fit the model such that it partitions the data into\n",
    "# 8 clusters.\n",
    "\n",
    "km = cluster.KMeans(n_clusters=8).fit(X)"
   ]
  },
  {
   "cell_type": "code",
   "execution_count": 117,
   "metadata": {
    "collapsed": false
   },
   "outputs": [
    {
     "data": {
      "text/plain": [
       "array([[ -2.80000000e+00,  -1.40000000e+00,   0.00000000e+00,\n",
       "          9.00000000e-01,  -2.00000000e-01,   3.80000000e+00,\n",
       "         -1.30000000e+00,  -1.70000000e+00,   8.30000000e+00,\n",
       "         -2.00000000e-01,  -4.00000000e-01,  -2.30000000e+00,\n",
       "         -3.50000000e+00],\n",
       "       [  2.90000000e+00,   1.90000000e+00,   0.00000000e+00,\n",
       "         -4.00000000e-01,   1.00000000e-01,  -4.00000000e+00,\n",
       "          1.30000000e+00,   1.60000000e+00,  -6.30000000e+00,\n",
       "         -3.00000000e-01,   2.84372526e-12,   1.40000000e+00,\n",
       "          2.30000000e+00],\n",
       "       [ -9.00000000e-01,  -1.60000000e+00,   0.00000000e+00,\n",
       "         -2.80000000e+00,  -2.00000000e-01,   1.04000000e+01,\n",
       "         -3.30000000e+00,  -3.60000000e+00,   1.14000000e+01,\n",
       "         -1.50000000e+00,  -1.00000000e+00,  -3.10000000e+00,\n",
       "         -4.60000000e+00],\n",
       "       [  1.00000000e-01,  -4.00000000e-01,   0.00000000e+00,\n",
       "          7.00000000e-01,  -2.00000000e-01,  -2.00000000e-01,\n",
       "         -6.00000000e-01,  -2.20000000e+00,   7.00000000e+00,\n",
       "         -2.00000000e-01,  -9.00000000e-01,  -1.90000000e+00,\n",
       "         -2.80000000e+00],\n",
       "       [  4.20000000e+00,   1.80000000e+00,   0.00000000e+00,\n",
       "         -1.00000000e-01,  -1.00000000e-01,  -2.80000000e+00,\n",
       "          1.60000000e+00,  -1.70000000e+00,  -3.50000000e+00,\n",
       "         -4.00000000e-01,  -9.00000000e-01,   7.00000000e-01,\n",
       "          8.00000000e-01],\n",
       "       [  5.00000000e-01,   3.00000000e-01,   0.00000000e+00,\n",
       "         -8.00000000e-01,  -1.00000000e-01,  -2.80000000e+00,\n",
       "         -6.00000000e-01,   1.50000000e+00,  -5.00000000e+00,\n",
       "         -1.00000000e-01,   1.30000000e+00,   2.80000000e+00,\n",
       "          4.60000000e+00],\n",
       "       [ -3.40000000e+00,  -1.60000000e+00,   0.00000000e+00,\n",
       "          1.60000000e+00,   2.00000000e-01,   1.60000000e+00,\n",
       "         -3.00000000e-01,   2.60000000e+00,  -1.90000000e+00,\n",
       "          1.50000000e+00,   1.00000000e+00,  -3.00000000e-01,\n",
       "          2.00000000e-01],\n",
       "       [ -1.30000000e+00,   2.00000000e-01,   0.00000000e+00,\n",
       "          3.00000000e-01,   5.00000000e-01,  -2.80000000e+00,\n",
       "          2.00000000e+00,   2.90000000e+00,  -7.40000000e+00,\n",
       "          1.20000000e+00,   1.00000000e+00,   2.20000000e+00,\n",
       "          2.20000000e+00]])"
      ]
     },
     "execution_count": 117,
     "metadata": {},
     "output_type": "execute_result"
    }
   ],
   "source": [
    "# Show cluster centers (centroids) indicating mean values of each feature for each cluster\n",
    "\n",
    "km.cluster_centers_"
   ]
  },
  {
   "cell_type": "code",
   "execution_count": 118,
   "metadata": {
    "collapsed": false
   },
   "outputs": [
    {
     "data": {
      "text/plain": [
       "array([1, 2, 2, ..., 2, 4, 2])"
      ]
     },
     "execution_count": 118,
     "metadata": {},
     "output_type": "execute_result"
    }
   ],
   "source": [
    "# Show cluster labels\n",
    "\n",
    "my_label = km.labels_\n",
    "\n",
    "my_label"
   ]
  },
  {
   "cell_type": "code",
   "execution_count": 119,
   "metadata": {
    "collapsed": false
   },
   "outputs": [
    {
     "data": {
      "text/plain": [
       "(array([0, 1, 2, 3, 4, 5, 6, 7]),\n",
       " array([ 171498,  261200, 1044761,  255376,  273896,  124249,   10328,\n",
       "          18708], dtype=int64))"
      ]
     },
     "execution_count": 119,
     "metadata": {},
     "output_type": "execute_result"
    }
   ],
   "source": [
    "# Show distribution of cluster labels\n",
    "\n",
    "np.unique(my_label, return_counts=True)\n",
    "\n"
   ]
  },
  {
   "cell_type": "code",
   "execution_count": 120,
   "metadata": {
    "collapsed": false
   },
   "outputs": [
    {
     "data": {
      "text/plain": [
       "(array(['A', 'B', 'C', 'D', 'E', 'F', 'G', 'H'], \n",
       "       dtype='|S1'),\n",
       " array([  18708,  273896,  124249, 1044761,  255376,  171498,  261200,\n",
       "          10328], dtype=int64))"
      ]
     },
     "execution_count": 120,
     "metadata": {},
     "output_type": "execute_result"
    }
   ],
   "source": [
    "# Show distribution of Supergroup labels\n",
    "\n",
    "np.unique(y, return_counts=True)"
   ]
  },
  {
   "cell_type": "code",
   "execution_count": null,
   "metadata": {
    "collapsed": true
   },
   "outputs": [],
   "source": []
  },
  {
   "cell_type": "markdown",
   "metadata": {},
   "source": [
    "### Features related to Education Levels"
   ]
  },
  {
   "cell_type": "code",
   "execution_count": 122,
   "metadata": {
    "collapsed": false
   },
   "outputs": [
    {
     "name": "stdout",
     "output_type": "stream",
     "text": [
      "number of instances = 2160016\n",
      "shape of input data = 2160016 x 3\n"
     ]
    }
   ],
   "source": [
    "features = [50, 51, 52]\n",
    "\n",
    "num_features = len(features)\n",
    "\n",
    "#-gather fields of interest from full data set into X and y\n",
    "X = []\n",
    "\n",
    "for rec in rawdata:\n",
    "    instance = []\n",
    "    for f in features:\n",
    "        instance.append( float( rec[f] ))\n",
    "    X.append( instance )\n",
    "        \n",
    "X = np.array( X )\n",
    "num_instances = X.shape[0]\n",
    "\n",
    "print 'number of instances = %d' % num_instances\n",
    "print 'shape of input data = %d x %d' % ( X.shape[0], X.shape[1] )\n",
    "\n"
   ]
  },
  {
   "cell_type": "code",
   "execution_count": 58,
   "metadata": {
    "collapsed": true
   },
   "outputs": [],
   "source": [
    "# Create a dataframe with the results of the Inertia and Calinski-Harabasz scores\n",
    "\n",
    "\n",
    "columns = ['No. of clusters', 'Inertia', 'Calinski-Harabaz Score']\n",
    "\n",
    "index = np.arange(14)\n",
    "\n",
    "df7 = pd.DataFrame(columns = columns, index = index)\n",
    "\n",
    "line_count = 0\n",
    "\n",
    "n_clusters = [2, 3, 4, 5, 6, 7, 8, 9, 10, 20, 30, 40, 50, 100]\n",
    "\n",
    "cluster_count = 0\n",
    "\n",
    "while cluster_count < 14:\n",
    "    km = cluster.KMeans( n_clusters[cluster_count] ).fit( X )\n",
    "    labels = km.labels_\n",
    "    ch_score = metrics.calinski_harabaz_score(X, labels)\n",
    "    df7['No. of clusters'][line_count] = n_clusters[cluster_count]\n",
    "    df7['Inertia'][line_count] = km.inertia_\n",
    "    df7['Calinski-Harabaz Score'][line_count] = ch_score\n",
    "    cluster_count = cluster_count + 1\n",
    "    line_count = line_count + 1\n",
    "\n"
   ]
  },
  {
   "cell_type": "code",
   "execution_count": 59,
   "metadata": {
    "collapsed": false
   },
   "outputs": [
    {
     "data": {
      "text/html": [
       "<div>\n",
       "<table border=\"1\" class=\"dataframe\">\n",
       "  <thead>\n",
       "    <tr style=\"text-align: right;\">\n",
       "      <th></th>\n",
       "      <th>No. of clusters</th>\n",
       "      <th>Inertia</th>\n",
       "      <th>Calinski-Harabaz Score</th>\n",
       "    </tr>\n",
       "  </thead>\n",
       "  <tbody>\n",
       "    <tr>\n",
       "      <th>0</th>\n",
       "      <td>2</td>\n",
       "      <td>6.45197e+07</td>\n",
       "      <td>1.67556e+07</td>\n",
       "    </tr>\n",
       "    <tr>\n",
       "      <th>1</th>\n",
       "      <td>3</td>\n",
       "      <td>8.06272e+06</td>\n",
       "      <td>7.46036e+07</td>\n",
       "    </tr>\n",
       "    <tr>\n",
       "      <th>2</th>\n",
       "      <td>4</td>\n",
       "      <td>3.56687e+06</td>\n",
       "      <td>1.13332e+08</td>\n",
       "    </tr>\n",
       "    <tr>\n",
       "      <th>3</th>\n",
       "      <td>5</td>\n",
       "      <td>1.59709e+06</td>\n",
       "      <td>1.905e+08</td>\n",
       "    </tr>\n",
       "    <tr>\n",
       "      <th>4</th>\n",
       "      <td>6</td>\n",
       "      <td>581551</td>\n",
       "      <td>4.19283e+08</td>\n",
       "    </tr>\n",
       "    <tr>\n",
       "      <th>5</th>\n",
       "      <td>7</td>\n",
       "      <td>54816.5</td>\n",
       "      <td>3.71029e+09</td>\n",
       "    </tr>\n",
       "    <tr>\n",
       "      <th>6</th>\n",
       "      <td>8</td>\n",
       "      <td>1.12426e-13</td>\n",
       "      <td>9.44617e+26</td>\n",
       "    </tr>\n",
       "    <tr>\n",
       "      <th>7</th>\n",
       "      <td>9</td>\n",
       "      <td>1.22269e-15</td>\n",
       "      <td>9.44617e+26</td>\n",
       "    </tr>\n",
       "    <tr>\n",
       "      <th>8</th>\n",
       "      <td>10</td>\n",
       "      <td>1.22095e-15</td>\n",
       "      <td>9.44617e+26</td>\n",
       "    </tr>\n",
       "    <tr>\n",
       "      <th>9</th>\n",
       "      <td>20</td>\n",
       "      <td>1.1909e-15</td>\n",
       "      <td>9.44617e+26</td>\n",
       "    </tr>\n",
       "    <tr>\n",
       "      <th>10</th>\n",
       "      <td>30</td>\n",
       "      <td>8.18668e-16</td>\n",
       "      <td>9.44617e+26</td>\n",
       "    </tr>\n",
       "    <tr>\n",
       "      <th>11</th>\n",
       "      <td>40</td>\n",
       "      <td>8.18668e-16</td>\n",
       "      <td>9.44617e+26</td>\n",
       "    </tr>\n",
       "    <tr>\n",
       "      <th>12</th>\n",
       "      <td>50</td>\n",
       "      <td>8.18668e-16</td>\n",
       "      <td>9.44617e+26</td>\n",
       "    </tr>\n",
       "    <tr>\n",
       "      <th>13</th>\n",
       "      <td>100</td>\n",
       "      <td>5.21946e-20</td>\n",
       "      <td>9.44617e+26</td>\n",
       "    </tr>\n",
       "  </tbody>\n",
       "</table>\n",
       "</div>"
      ],
      "text/plain": [
       "   No. of clusters      Inertia Calinski-Harabaz Score\n",
       "0                2  6.45197e+07            1.67556e+07\n",
       "1                3  8.06272e+06            7.46036e+07\n",
       "2                4  3.56687e+06            1.13332e+08\n",
       "3                5  1.59709e+06              1.905e+08\n",
       "4                6       581551            4.19283e+08\n",
       "5                7      54816.5            3.71029e+09\n",
       "6                8  1.12426e-13            9.44617e+26\n",
       "7                9  1.22269e-15            9.44617e+26\n",
       "8               10  1.22095e-15            9.44617e+26\n",
       "9               20   1.1909e-15            9.44617e+26\n",
       "10              30  8.18668e-16            9.44617e+26\n",
       "11              40  8.18668e-16            9.44617e+26\n",
       "12              50  8.18668e-16            9.44617e+26\n",
       "13             100  5.21946e-20            9.44617e+26"
      ]
     },
     "execution_count": 59,
     "metadata": {},
     "output_type": "execute_result"
    }
   ],
   "source": [
    "# Show the results of the Inertia and Calinski-Harabasz scores\n",
    "\n",
    "df7"
   ]
  },
  {
   "cell_type": "code",
   "execution_count": 123,
   "metadata": {
    "collapsed": true
   },
   "outputs": [],
   "source": [
    "# Since the above results show that the ideal clustering is 8 clusters, fit the model such that it partitions the data into\n",
    "# 8 clusters.\n",
    "\n",
    "km = cluster.KMeans(n_clusters=8).fit(X)"
   ]
  },
  {
   "cell_type": "code",
   "execution_count": 124,
   "metadata": {
    "collapsed": false
   },
   "outputs": [
    {
     "data": {
      "text/plain": [
       "array([[ -8.00000000e-01,  -1.29000000e+01,   2.46000000e+01],\n",
       "       [  2.15072404e-12,   1.00000000e+00,  -9.40000000e+00],\n",
       "       [ -3.00000000e-01,  -5.60000000e+00,   1.03000000e+01],\n",
       "       [ -4.00000000e-01,  -6.10000000e+00,   1.69000000e+01],\n",
       "       [  2.00000000e-01,   9.30000000e+00,  -1.56000000e+01],\n",
       "       [ -5.69988501e-13,   1.60000000e+00,  -6.50000000e+00],\n",
       "       [  1.40000000e+00,   8.80000000e+00,  -5.30000000e+00],\n",
       "       [ -2.00000000e-01,   1.60000000e+00,  -9.30000000e+00]])"
      ]
     },
     "execution_count": 124,
     "metadata": {},
     "output_type": "execute_result"
    }
   ],
   "source": [
    "# Show cluster centers (centroids) indicating mean values of each feature for each cluster\n",
    "\n",
    "km.cluster_centers_"
   ]
  },
  {
   "cell_type": "code",
   "execution_count": 125,
   "metadata": {
    "collapsed": false
   },
   "outputs": [
    {
     "data": {
      "text/plain": [
       "array([7, 0, 0, ..., 0, 1, 0])"
      ]
     },
     "execution_count": 125,
     "metadata": {},
     "output_type": "execute_result"
    }
   ],
   "source": [
    "# Show cluster labels\n",
    "\n",
    "my_label = km.labels_\n",
    "\n",
    "my_label"
   ]
  },
  {
   "cell_type": "code",
   "execution_count": 126,
   "metadata": {
    "collapsed": false
   },
   "outputs": [
    {
     "data": {
      "text/plain": [
       "(array([0, 1, 2, 3, 4, 5, 6, 7]),\n",
       " array([1044761,  273896,  255376,  171498,   18708,  124249,   10328,\n",
       "         261200], dtype=int64))"
      ]
     },
     "execution_count": 126,
     "metadata": {},
     "output_type": "execute_result"
    }
   ],
   "source": [
    "# Show distribution of cluster labels\n",
    "\n",
    "np.unique(my_label, return_counts=True)"
   ]
  },
  {
   "cell_type": "code",
   "execution_count": 127,
   "metadata": {
    "collapsed": false
   },
   "outputs": [
    {
     "data": {
      "text/plain": [
       "(array(['A', 'B', 'C', 'D', 'E', 'F', 'G', 'H'], \n",
       "       dtype='|S1'),\n",
       " array([  18708,  273896,  124249, 1044761,  255376,  171498,  261200,\n",
       "          10328], dtype=int64))"
      ]
     },
     "execution_count": 127,
     "metadata": {},
     "output_type": "execute_result"
    }
   ],
   "source": [
    "# Show distribution of Supergroup labels\n",
    "\n",
    "np.unique(y, return_counts=True)"
   ]
  },
  {
   "cell_type": "code",
   "execution_count": null,
   "metadata": {
    "collapsed": true
   },
   "outputs": [],
   "source": []
  },
  {
   "cell_type": "markdown",
   "metadata": {},
   "source": [
    "## Step 6: Obtain information on the travel patterns of each cluster, including the most frequently used stations, the distribution of travel throughout a day, and the distribution of travel throughout a week"
   ]
  },
  {
   "cell_type": "markdown",
   "metadata": {
    "collapsed": true
   },
   "source": [
    "### Merge the Passenger dataframe with the TfL dataframe"
   ]
  },
  {
   "cell_type": "code",
   "execution_count": 29,
   "metadata": {
    "collapsed": true
   },
   "outputs": [],
   "source": [
    "# Create a new dataframe from the loac_input_df dataframe that has all the TfL tube and rail stations but discard \n",
    "# unnecessary fields like 'Keep', 'Supergroup', and 'id'\n",
    "\n",
    "station_match_df = loac_input_df.drop('Keep', axis=1)\n",
    "\n",
    "station_match_df = station_match_df.drop('Supergroup', axis=1)\n",
    "\n",
    "station_match_df = station_match_df.drop('id', axis=1)\n"
   ]
  },
  {
   "cell_type": "code",
   "execution_count": 30,
   "metadata": {
    "collapsed": false
   },
   "outputs": [
    {
     "data": {
      "text/html": [
       "<div>\n",
       "<table border=\"1\" class=\"dataframe\">\n",
       "  <thead>\n",
       "    <tr style=\"text-align: right;\">\n",
       "      <th></th>\n",
       "      <th>STATIONKEY</th>\n",
       "      <th>STATIONNAME</th>\n",
       "    </tr>\n",
       "  </thead>\n",
       "  <tbody>\n",
       "    <tr>\n",
       "      <th>0</th>\n",
       "      <td>1</td>\n",
       "      <td>Acton Town</td>\n",
       "    </tr>\n",
       "    <tr>\n",
       "      <th>1</th>\n",
       "      <td>2</td>\n",
       "      <td>Barbican</td>\n",
       "    </tr>\n",
       "    <tr>\n",
       "      <th>2</th>\n",
       "      <td>3</td>\n",
       "      <td>Aldgate</td>\n",
       "    </tr>\n",
       "    <tr>\n",
       "      <th>3</th>\n",
       "      <td>4</td>\n",
       "      <td>Aldgate East</td>\n",
       "    </tr>\n",
       "    <tr>\n",
       "      <th>4</th>\n",
       "      <td>5</td>\n",
       "      <td>Alperton</td>\n",
       "    </tr>\n",
       "  </tbody>\n",
       "</table>\n",
       "</div>"
      ],
      "text/plain": [
       "   STATIONKEY   STATIONNAME\n",
       "0           1    Acton Town\n",
       "1           2      Barbican\n",
       "2           3       Aldgate\n",
       "3           4  Aldgate East\n",
       "4           5      Alperton"
      ]
     },
     "execution_count": 30,
     "metadata": {},
     "output_type": "execute_result"
    }
   ],
   "source": [
    "# Show the head of the station_match_df dataframe\n",
    "\n",
    "station_match_df.head()"
   ]
  },
  {
   "cell_type": "code",
   "execution_count": 31,
   "metadata": {
    "collapsed": false
   },
   "outputs": [
    {
     "name": "stderr",
     "output_type": "stream",
     "text": [
      "C:\\Users\\HP-PC\\Anaconda2\\lib\\site-packages\\ipykernel\\__main__.py:5: FutureWarning: sort(....) is deprecated, use sort_index(.....)\n"
     ]
    }
   ],
   "source": [
    "# Add a new row that refers to unknown stations\n",
    "\n",
    "# Source: https://stackoverflow.com/questions/24284342/insert-a-row-to-pandas-dataframe\n",
    "\n",
    "station_match_df.loc[-1] = [-1, 'Unknown'] # add a new row for unknown station keys (marked as -1)\n",
    "station_match_df.index = station_match_df.index + 1 # shift the index\n",
    "station_match_df = station_match_df.sort() # sort the dataframe by index"
   ]
  },
  {
   "cell_type": "code",
   "execution_count": 33,
   "metadata": {
    "collapsed": true
   },
   "outputs": [],
   "source": [
    "# Merge the finalmerged_df dataframe (which contains all the passenger journey records from the sample dataset) with the \n",
    "# Station Names dataframe so that each Station of Entry Key is matched up with its respective station name.\n",
    "\n",
    "finalstation_df = finalmerged_df.merge(station_match_df, left_on='STATIONOFFIRSTENTRYKEY', right_on='STATIONKEY', how='left')\n",
    "\n"
   ]
  },
  {
   "cell_type": "code",
   "execution_count": 34,
   "metadata": {
    "collapsed": false
   },
   "outputs": [
    {
     "data": {
      "text/html": [
       "<div>\n",
       "<table border=\"1\" class=\"dataframe\">\n",
       "  <thead>\n",
       "    <tr style=\"text-align: right;\">\n",
       "      <th></th>\n",
       "      <th>PRESTIGEID</th>\n",
       "      <th>PPTPASSENGERAGEKEY</th>\n",
       "      <th>DAYKEY</th>\n",
       "      <th>CARDTYPEKEY</th>\n",
       "      <th>STATIONOFFIRSTENTRYKEY</th>\n",
       "      <th>STATIONOFEXITKEY</th>\n",
       "      <th>TRANSACTIONTIME</th>\n",
       "      <th>Timeblock</th>\n",
       "      <th>Day of the Week</th>\n",
       "      <th>STATIONKEY</th>\n",
       "      <th>STATIONNAME</th>\n",
       "    </tr>\n",
       "  </thead>\n",
       "  <tbody>\n",
       "    <tr>\n",
       "      <th>0</th>\n",
       "      <td>11170717</td>\n",
       "      <td>-1</td>\n",
       "      <td>12393</td>\n",
       "      <td>15</td>\n",
       "      <td>247</td>\n",
       "      <td>-1</td>\n",
       "      <td>896</td>\n",
       "      <td>8</td>\n",
       "      <td>Friday</td>\n",
       "      <td>247</td>\n",
       "      <td>Woodford</td>\n",
       "    </tr>\n",
       "    <tr>\n",
       "      <th>1</th>\n",
       "      <td>31776450</td>\n",
       "      <td>5</td>\n",
       "      <td>12393</td>\n",
       "      <td>15</td>\n",
       "      <td>213</td>\n",
       "      <td>111</td>\n",
       "      <td>1483</td>\n",
       "      <td>99</td>\n",
       "      <td>Friday</td>\n",
       "      <td>213</td>\n",
       "      <td>Tower Hill</td>\n",
       "    </tr>\n",
       "    <tr>\n",
       "      <th>2</th>\n",
       "      <td>6666492</td>\n",
       "      <td>-1</td>\n",
       "      <td>12393</td>\n",
       "      <td>15</td>\n",
       "      <td>76</td>\n",
       "      <td>-1</td>\n",
       "      <td>1126</td>\n",
       "      <td>10</td>\n",
       "      <td>Friday</td>\n",
       "      <td>76</td>\n",
       "      <td>Fulham Broadway</td>\n",
       "    </tr>\n",
       "    <tr>\n",
       "      <th>3</th>\n",
       "      <td>58927301</td>\n",
       "      <td>-1</td>\n",
       "      <td>12393</td>\n",
       "      <td>15</td>\n",
       "      <td>158</td>\n",
       "      <td>-1</td>\n",
       "      <td>1333</td>\n",
       "      <td>12</td>\n",
       "      <td>Friday</td>\n",
       "      <td>158</td>\n",
       "      <td>Perivale</td>\n",
       "    </tr>\n",
       "    <tr>\n",
       "      <th>4</th>\n",
       "      <td>23724328</td>\n",
       "      <td>-1</td>\n",
       "      <td>12393</td>\n",
       "      <td>15</td>\n",
       "      <td>193</td>\n",
       "      <td>-1</td>\n",
       "      <td>1021</td>\n",
       "      <td>9</td>\n",
       "      <td>Friday</td>\n",
       "      <td>193</td>\n",
       "      <td>South Kensington</td>\n",
       "    </tr>\n",
       "  </tbody>\n",
       "</table>\n",
       "</div>"
      ],
      "text/plain": [
       "   PRESTIGEID  PPTPASSENGERAGEKEY  DAYKEY  CARDTYPEKEY  \\\n",
       "0    11170717                  -1   12393           15   \n",
       "1    31776450                   5   12393           15   \n",
       "2     6666492                  -1   12393           15   \n",
       "3    58927301                  -1   12393           15   \n",
       "4    23724328                  -1   12393           15   \n",
       "\n",
       "   STATIONOFFIRSTENTRYKEY  STATIONOFEXITKEY  TRANSACTIONTIME  Timeblock  \\\n",
       "0                     247                -1              896          8   \n",
       "1                     213               111             1483         99   \n",
       "2                      76                -1             1126         10   \n",
       "3                     158                -1             1333         12   \n",
       "4                     193                -1             1021          9   \n",
       "\n",
       "  Day of the Week  STATIONKEY       STATIONNAME  \n",
       "0          Friday         247          Woodford  \n",
       "1          Friday         213        Tower Hill  \n",
       "2          Friday          76   Fulham Broadway  \n",
       "3          Friday         158          Perivale  \n",
       "4          Friday         193  South Kensington  "
      ]
     },
     "execution_count": 34,
     "metadata": {},
     "output_type": "execute_result"
    }
   ],
   "source": [
    "finalstation_df.head()"
   ]
  },
  {
   "cell_type": "code",
   "execution_count": 35,
   "metadata": {
    "collapsed": true
   },
   "outputs": [],
   "source": [
    "# Rename the 'STATIONNAME' column as 'Station of Entry'\n",
    "\n",
    "finalstation_df = finalstation_df.rename(columns={'STATIONNAME': 'Station of Entry'})"
   ]
  },
  {
   "cell_type": "code",
   "execution_count": 36,
   "metadata": {
    "collapsed": false
   },
   "outputs": [
    {
     "data": {
      "text/html": [
       "<div>\n",
       "<table border=\"1\" class=\"dataframe\">\n",
       "  <thead>\n",
       "    <tr style=\"text-align: right;\">\n",
       "      <th></th>\n",
       "      <th>PRESTIGEID</th>\n",
       "      <th>PPTPASSENGERAGEKEY</th>\n",
       "      <th>DAYKEY</th>\n",
       "      <th>CARDTYPEKEY</th>\n",
       "      <th>STATIONOFFIRSTENTRYKEY</th>\n",
       "      <th>STATIONOFEXITKEY</th>\n",
       "      <th>TRANSACTIONTIME</th>\n",
       "      <th>Timeblock</th>\n",
       "      <th>Day of the Week</th>\n",
       "      <th>STATIONKEY</th>\n",
       "      <th>Station of Entry</th>\n",
       "    </tr>\n",
       "  </thead>\n",
       "  <tbody>\n",
       "    <tr>\n",
       "      <th>0</th>\n",
       "      <td>11170717</td>\n",
       "      <td>-1</td>\n",
       "      <td>12393</td>\n",
       "      <td>15</td>\n",
       "      <td>247</td>\n",
       "      <td>-1</td>\n",
       "      <td>896</td>\n",
       "      <td>8</td>\n",
       "      <td>Friday</td>\n",
       "      <td>247</td>\n",
       "      <td>Woodford</td>\n",
       "    </tr>\n",
       "    <tr>\n",
       "      <th>1</th>\n",
       "      <td>31776450</td>\n",
       "      <td>5</td>\n",
       "      <td>12393</td>\n",
       "      <td>15</td>\n",
       "      <td>213</td>\n",
       "      <td>111</td>\n",
       "      <td>1483</td>\n",
       "      <td>99</td>\n",
       "      <td>Friday</td>\n",
       "      <td>213</td>\n",
       "      <td>Tower Hill</td>\n",
       "    </tr>\n",
       "    <tr>\n",
       "      <th>2</th>\n",
       "      <td>6666492</td>\n",
       "      <td>-1</td>\n",
       "      <td>12393</td>\n",
       "      <td>15</td>\n",
       "      <td>76</td>\n",
       "      <td>-1</td>\n",
       "      <td>1126</td>\n",
       "      <td>10</td>\n",
       "      <td>Friday</td>\n",
       "      <td>76</td>\n",
       "      <td>Fulham Broadway</td>\n",
       "    </tr>\n",
       "    <tr>\n",
       "      <th>3</th>\n",
       "      <td>58927301</td>\n",
       "      <td>-1</td>\n",
       "      <td>12393</td>\n",
       "      <td>15</td>\n",
       "      <td>158</td>\n",
       "      <td>-1</td>\n",
       "      <td>1333</td>\n",
       "      <td>12</td>\n",
       "      <td>Friday</td>\n",
       "      <td>158</td>\n",
       "      <td>Perivale</td>\n",
       "    </tr>\n",
       "    <tr>\n",
       "      <th>4</th>\n",
       "      <td>23724328</td>\n",
       "      <td>-1</td>\n",
       "      <td>12393</td>\n",
       "      <td>15</td>\n",
       "      <td>193</td>\n",
       "      <td>-1</td>\n",
       "      <td>1021</td>\n",
       "      <td>9</td>\n",
       "      <td>Friday</td>\n",
       "      <td>193</td>\n",
       "      <td>South Kensington</td>\n",
       "    </tr>\n",
       "  </tbody>\n",
       "</table>\n",
       "</div>"
      ],
      "text/plain": [
       "   PRESTIGEID  PPTPASSENGERAGEKEY  DAYKEY  CARDTYPEKEY  \\\n",
       "0    11170717                  -1   12393           15   \n",
       "1    31776450                   5   12393           15   \n",
       "2     6666492                  -1   12393           15   \n",
       "3    58927301                  -1   12393           15   \n",
       "4    23724328                  -1   12393           15   \n",
       "\n",
       "   STATIONOFFIRSTENTRYKEY  STATIONOFEXITKEY  TRANSACTIONTIME  Timeblock  \\\n",
       "0                     247                -1              896          8   \n",
       "1                     213               111             1483         99   \n",
       "2                      76                -1             1126         10   \n",
       "3                     158                -1             1333         12   \n",
       "4                     193                -1             1021          9   \n",
       "\n",
       "  Day of the Week  STATIONKEY  Station of Entry  \n",
       "0          Friday         247          Woodford  \n",
       "1          Friday         213        Tower Hill  \n",
       "2          Friday          76   Fulham Broadway  \n",
       "3          Friday         158          Perivale  \n",
       "4          Friday         193  South Kensington  "
      ]
     },
     "execution_count": 36,
     "metadata": {},
     "output_type": "execute_result"
    }
   ],
   "source": [
    "finalstation_df.head()"
   ]
  },
  {
   "cell_type": "code",
   "execution_count": 37,
   "metadata": {
    "collapsed": true
   },
   "outputs": [],
   "source": [
    "# Drop the 'STATIONKEY' column\n",
    "\n",
    "finalstation_df = finalstation_df.drop('STATIONKEY', axis=1)\n"
   ]
  },
  {
   "cell_type": "code",
   "execution_count": 38,
   "metadata": {
    "collapsed": false
   },
   "outputs": [
    {
     "data": {
      "text/html": [
       "<div>\n",
       "<table border=\"1\" class=\"dataframe\">\n",
       "  <thead>\n",
       "    <tr style=\"text-align: right;\">\n",
       "      <th></th>\n",
       "      <th>PRESTIGEID</th>\n",
       "      <th>PPTPASSENGERAGEKEY</th>\n",
       "      <th>DAYKEY</th>\n",
       "      <th>CARDTYPEKEY</th>\n",
       "      <th>STATIONOFFIRSTENTRYKEY</th>\n",
       "      <th>STATIONOFEXITKEY</th>\n",
       "      <th>TRANSACTIONTIME</th>\n",
       "      <th>Timeblock</th>\n",
       "      <th>Day of the Week</th>\n",
       "      <th>Station of Entry</th>\n",
       "    </tr>\n",
       "  </thead>\n",
       "  <tbody>\n",
       "    <tr>\n",
       "      <th>0</th>\n",
       "      <td>11170717</td>\n",
       "      <td>-1</td>\n",
       "      <td>12393</td>\n",
       "      <td>15</td>\n",
       "      <td>247</td>\n",
       "      <td>-1</td>\n",
       "      <td>896</td>\n",
       "      <td>8</td>\n",
       "      <td>Friday</td>\n",
       "      <td>Woodford</td>\n",
       "    </tr>\n",
       "    <tr>\n",
       "      <th>1</th>\n",
       "      <td>31776450</td>\n",
       "      <td>5</td>\n",
       "      <td>12393</td>\n",
       "      <td>15</td>\n",
       "      <td>213</td>\n",
       "      <td>111</td>\n",
       "      <td>1483</td>\n",
       "      <td>99</td>\n",
       "      <td>Friday</td>\n",
       "      <td>Tower Hill</td>\n",
       "    </tr>\n",
       "    <tr>\n",
       "      <th>2</th>\n",
       "      <td>6666492</td>\n",
       "      <td>-1</td>\n",
       "      <td>12393</td>\n",
       "      <td>15</td>\n",
       "      <td>76</td>\n",
       "      <td>-1</td>\n",
       "      <td>1126</td>\n",
       "      <td>10</td>\n",
       "      <td>Friday</td>\n",
       "      <td>Fulham Broadway</td>\n",
       "    </tr>\n",
       "    <tr>\n",
       "      <th>3</th>\n",
       "      <td>58927301</td>\n",
       "      <td>-1</td>\n",
       "      <td>12393</td>\n",
       "      <td>15</td>\n",
       "      <td>158</td>\n",
       "      <td>-1</td>\n",
       "      <td>1333</td>\n",
       "      <td>12</td>\n",
       "      <td>Friday</td>\n",
       "      <td>Perivale</td>\n",
       "    </tr>\n",
       "    <tr>\n",
       "      <th>4</th>\n",
       "      <td>23724328</td>\n",
       "      <td>-1</td>\n",
       "      <td>12393</td>\n",
       "      <td>15</td>\n",
       "      <td>193</td>\n",
       "      <td>-1</td>\n",
       "      <td>1021</td>\n",
       "      <td>9</td>\n",
       "      <td>Friday</td>\n",
       "      <td>South Kensington</td>\n",
       "    </tr>\n",
       "  </tbody>\n",
       "</table>\n",
       "</div>"
      ],
      "text/plain": [
       "   PRESTIGEID  PPTPASSENGERAGEKEY  DAYKEY  CARDTYPEKEY  \\\n",
       "0    11170717                  -1   12393           15   \n",
       "1    31776450                   5   12393           15   \n",
       "2     6666492                  -1   12393           15   \n",
       "3    58927301                  -1   12393           15   \n",
       "4    23724328                  -1   12393           15   \n",
       "\n",
       "   STATIONOFFIRSTENTRYKEY  STATIONOFEXITKEY  TRANSACTIONTIME  Timeblock  \\\n",
       "0                     247                -1              896          8   \n",
       "1                     213               111             1483         99   \n",
       "2                      76                -1             1126         10   \n",
       "3                     158                -1             1333         12   \n",
       "4                     193                -1             1021          9   \n",
       "\n",
       "  Day of the Week  Station of Entry  \n",
       "0          Friday          Woodford  \n",
       "1          Friday        Tower Hill  \n",
       "2          Friday   Fulham Broadway  \n",
       "3          Friday          Perivale  \n",
       "4          Friday  South Kensington  "
      ]
     },
     "execution_count": 38,
     "metadata": {},
     "output_type": "execute_result"
    }
   ],
   "source": [
    "finalstation_df.head()"
   ]
  },
  {
   "cell_type": "code",
   "execution_count": null,
   "metadata": {
    "collapsed": true
   },
   "outputs": [],
   "source": []
  },
  {
   "cell_type": "code",
   "execution_count": 39,
   "metadata": {
    "collapsed": true
   },
   "outputs": [],
   "source": [
    "# Merge the revised finalmerged_df dataframe with the Station Names dataframe so that each Station of Exit Key is matched up with its respective station name.\n",
    "\n",
    "finalstation_df = finalstation_df.merge(station_match_df, left_on='STATIONOFEXITKEY', right_on='STATIONKEY', how='left')\n",
    "\n"
   ]
  },
  {
   "cell_type": "code",
   "execution_count": 40,
   "metadata": {
    "collapsed": false
   },
   "outputs": [
    {
     "data": {
      "text/html": [
       "<div>\n",
       "<table border=\"1\" class=\"dataframe\">\n",
       "  <thead>\n",
       "    <tr style=\"text-align: right;\">\n",
       "      <th></th>\n",
       "      <th>PRESTIGEID</th>\n",
       "      <th>PPTPASSENGERAGEKEY</th>\n",
       "      <th>DAYKEY</th>\n",
       "      <th>CARDTYPEKEY</th>\n",
       "      <th>STATIONOFFIRSTENTRYKEY</th>\n",
       "      <th>STATIONOFEXITKEY</th>\n",
       "      <th>TRANSACTIONTIME</th>\n",
       "      <th>Timeblock</th>\n",
       "      <th>Day of the Week</th>\n",
       "      <th>Station of Entry</th>\n",
       "      <th>STATIONKEY</th>\n",
       "      <th>STATIONNAME</th>\n",
       "    </tr>\n",
       "  </thead>\n",
       "  <tbody>\n",
       "    <tr>\n",
       "      <th>0</th>\n",
       "      <td>11170717</td>\n",
       "      <td>-1</td>\n",
       "      <td>12393</td>\n",
       "      <td>15</td>\n",
       "      <td>247</td>\n",
       "      <td>-1</td>\n",
       "      <td>896</td>\n",
       "      <td>8</td>\n",
       "      <td>Friday</td>\n",
       "      <td>Woodford</td>\n",
       "      <td>-1</td>\n",
       "      <td>Unknown</td>\n",
       "    </tr>\n",
       "    <tr>\n",
       "      <th>1</th>\n",
       "      <td>31776450</td>\n",
       "      <td>5</td>\n",
       "      <td>12393</td>\n",
       "      <td>15</td>\n",
       "      <td>213</td>\n",
       "      <td>111</td>\n",
       "      <td>1483</td>\n",
       "      <td>99</td>\n",
       "      <td>Friday</td>\n",
       "      <td>Tower Hill</td>\n",
       "      <td>111</td>\n",
       "      <td>Kilburn</td>\n",
       "    </tr>\n",
       "    <tr>\n",
       "      <th>2</th>\n",
       "      <td>6666492</td>\n",
       "      <td>-1</td>\n",
       "      <td>12393</td>\n",
       "      <td>15</td>\n",
       "      <td>76</td>\n",
       "      <td>-1</td>\n",
       "      <td>1126</td>\n",
       "      <td>10</td>\n",
       "      <td>Friday</td>\n",
       "      <td>Fulham Broadway</td>\n",
       "      <td>-1</td>\n",
       "      <td>Unknown</td>\n",
       "    </tr>\n",
       "    <tr>\n",
       "      <th>3</th>\n",
       "      <td>58927301</td>\n",
       "      <td>-1</td>\n",
       "      <td>12393</td>\n",
       "      <td>15</td>\n",
       "      <td>158</td>\n",
       "      <td>-1</td>\n",
       "      <td>1333</td>\n",
       "      <td>12</td>\n",
       "      <td>Friday</td>\n",
       "      <td>Perivale</td>\n",
       "      <td>-1</td>\n",
       "      <td>Unknown</td>\n",
       "    </tr>\n",
       "    <tr>\n",
       "      <th>4</th>\n",
       "      <td>23724328</td>\n",
       "      <td>-1</td>\n",
       "      <td>12393</td>\n",
       "      <td>15</td>\n",
       "      <td>193</td>\n",
       "      <td>-1</td>\n",
       "      <td>1021</td>\n",
       "      <td>9</td>\n",
       "      <td>Friday</td>\n",
       "      <td>South Kensington</td>\n",
       "      <td>-1</td>\n",
       "      <td>Unknown</td>\n",
       "    </tr>\n",
       "  </tbody>\n",
       "</table>\n",
       "</div>"
      ],
      "text/plain": [
       "   PRESTIGEID  PPTPASSENGERAGEKEY  DAYKEY  CARDTYPEKEY  \\\n",
       "0    11170717                  -1   12393           15   \n",
       "1    31776450                   5   12393           15   \n",
       "2     6666492                  -1   12393           15   \n",
       "3    58927301                  -1   12393           15   \n",
       "4    23724328                  -1   12393           15   \n",
       "\n",
       "   STATIONOFFIRSTENTRYKEY  STATIONOFEXITKEY  TRANSACTIONTIME  Timeblock  \\\n",
       "0                     247                -1              896          8   \n",
       "1                     213               111             1483         99   \n",
       "2                      76                -1             1126         10   \n",
       "3                     158                -1             1333         12   \n",
       "4                     193                -1             1021          9   \n",
       "\n",
       "  Day of the Week  Station of Entry  STATIONKEY STATIONNAME  \n",
       "0          Friday          Woodford          -1     Unknown  \n",
       "1          Friday        Tower Hill         111     Kilburn  \n",
       "2          Friday   Fulham Broadway          -1     Unknown  \n",
       "3          Friday          Perivale          -1     Unknown  \n",
       "4          Friday  South Kensington          -1     Unknown  "
      ]
     },
     "execution_count": 40,
     "metadata": {},
     "output_type": "execute_result"
    }
   ],
   "source": [
    "finalstation_df.head()"
   ]
  },
  {
   "cell_type": "code",
   "execution_count": 41,
   "metadata": {
    "collapsed": true
   },
   "outputs": [],
   "source": [
    "# Rename the 'STATIONNAME' column as 'Station of Exit'\n",
    "\n",
    "finalstation_df = finalstation_df.rename(columns={'STATIONNAME': 'Station of Exit'})"
   ]
  },
  {
   "cell_type": "code",
   "execution_count": 42,
   "metadata": {
    "collapsed": true
   },
   "outputs": [],
   "source": [
    "# Drop the 'STATIONKEY' column\n",
    "\n",
    "finalstation_df = finalstation_df.drop('STATIONKEY', axis=1)\n"
   ]
  },
  {
   "cell_type": "code",
   "execution_count": 43,
   "metadata": {
    "collapsed": false
   },
   "outputs": [
    {
     "data": {
      "text/html": [
       "<div>\n",
       "<table border=\"1\" class=\"dataframe\">\n",
       "  <thead>\n",
       "    <tr style=\"text-align: right;\">\n",
       "      <th></th>\n",
       "      <th>PRESTIGEID</th>\n",
       "      <th>PPTPASSENGERAGEKEY</th>\n",
       "      <th>DAYKEY</th>\n",
       "      <th>CARDTYPEKEY</th>\n",
       "      <th>STATIONOFFIRSTENTRYKEY</th>\n",
       "      <th>STATIONOFEXITKEY</th>\n",
       "      <th>TRANSACTIONTIME</th>\n",
       "      <th>Timeblock</th>\n",
       "      <th>Day of the Week</th>\n",
       "      <th>Station of Entry</th>\n",
       "      <th>Station of Exit</th>\n",
       "    </tr>\n",
       "  </thead>\n",
       "  <tbody>\n",
       "    <tr>\n",
       "      <th>0</th>\n",
       "      <td>11170717</td>\n",
       "      <td>-1</td>\n",
       "      <td>12393</td>\n",
       "      <td>15</td>\n",
       "      <td>247</td>\n",
       "      <td>-1</td>\n",
       "      <td>896</td>\n",
       "      <td>8</td>\n",
       "      <td>Friday</td>\n",
       "      <td>Woodford</td>\n",
       "      <td>Unknown</td>\n",
       "    </tr>\n",
       "    <tr>\n",
       "      <th>1</th>\n",
       "      <td>31776450</td>\n",
       "      <td>5</td>\n",
       "      <td>12393</td>\n",
       "      <td>15</td>\n",
       "      <td>213</td>\n",
       "      <td>111</td>\n",
       "      <td>1483</td>\n",
       "      <td>99</td>\n",
       "      <td>Friday</td>\n",
       "      <td>Tower Hill</td>\n",
       "      <td>Kilburn</td>\n",
       "    </tr>\n",
       "    <tr>\n",
       "      <th>2</th>\n",
       "      <td>6666492</td>\n",
       "      <td>-1</td>\n",
       "      <td>12393</td>\n",
       "      <td>15</td>\n",
       "      <td>76</td>\n",
       "      <td>-1</td>\n",
       "      <td>1126</td>\n",
       "      <td>10</td>\n",
       "      <td>Friday</td>\n",
       "      <td>Fulham Broadway</td>\n",
       "      <td>Unknown</td>\n",
       "    </tr>\n",
       "    <tr>\n",
       "      <th>3</th>\n",
       "      <td>58927301</td>\n",
       "      <td>-1</td>\n",
       "      <td>12393</td>\n",
       "      <td>15</td>\n",
       "      <td>158</td>\n",
       "      <td>-1</td>\n",
       "      <td>1333</td>\n",
       "      <td>12</td>\n",
       "      <td>Friday</td>\n",
       "      <td>Perivale</td>\n",
       "      <td>Unknown</td>\n",
       "    </tr>\n",
       "    <tr>\n",
       "      <th>4</th>\n",
       "      <td>23724328</td>\n",
       "      <td>-1</td>\n",
       "      <td>12393</td>\n",
       "      <td>15</td>\n",
       "      <td>193</td>\n",
       "      <td>-1</td>\n",
       "      <td>1021</td>\n",
       "      <td>9</td>\n",
       "      <td>Friday</td>\n",
       "      <td>South Kensington</td>\n",
       "      <td>Unknown</td>\n",
       "    </tr>\n",
       "  </tbody>\n",
       "</table>\n",
       "</div>"
      ],
      "text/plain": [
       "   PRESTIGEID  PPTPASSENGERAGEKEY  DAYKEY  CARDTYPEKEY  \\\n",
       "0    11170717                  -1   12393           15   \n",
       "1    31776450                   5   12393           15   \n",
       "2     6666492                  -1   12393           15   \n",
       "3    58927301                  -1   12393           15   \n",
       "4    23724328                  -1   12393           15   \n",
       "\n",
       "   STATIONOFFIRSTENTRYKEY  STATIONOFEXITKEY  TRANSACTIONTIME  Timeblock  \\\n",
       "0                     247                -1              896          8   \n",
       "1                     213               111             1483         99   \n",
       "2                      76                -1             1126         10   \n",
       "3                     158                -1             1333         12   \n",
       "4                     193                -1             1021          9   \n",
       "\n",
       "  Day of the Week  Station of Entry Station of Exit  \n",
       "0          Friday          Woodford         Unknown  \n",
       "1          Friday        Tower Hill         Kilburn  \n",
       "2          Friday   Fulham Broadway         Unknown  \n",
       "3          Friday          Perivale         Unknown  \n",
       "4          Friday  South Kensington         Unknown  "
      ]
     },
     "execution_count": 43,
     "metadata": {},
     "output_type": "execute_result"
    }
   ],
   "source": [
    "finalstation_df.head()"
   ]
  },
  {
   "cell_type": "code",
   "execution_count": 45,
   "metadata": {
    "collapsed": false
   },
   "outputs": [
    {
     "data": {
      "text/html": [
       "<div>\n",
       "<table border=\"1\" class=\"dataframe\">\n",
       "  <thead>\n",
       "    <tr style=\"text-align: right;\">\n",
       "      <th></th>\n",
       "      <th>PRESTIGEID</th>\n",
       "      <th>STATIONOFFIRSTENTRYKEY</th>\n",
       "      <th>id</th>\n",
       "      <th>STATIONKEY</th>\n",
       "      <th>STATIONNAME</th>\n",
       "      <th>Keep</th>\n",
       "      <th>Supergroup</th>\n",
       "    </tr>\n",
       "  </thead>\n",
       "  <tbody>\n",
       "    <tr>\n",
       "      <th>0</th>\n",
       "      <td>125</td>\n",
       "      <td>161</td>\n",
       "      <td>154</td>\n",
       "      <td>161</td>\n",
       "      <td>Plaistow</td>\n",
       "      <td>True</td>\n",
       "      <td>G</td>\n",
       "    </tr>\n",
       "    <tr>\n",
       "      <th>1</th>\n",
       "      <td>190</td>\n",
       "      <td>70</td>\n",
       "      <td>68</td>\n",
       "      <td>70</td>\n",
       "      <td>Euston Square</td>\n",
       "      <td>True</td>\n",
       "      <td>D</td>\n",
       "    </tr>\n",
       "    <tr>\n",
       "      <th>2</th>\n",
       "      <td>247</td>\n",
       "      <td>1980</td>\n",
       "      <td>366</td>\n",
       "      <td>1980</td>\n",
       "      <td>Richmond</td>\n",
       "      <td>True</td>\n",
       "      <td>D</td>\n",
       "    </tr>\n",
       "    <tr>\n",
       "      <th>3</th>\n",
       "      <td>355</td>\n",
       "      <td>1955</td>\n",
       "      <td>349</td>\n",
       "      <td>1955</td>\n",
       "      <td>Gunnersbury</td>\n",
       "      <td>True</td>\n",
       "      <td>C</td>\n",
       "    </tr>\n",
       "    <tr>\n",
       "      <th>4</th>\n",
       "      <td>376</td>\n",
       "      <td>1968</td>\n",
       "      <td>360</td>\n",
       "      <td>1968</td>\n",
       "      <td>Barking</td>\n",
       "      <td>True</td>\n",
       "      <td>B</td>\n",
       "    </tr>\n",
       "  </tbody>\n",
       "</table>\n",
       "</div>"
      ],
      "text/plain": [
       "   PRESTIGEID  STATIONOFFIRSTENTRYKEY   id  STATIONKEY    STATIONNAME  Keep  \\\n",
       "0         125                     161  154         161       Plaistow  True   \n",
       "1         190                      70   68          70  Euston Square  True   \n",
       "2         247                    1980  366        1980       Richmond  True   \n",
       "3         355                    1955  349        1955    Gunnersbury  True   \n",
       "4         376                    1968  360        1968        Barking  True   \n",
       "\n",
       "  Supergroup  \n",
       "0          G  \n",
       "1          D  \n",
       "2          D  \n",
       "3          C  \n",
       "4          B  "
      ]
     },
     "execution_count": 45,
     "metadata": {},
     "output_type": "execute_result"
    }
   ],
   "source": [
    "passengerfinal_df.head()"
   ]
  },
  {
   "cell_type": "code",
   "execution_count": 46,
   "metadata": {
    "collapsed": false
   },
   "outputs": [],
   "source": [
    "# Delete all unnecessary columns from passengerfinal_df to create a simple dataframe with just the prestigeid and its associated Supergroup code\n",
    "\n",
    "passenger_simple_df = passengerfinal_df.drop('STATIONOFFIRSTENTRYKEY', axis=1)\n",
    "passenger_simple_df = passenger_simple_df.drop('id', axis=1)\n",
    "passenger_simple_df = passenger_simple_df.drop('STATIONKEY', axis=1)\n",
    "passenger_simple_df = passenger_simple_df.drop('STATIONNAME', axis=1)\n",
    "passenger_simple_df = passenger_simple_df.drop('Keep', axis=1)\n"
   ]
  },
  {
   "cell_type": "code",
   "execution_count": 47,
   "metadata": {
    "collapsed": false
   },
   "outputs": [
    {
     "data": {
      "text/html": [
       "<div>\n",
       "<table border=\"1\" class=\"dataframe\">\n",
       "  <thead>\n",
       "    <tr style=\"text-align: right;\">\n",
       "      <th></th>\n",
       "      <th>PRESTIGEID</th>\n",
       "      <th>Supergroup</th>\n",
       "    </tr>\n",
       "  </thead>\n",
       "  <tbody>\n",
       "    <tr>\n",
       "      <th>0</th>\n",
       "      <td>125</td>\n",
       "      <td>G</td>\n",
       "    </tr>\n",
       "    <tr>\n",
       "      <th>1</th>\n",
       "      <td>190</td>\n",
       "      <td>D</td>\n",
       "    </tr>\n",
       "    <tr>\n",
       "      <th>2</th>\n",
       "      <td>247</td>\n",
       "      <td>D</td>\n",
       "    </tr>\n",
       "    <tr>\n",
       "      <th>3</th>\n",
       "      <td>355</td>\n",
       "      <td>C</td>\n",
       "    </tr>\n",
       "    <tr>\n",
       "      <th>4</th>\n",
       "      <td>376</td>\n",
       "      <td>B</td>\n",
       "    </tr>\n",
       "  </tbody>\n",
       "</table>\n",
       "</div>"
      ],
      "text/plain": [
       "   PRESTIGEID Supergroup\n",
       "0         125          G\n",
       "1         190          D\n",
       "2         247          D\n",
       "3         355          C\n",
       "4         376          B"
      ]
     },
     "execution_count": 47,
     "metadata": {},
     "output_type": "execute_result"
    }
   ],
   "source": [
    "passenger_simple_df.head()"
   ]
  },
  {
   "cell_type": "code",
   "execution_count": 48,
   "metadata": {
    "collapsed": true
   },
   "outputs": [],
   "source": [
    "# Merge the Passenger dataframe with the TfL journey dataframe so that each journey record in the original dataset\n",
    "# has an associated Supergroup code.\n",
    "\n",
    "tflfinal_df = finalstation_df.merge(passenger_simple_df, left_on='PRESTIGEID', right_on='PRESTIGEID', how='left')\n",
    "\n"
   ]
  },
  {
   "cell_type": "code",
   "execution_count": 49,
   "metadata": {
    "collapsed": false
   },
   "outputs": [
    {
     "data": {
      "text/html": [
       "<div>\n",
       "<table border=\"1\" class=\"dataframe\">\n",
       "  <thead>\n",
       "    <tr style=\"text-align: right;\">\n",
       "      <th></th>\n",
       "      <th>PRESTIGEID</th>\n",
       "      <th>PPTPASSENGERAGEKEY</th>\n",
       "      <th>DAYKEY</th>\n",
       "      <th>CARDTYPEKEY</th>\n",
       "      <th>STATIONOFFIRSTENTRYKEY</th>\n",
       "      <th>STATIONOFEXITKEY</th>\n",
       "      <th>TRANSACTIONTIME</th>\n",
       "      <th>Timeblock</th>\n",
       "      <th>Day of the Week</th>\n",
       "      <th>Station of Entry</th>\n",
       "      <th>Station of Exit</th>\n",
       "      <th>Supergroup</th>\n",
       "    </tr>\n",
       "  </thead>\n",
       "  <tbody>\n",
       "    <tr>\n",
       "      <th>0</th>\n",
       "      <td>11170717</td>\n",
       "      <td>-1</td>\n",
       "      <td>12393</td>\n",
       "      <td>15</td>\n",
       "      <td>247</td>\n",
       "      <td>-1</td>\n",
       "      <td>896</td>\n",
       "      <td>8</td>\n",
       "      <td>Friday</td>\n",
       "      <td>Woodford</td>\n",
       "      <td>Unknown</td>\n",
       "      <td>C</td>\n",
       "    </tr>\n",
       "    <tr>\n",
       "      <th>1</th>\n",
       "      <td>31776450</td>\n",
       "      <td>5</td>\n",
       "      <td>12393</td>\n",
       "      <td>15</td>\n",
       "      <td>213</td>\n",
       "      <td>111</td>\n",
       "      <td>1483</td>\n",
       "      <td>99</td>\n",
       "      <td>Friday</td>\n",
       "      <td>Tower Hill</td>\n",
       "      <td>Kilburn</td>\n",
       "      <td>B</td>\n",
       "    </tr>\n",
       "    <tr>\n",
       "      <th>2</th>\n",
       "      <td>6666492</td>\n",
       "      <td>-1</td>\n",
       "      <td>12393</td>\n",
       "      <td>15</td>\n",
       "      <td>76</td>\n",
       "      <td>-1</td>\n",
       "      <td>1126</td>\n",
       "      <td>10</td>\n",
       "      <td>Friday</td>\n",
       "      <td>Fulham Broadway</td>\n",
       "      <td>Unknown</td>\n",
       "      <td>C</td>\n",
       "    </tr>\n",
       "    <tr>\n",
       "      <th>3</th>\n",
       "      <td>58927301</td>\n",
       "      <td>-1</td>\n",
       "      <td>12393</td>\n",
       "      <td>15</td>\n",
       "      <td>158</td>\n",
       "      <td>-1</td>\n",
       "      <td>1333</td>\n",
       "      <td>12</td>\n",
       "      <td>Friday</td>\n",
       "      <td>Perivale</td>\n",
       "      <td>Unknown</td>\n",
       "      <td>C</td>\n",
       "    </tr>\n",
       "    <tr>\n",
       "      <th>4</th>\n",
       "      <td>23724328</td>\n",
       "      <td>-1</td>\n",
       "      <td>12393</td>\n",
       "      <td>15</td>\n",
       "      <td>193</td>\n",
       "      <td>-1</td>\n",
       "      <td>1021</td>\n",
       "      <td>9</td>\n",
       "      <td>Friday</td>\n",
       "      <td>South Kensington</td>\n",
       "      <td>Unknown</td>\n",
       "      <td>D</td>\n",
       "    </tr>\n",
       "  </tbody>\n",
       "</table>\n",
       "</div>"
      ],
      "text/plain": [
       "   PRESTIGEID  PPTPASSENGERAGEKEY  DAYKEY  CARDTYPEKEY  \\\n",
       "0    11170717                  -1   12393           15   \n",
       "1    31776450                   5   12393           15   \n",
       "2     6666492                  -1   12393           15   \n",
       "3    58927301                  -1   12393           15   \n",
       "4    23724328                  -1   12393           15   \n",
       "\n",
       "   STATIONOFFIRSTENTRYKEY  STATIONOFEXITKEY  TRANSACTIONTIME  Timeblock  \\\n",
       "0                     247                -1              896          8   \n",
       "1                     213               111             1483         99   \n",
       "2                      76                -1             1126         10   \n",
       "3                     158                -1             1333         12   \n",
       "4                     193                -1             1021          9   \n",
       "\n",
       "  Day of the Week  Station of Entry Station of Exit Supergroup  \n",
       "0          Friday          Woodford         Unknown          C  \n",
       "1          Friday        Tower Hill         Kilburn          B  \n",
       "2          Friday   Fulham Broadway         Unknown          C  \n",
       "3          Friday          Perivale         Unknown          C  \n",
       "4          Friday  South Kensington         Unknown          D  "
      ]
     },
     "execution_count": 49,
     "metadata": {},
     "output_type": "execute_result"
    }
   ],
   "source": [
    "tflfinal_df.head()"
   ]
  },
  {
   "cell_type": "code",
   "execution_count": null,
   "metadata": {
    "collapsed": true
   },
   "outputs": [],
   "source": []
  },
  {
   "cell_type": "markdown",
   "metadata": {
    "collapsed": true
   },
   "source": [
    "### Get travel patterns of each Supergroup:"
   ]
  },
  {
   "cell_type": "code",
   "execution_count": null,
   "metadata": {
    "collapsed": true
   },
   "outputs": [],
   "source": [
    "# The purpose of this section is to determine the travel behaviour (including most frequently used stations, most frequent\n",
    "# travel times throughout the day, and most frequent days travelled throughout the week) of each Supergroup\n"
   ]
  },
  {
   "cell_type": "code",
   "execution_count": 298,
   "metadata": {
    "collapsed": true
   },
   "outputs": [],
   "source": [
    "# Get the frequency distribution of journeys travelled on each day of the week categorized by Supergroup\n",
    "\n",
    "supergroup_day = tflfinal_df.groupby(['Supergroup', 'Day of the Week']).size()"
   ]
  },
  {
   "cell_type": "code",
   "execution_count": 301,
   "metadata": {
    "collapsed": false
   },
   "outputs": [],
   "source": [
    "# Save the above in an output file\n",
    "\n",
    "supergroup_day.to_csv(\"Supergroup_day.csv\", sep = '\\t')"
   ]
  },
  {
   "cell_type": "code",
   "execution_count": 225,
   "metadata": {
    "collapsed": false
   },
   "outputs": [
    {
     "data": {
      "text/plain": [
       "Supergroup  Day of the Week\n",
       "A           Friday               6751\n",
       "            Monday               5769\n",
       "            Saturday             2726\n",
       "            Sunday               1035\n",
       "            Thursday             6592\n",
       "            Tuesday              6592\n",
       "            Wednesday            6551\n",
       "B           Friday              97951\n",
       "            Monday              83109\n",
       "            Saturday            43853\n",
       "            Sunday              19055\n",
       "            Thursday            97033\n",
       "            Tuesday             94594\n",
       "            Wednesday           95246\n",
       "C           Friday              46052\n",
       "            Monday              39087\n",
       "            Saturday            18116\n",
       "            Sunday               7253\n",
       "            Thursday            45026\n",
       "            Tuesday             44153\n",
       "            Wednesday           44590\n",
       "D           Friday             347786\n",
       "            Monday             286337\n",
       "            Saturday           158042\n",
       "            Sunday              68420\n",
       "            Thursday           341812\n",
       "            Tuesday            327455\n",
       "            Wednesday          335218\n",
       "E           Friday              89324\n",
       "            Monday              75061\n",
       "                                ...  \n",
       "            Tuesday             85449\n",
       "            Wednesday           85597\n",
       "F           Friday              57663\n",
       "            Monday              48117\n",
       "            Saturday            25589\n",
       "            Sunday              11135\n",
       "            Thursday            57166\n",
       "            Tuesday             55136\n",
       "            Wednesday           55563\n",
       "G           Friday              99082\n",
       "            Monday              84164\n",
       "            Saturday            46524\n",
       "            Sunday              20879\n",
       "            Thursday            96224\n",
       "            Tuesday             94973\n",
       "            Wednesday           94382\n",
       "H           Friday               3628\n",
       "            Monday               3210\n",
       "            Saturday             1218\n",
       "            Sunday                399\n",
       "            Thursday             3712\n",
       "            Tuesday              3707\n",
       "            Wednesday            3669\n",
       "X           Friday              12767\n",
       "            Monday              10724\n",
       "            Saturday             4217\n",
       "            Sunday               1477\n",
       "            Thursday            12822\n",
       "            Tuesday             12539\n",
       "            Wednesday           12403\n",
       "dtype: int64"
      ]
     },
     "execution_count": 225,
     "metadata": {},
     "output_type": "execute_result"
    }
   ],
   "source": [
    "# Show the frequency distribution of journeys travelled on each day of the week categorized by Supergroup\n",
    "\n",
    "tflfinal_df.groupby(['Supergroup', 'Day of the Week']).size()"
   ]
  },
  {
   "cell_type": "code",
   "execution_count": 302,
   "metadata": {
    "collapsed": true
   },
   "outputs": [],
   "source": [
    "# Get the frequency distribution of journeys travelled during each time interval (timeblock) in a 24-hour day categorized by \n",
    "# Supergroup\n",
    "\n",
    "supergroup_time = tflfinal_df.groupby(['Supergroup', 'Timeblock']).size()"
   ]
  },
  {
   "cell_type": "code",
   "execution_count": 303,
   "metadata": {
    "collapsed": true
   },
   "outputs": [],
   "source": [
    "# Save the above in an output file\n",
    "\n",
    "supergroup_time.to_csv(\"Supergroup_time.csv\", sep = '\\t')"
   ]
  },
  {
   "cell_type": "code",
   "execution_count": 227,
   "metadata": {
    "collapsed": false
   },
   "outputs": [
    {
     "data": {
      "text/plain": [
       "Supergroup  Timeblock\n",
       "A           2                1\n",
       "            3              871\n",
       "            4             7295\n",
       "            5             7720\n",
       "            6             3601\n",
       "            7             3099\n",
       "            8             3295\n",
       "            9             4531\n",
       "            10            3243\n",
       "            11            1387\n",
       "            12             845\n",
       "            99             128\n",
       "B           1                7\n",
       "            2                8\n",
       "            3             2723\n",
       "            4            39370\n",
       "            5            83976\n",
       "            6            42693\n",
       "            7            47393\n",
       "            8            55650\n",
       "            9            94741\n",
       "            10           87828\n",
       "            11           42902\n",
       "            12           28375\n",
       "            99            5175\n",
       "C           1                3\n",
       "            2                4\n",
       "            3             2929\n",
       "            4            41259\n",
       "            5            56788\n",
       "                         ...  \n",
       "G           8            51354\n",
       "            9            75142\n",
       "            10           61475\n",
       "            11           29859\n",
       "            12           20755\n",
       "            99            3780\n",
       "H           3              253\n",
       "            4             3773\n",
       "            5             5061\n",
       "            6             1773\n",
       "            7             1655\n",
       "            8             1845\n",
       "            9             2502\n",
       "            10            1583\n",
       "            11             615\n",
       "            12             411\n",
       "            99              72\n",
       "X           1                1\n",
       "            2                2\n",
       "            3              581\n",
       "            4            12388\n",
       "            5            16891\n",
       "            6             5745\n",
       "            7             4858\n",
       "            8             5926\n",
       "            9             9139\n",
       "            10            6892\n",
       "            11            2414\n",
       "            12            1779\n",
       "            99             333\n",
       "dtype: int64"
      ]
     },
     "execution_count": 227,
     "metadata": {},
     "output_type": "execute_result"
    }
   ],
   "source": [
    "# Show the frequency distribution of journeys travelled during each time interval (timeblock) in a 24-hour day categorized by \n",
    "# Supergroup\n",
    "\n",
    "tflfinal_df.groupby(['Supergroup', 'Timeblock']).size()"
   ]
  },
  {
   "cell_type": "code",
   "execution_count": 289,
   "metadata": {
    "collapsed": true
   },
   "outputs": [],
   "source": [
    "# Get the frequency distribution of journeys commencing at each station categorized by Supergroup\n",
    "\n",
    "# Source: https://stackoverflow.com/questions/35364601/group-by-and-find-top-n-value-counts-pandas\n",
    "\n",
    "s_entry = tflfinal_df['Station of Entry'].groupby(tflfinal_df['Supergroup']).value_counts()"
   ]
  },
  {
   "cell_type": "code",
   "execution_count": 291,
   "metadata": {
    "collapsed": false
   },
   "outputs": [
    {
     "name": "stdout",
     "output_type": "stream",
     "text": [
      "Supergroup  Supergroup  Station of Entry    \n",
      "A           A           Dagenham Heathway        10120\n",
      "                        Becontree                 6404\n",
      "                        Elm Park                  5530\n",
      "                        Dagenham East             4636\n",
      "                        Ruislip Gardens           1894\n",
      "B           B           Bond Street              68102\n",
      "                        Warren Street            32060\n",
      "                        Mile End                 30659\n",
      "                        Barking                  27160\n",
      "                        Whitechapel              26161\n",
      "C           C           Woodford                 11652\n",
      "                        Gants Hill               11192\n",
      "                        Newbury Park             10005\n",
      "                        Gunnersbury               9729\n",
      "                        Northolt                  8888\n",
      "D           D           Oxford Circus           127371\n",
      "                        Stratford                91850\n",
      "                        Piccadilly Circus        66066\n",
      "                        Tottenham Court Road     61256\n",
      "                        Holborn                  59320\n",
      "E           E           Ealing Broadway          31774\n",
      "                        North Greenwich          31464\n",
      "                        Camden Town              29254\n",
      "                        Canada Water             22664\n",
      "                        Wood Green               21585\n",
      "F           F           Westminster              28401\n",
      "                        Notting Hill Gate        24953\n",
      "                        Tower Hill               23331\n",
      "                        Barbican                 16829\n",
      "                        Barons Court             12260\n",
      "G           G           Walthamstow Central      35611\n",
      "                        Seven Sisters            32844\n",
      "                        East Ham                 26577\n",
      "                        Wembley Park             26077\n",
      "                        Leyton                   23097\n",
      "H           H           Pinner                    4461\n",
      "                        Hornchurch                3827\n",
      "                        West Ruislip              2585\n",
      "                        Upminster Bridge          2288\n",
      "                        Ickenham                  2186\n",
      "X           X           Highgate                  9952\n",
      "                        Epping                    5873\n",
      "                        Loughton                  5502\n",
      "                        Rickmansworth             4628\n",
      "                        Debden                    4575\n",
      "Name: Station of Entry, dtype: int64\n"
     ]
    }
   ],
   "source": [
    "# Show the frequency distribution of journeys commencing at the five most frequently used stations of entry for each Supergroup\n",
    "\n",
    "# Source: https://stackoverflow.com/questions/35364601/group-by-and-find-top-n-value-counts-pandas\n",
    "\n",
    "print s_entry.groupby(level=0).nlargest(5)"
   ]
  },
  {
   "cell_type": "code",
   "execution_count": 292,
   "metadata": {
    "collapsed": true
   },
   "outputs": [],
   "source": [
    "# Get the frequency distribution of journeys ending at each station categorized by Supergroup\n",
    "\n",
    "# Source: https://stackoverflow.com/questions/35364601/group-by-and-find-top-n-value-counts-pandas\n",
    "\n",
    "s_exit = tflfinal_df['Station of Exit'].groupby(tflfinal_df['Supergroup']).value_counts()"
   ]
  },
  {
   "cell_type": "code",
   "execution_count": 297,
   "metadata": {
    "collapsed": false
   },
   "outputs": [
    {
     "name": "stdout",
     "output_type": "stream",
     "text": [
      "Supergroup  Supergroup  Station of Exit     \n",
      "A           A           Unknown                   21737\n",
      "                        Barking                    1380\n",
      "                        Dagenham Heathway          1362\n",
      "                        Becontree                   946\n",
      "                        Elm Park                    735\n",
      "                        Dagenham East               646\n",
      "B           B           Unknown                  331832\n",
      "                        Bond Street                7473\n",
      "                        Oxford Circus              7329\n",
      "                        Southwark                  5204\n",
      "                        Stratford                  5049\n",
      "                        Mile End                   4756\n",
      "C           C           Unknown                  147351\n",
      "                        Stratford                  2663\n",
      "                        Oxford Circus              2466\n",
      "                        Holborn                    1860\n",
      "                        Woodford                   1726\n",
      "                        Uxbridge                   1697\n",
      "D           D           Unknown                 1191628\n",
      "                        Oxford Circus             27162\n",
      "                        Stratford                 16022\n",
      "                        Piccadilly Circus         14983\n",
      "                        Holborn                   13586\n",
      "                        South Kensington          13034\n",
      "E           E           Unknown                  298249\n",
      "                        Oxford Circus              6836\n",
      "                        Leicester Square           4683\n",
      "                        Camden Town                4586\n",
      "                        Tottenham Court Road       4205\n",
      "                        Bond Street                3927\n",
      "F           F           Unknown                  191482\n",
      "                        Oxford Circus              3927\n",
      "                        Westminster                2971\n",
      "                        South Kensington           2752\n",
      "                        Piccadilly Circus          2750\n",
      "                        Tower Hill                 2699\n",
      "G           G           Unknown                  326836\n",
      "                        Oxford Circus              8109\n",
      "                        Walthamstow Central        5601\n",
      "                        Seven Sisters              5299\n",
      "                        Stratford                  5101\n",
      "                        Wembley Park               4561\n",
      "H           H           Unknown                   11825\n",
      "                        Hornchurch                  347\n",
      "                        Uxbridge                    289\n",
      "                        Pinner                      284\n",
      "                        Barking                     266\n",
      "                        Upminster Bridge            262\n",
      "X           X           Unknown                   40754\n",
      "                        Highgate                   1083\n",
      "                        Stratford                  1040\n",
      "                        Oxford Circus              1006\n",
      "                        Bank                        849\n",
      "                        Epping                      789\n",
      "Name: Station of Exit, dtype: int64\n"
     ]
    }
   ],
   "source": [
    "# Show the frequency distribution of journeys ending at the five most frequently used stations of exit for each Supergroup\n",
    "\n",
    "# Source: https://stackoverflow.com/questions/35364601/group-by-and-find-top-n-value-counts-pandas\n",
    "\n",
    "print s_exit.groupby(level=0).nlargest(6)"
   ]
  },
  {
   "cell_type": "code",
   "execution_count": null,
   "metadata": {
    "collapsed": true
   },
   "outputs": [],
   "source": []
  }
 ],
 "metadata": {
  "anaconda-cloud": {},
  "kernelspec": {
   "display_name": "Python [conda root]",
   "language": "python",
   "name": "conda-root-py"
  },
  "language_info": {
   "codemirror_mode": {
    "name": "ipython",
    "version": 2
   },
   "file_extension": ".py",
   "mimetype": "text/x-python",
   "name": "python",
   "nbconvert_exporter": "python",
   "pygments_lexer": "ipython2",
   "version": "2.7.12"
  }
 },
 "nbformat": 4,
 "nbformat_minor": 1
}
